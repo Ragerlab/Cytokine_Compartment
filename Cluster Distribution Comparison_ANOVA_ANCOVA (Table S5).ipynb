{
 "cells": [
  {
   "cell_type": "code",
   "execution_count": 1,
   "metadata": {},
   "outputs": [
    {
     "name": "stderr",
     "output_type": "stream",
     "text": [
      "Loading required package: ggplot2\n",
      "\n",
      "Welcome! Want to learn more? See two factoextra-related books at https://goo.gl/ve3WBa\n",
      "\n",
      "Loading required package: randomForest\n",
      "\n",
      "randomForest 4.6-14\n",
      "\n",
      "Type rfNews() to see new features/changes/bug fixes.\n",
      "\n",
      "\n",
      "Attaching package: ‘randomForest’\n",
      "\n",
      "\n",
      "The following object is masked from ‘package:ggplot2’:\n",
      "\n",
      "    margin\n",
      "\n",
      "\n",
      "Loading required package: foreach\n",
      "\n",
      "Loading required package: itertools\n",
      "\n",
      "Loading required package: iterators\n",
      "\n",
      "── \u001b[1mAttaching packages\u001b[22m ─────────────────────────────────────── tidyverse 1.3.0 ──\n",
      "\n",
      "\u001b[32m✔\u001b[39m \u001b[34mtibble \u001b[39m 3.0.3     \u001b[32m✔\u001b[39m \u001b[34mdplyr  \u001b[39m 1.0.2\n",
      "\u001b[32m✔\u001b[39m \u001b[34mtidyr  \u001b[39m 1.1.2     \u001b[32m✔\u001b[39m \u001b[34mstringr\u001b[39m 1.4.0\n",
      "\u001b[32m✔\u001b[39m \u001b[34mreadr  \u001b[39m 1.3.1     \u001b[32m✔\u001b[39m \u001b[34mforcats\u001b[39m 0.5.0\n",
      "\u001b[32m✔\u001b[39m \u001b[34mpurrr  \u001b[39m 0.3.4     \n",
      "\n",
      "── \u001b[1mConflicts\u001b[22m ────────────────────────────────────────── tidyverse_conflicts() ──\n",
      "\u001b[31m✖\u001b[39m \u001b[34mpurrr\u001b[39m::\u001b[32maccumulate()\u001b[39m    masks \u001b[34mforeach\u001b[39m::accumulate()\n",
      "\u001b[31m✖\u001b[39m \u001b[34mdplyr\u001b[39m::\u001b[32mcombine()\u001b[39m       masks \u001b[34mrandomForest\u001b[39m::combine()\n",
      "\u001b[31m✖\u001b[39m \u001b[34mdplyr\u001b[39m::\u001b[32mfilter()\u001b[39m        masks \u001b[34mstats\u001b[39m::filter()\n",
      "\u001b[31m✖\u001b[39m \u001b[34mdplyr\u001b[39m::\u001b[32mlag()\u001b[39m           masks \u001b[34mstats\u001b[39m::lag()\n",
      "\u001b[31m✖\u001b[39m \u001b[34mrandomForest\u001b[39m::\u001b[32mmargin()\u001b[39m masks \u001b[34mggplot2\u001b[39m::margin()\n",
      "\u001b[31m✖\u001b[39m \u001b[34mpurrr\u001b[39m::\u001b[32mwhen()\u001b[39m          masks \u001b[34mforeach\u001b[39m::when()\n",
      "\n",
      "\n",
      "Attaching package: ‘janitor’\n",
      "\n",
      "\n",
      "The following objects are masked from ‘package:stats’:\n",
      "\n",
      "    chisq.test, fisher.test\n",
      "\n",
      "\n",
      "\n",
      "Attaching package: ‘reshape2’\n",
      "\n",
      "\n",
      "The following object is masked from ‘package:tidyr’:\n",
      "\n",
      "    smiths\n",
      "\n",
      "\n",
      "Loading required package: carData\n",
      "\n",
      "\n",
      "Attaching package: ‘car’\n",
      "\n",
      "\n",
      "The following object is masked from ‘package:dplyr’:\n",
      "\n",
      "    recode\n",
      "\n",
      "\n",
      "The following object is masked from ‘package:purrr’:\n",
      "\n",
      "    some\n",
      "\n",
      "\n"
     ]
    }
   ],
   "source": [
    "setwd(\"/Users/alexis/IEHS Dropbox/Rager Lab/Alexis_Payton/1_Compartment_Analysis/Expt1.3_Cluster Distribution Analyses/Input\")\n",
    "Output = ('/Users/alexis/IEHS Dropbox/Rager Lab/Alexis_Payton/1_Compartment_Analysis/Expt1.3_Cluster Distribution Analyses/Output')\n",
    "cur_date = \"112720\"\n",
    "\n",
    "library(\"readxl\")\n",
    "library(factoextra)\n",
    "library(missForest)\n",
    "#library(plyr) #this must be loaded before tidyverse\n",
    "library(tidyverse)\n",
    "library(janitor)\n",
    "library(reshape2)\n",
    "library(car) #package necessary to run anova and specify type III errors\n",
    "\n",
    "#subject characteristics\n",
    "subjectinfo <-  read.csv(\"SubjectInfo_102920.csv\")"
   ]
  },
  {
   "cell_type": "markdown",
   "metadata": {},
   "source": [
    "First obtaining the eigencytokines."
   ]
  },
  {
   "cell_type": "code",
   "execution_count": 2,
   "metadata": {},
   "outputs": [],
   "source": [
    "#### Recoding subject characteristic values  \n",
    "subjectinfo$Sex <- ifelse(subjectinfo$Sex==\"M\", 1, 0) #coding Males as 1, Females as 0\n",
    "subjectinfo$Ethnicity <- ifelse(subjectinfo$Ethnicity==\"NH\", 0, 1) #coding NH as 0, H as 1\n",
    "\n",
    "#make categorical variables factors \n",
    "subjectinfo$Race <- factor(subjectinfo$Race, levels=c(\"W\", \"AA\", \"As\", \"O\"))\n",
    "subjectinfo$Group <- factor(subjectinfo$Group, levels=c(\"NS\", \"CS\", \"Ecig\"))"
   ]
  },
  {
   "cell_type": "code",
   "execution_count": 3,
   "metadata": {},
   "outputs": [
    {
     "name": "stderr",
     "output_type": "stream",
     "text": [
      "Warning message in row_to_names(., row_number = 1):\n",
      "“Row 1 does not provide unique names. Consider running clean_names() after row_to_names().”\n",
      "Warning message:\n",
      "“The `.data` argument of `add_column()` must have unique names as of tibble 3.0.0.\n",
      "Use `.name_repair = \"minimal\"`.\n",
      "\u001b[90mThis warning is displayed once every 8 hours.\u001b[39m\n",
      "\u001b[90mCall `lifecycle::last_warnings()` to see where this warning was generated.\u001b[39m”\n"
     ]
    }
   ],
   "source": [
    "#upload cytokine data for each compartment \n",
    "ELF_cyto <- read.csv(\"ELF_NonNorm_110220.csv\")\n",
    "NLF_cyto <- read.csv(\"NLF_NonNorm_110220.csv\")\n",
    "Serum_cyto <- read.csv(\"Serum_NonNorm_110220.csv\")\n",
    "Sputum_cyto <- read.csv(\"Sputum_NonNorm_110220.csv\")\n",
    "\n",
    "#transpose cytokine data for each compartment\n",
    "ELF_cyto <- as.data.frame(t(ELF_cyto)) %>% \n",
    "  row_to_names(row_number = 1)\n",
    "NLF_cyto <- as.data.frame(t(NLF_cyto)) %>% \n",
    "  row_to_names(row_number = 1)\n",
    "Serum_cyto <- as.data.frame(t(Serum_cyto)) %>% \n",
    "  row_to_names(row_number = 1)\n",
    "Sputum_cyto <- as.data.frame(t(Sputum_cyto)) %>% \n",
    "  row_to_names(row_number = 1)\n",
    "\n",
    "#cluster assignments for each compartment \n",
    "ELF_clus <- read.csv(\"ELF_cluster_assignments.csv\")\n",
    "NLF_clus <- read.csv(\"NLF_cluster_assignments.csv\")\n",
    "Serum_clus <- read.csv(\"Serum_cluster_assignments.csv\")\n",
    "Sputum_clus <- read.csv(\"Sputum_cluster_assignments.csv\")\n",
    "\n",
    "#renaming first column, grouping and splitting by \"Cluster\" column\n",
    "ELF_clus <- ELF_clus %>% \n",
    "  dplyr::rename(Cytokine = X) %>% \n",
    "  group_by(Cluster) %>% \n",
    "  group_split\n",
    "NLF_clus <- NLF_clus %>% \n",
    "  dplyr::rename(Cytokine = X) %>% \n",
    "  group_by(Cluster) %>% \n",
    "  group_split\n",
    "Serum_clus <- Serum_clus %>% \n",
    "  dplyr::rename(Cytokine = X) %>% \n",
    "  group_by(Cluster) %>% \n",
    "  group_split\n",
    "Sputum_clus <- Sputum_clus %>% \n",
    "  dplyr::rename(Cytokine = X) %>% \n",
    "  group_by(Cluster) %>% \n",
    "  group_split\n",
    "\n",
    "#making dfs for each cluster for PCA analysis \n",
    "ELF_1 <- ELF_clus[[1]]\n",
    "ELF_2 <- ELF_clus[[2]]\n",
    "ELF_3 <- ELF_clus[[3]]\n",
    "\n",
    "NLF_1 <- NLF_clus[[1]]\n",
    "NLF_2 <- NLF_clus[[2]]\n",
    "NLF_3 <- NLF_clus[[3]]\n",
    "\n",
    "Serum_1 <- Serum_clus[[1]]\n",
    "Serum_2 <- Serum_clus[[2]]\n",
    "Serum_3 <- Serum_clus[[3]]\n",
    "\n",
    "Sputum_1 <- Sputum_clus[[1]]\n",
    "Sputum_2 <- Sputum_clus[[2]]\n",
    "Sputum_3 <- Sputum_clus[[3]]\n",
    "\n",
    "#making df with subjects' cytokine concentration data for each cluster \n",
    "ELF_1 <- ELF_cyto %>% \n",
    "  rownames_to_column(\"Cytokine\") %>% \n",
    "  filter(Cytokine %in% ELF_1$Cytokine) %>% \n",
    "  column_to_rownames(var=\"Cytokine\")\n",
    "ELF_2 <- ELF_cyto %>% \n",
    "  rownames_to_column(\"Cytokine\") %>% \n",
    "  filter(Cytokine %in% ELF_2$Cytokine) %>% \n",
    "  column_to_rownames(var=\"Cytokine\")\n",
    "ELF_3 <- ELF_cyto %>% \n",
    "  rownames_to_column(\"Cytokine\") %>% \n",
    "  filter(Cytokine %in% ELF_3$Cytokine) %>% \n",
    "  column_to_rownames(var=\"Cytokine\")\n",
    "\n",
    "NLF_1 <- NLF_cyto %>% \n",
    "  rownames_to_column(\"Cytokine\") %>% \n",
    "  filter(Cytokine %in% NLF_1$Cytokine) %>% \n",
    "  column_to_rownames(var=\"Cytokine\")\n",
    "NLF_2 <- NLF_cyto %>% \n",
    "  rownames_to_column(\"Cytokine\") %>% \n",
    "  filter(Cytokine %in% NLF_2$Cytokine) %>% \n",
    "  column_to_rownames(var=\"Cytokine\")\n",
    "NLF_3 <- NLF_cyto %>% \n",
    "  rownames_to_column(\"Cytokine\") %>% \n",
    "  filter(Cytokine %in% NLF_3$Cytokine) %>% \n",
    "  column_to_rownames(var=\"Cytokine\")\n",
    "\n",
    "Serum_1 <- Serum_cyto %>% \n",
    "  rownames_to_column(\"Cytokine\") %>% \n",
    "  filter(Cytokine %in% Serum_1$Cytokine) %>% \n",
    "  column_to_rownames(var=\"Cytokine\")\n",
    "Serum_2 <- Serum_cyto %>% \n",
    "  rownames_to_column(\"Cytokine\") %>% \n",
    "  filter(Cytokine %in% Serum_2$Cytokine) %>% \n",
    "  column_to_rownames(var=\"Cytokine\")\n",
    "Serum_3 <- Serum_cyto %>% \n",
    "  rownames_to_column(\"Cytokine\") %>% \n",
    "  filter(Cytokine %in% Serum_3$Cytokine) %>% \n",
    "  column_to_rownames(var=\"Cytokine\")\n",
    "\n",
    "Sputum_1 <- Sputum_cyto %>% \n",
    "  rownames_to_column(\"Cytokine\") %>% \n",
    "  filter(Cytokine %in% Sputum_1$Cytokine) %>% \n",
    "  column_to_rownames(var=\"Cytokine\")\n",
    "Sputum_2 <- Sputum_cyto %>% \n",
    "  rownames_to_column(\"Cytokine\") %>% \n",
    "  filter(Cytokine %in% Sputum_2$Cytokine) %>% \n",
    "  column_to_rownames(var=\"Cytokine\")\n",
    "Sputum_3 <- Sputum_cyto %>% \n",
    "  rownames_to_column(\"Cytokine\") %>% \n",
    "  filter(Cytokine %in% Sputum_3$Cytokine) %>% \n",
    "  column_to_rownames(var=\"Cytokine\")\n",
    "\n",
    "#PCA on each cluster, eigenvectors are in rotation -- PROBLEM - for some reason had to convert everything to numeric  \n",
    "pca_ELF_1 <- ELF_1 %>% \n",
    "  lapply(as.numeric) %>% \n",
    "  as.data.frame() %>% \n",
    "  prcomp()\n",
    "pca_ELF_2 <- ELF_2 %>% \n",
    "  lapply(as.numeric) %>% \n",
    "  as.data.frame() %>% \n",
    "  prcomp()\n",
    "pca_ELF_3 <- ELF_3 %>% \n",
    "  lapply(as.numeric) %>% \n",
    "  as.data.frame() %>%   \n",
    "  prcomp()\n",
    "\n",
    "pca_NLF_1 <- NLF_1 %>% \n",
    "  lapply(as.numeric) %>% \n",
    "  as.data.frame() %>% \n",
    "  prcomp()\n",
    "pca_NLF_2 <- NLF_2 %>% \n",
    "  lapply(as.numeric) %>% \n",
    "  as.data.frame() %>% \n",
    "  prcomp()\n",
    "pca_NLF_3 <- NLF_3 %>% \n",
    "  lapply(as.numeric) %>% \n",
    "  as.data.frame() %>% \n",
    "  prcomp()\n",
    "\n",
    "pca_Serum_1 <- Serum_1 %>% \n",
    "  lapply(as.numeric) %>% \n",
    "  as.data.frame() %>% \n",
    "  prcomp()\n",
    "pca_Serum_2 <- Serum_2 %>% \n",
    "  lapply(as.numeric) %>% \n",
    "  as.data.frame() %>% \n",
    "  prcomp()\n",
    "pca_Serum_3 <- Serum_3 %>% \n",
    "  lapply(as.numeric) %>% \n",
    "  as.data.frame() %>% \n",
    "  prcomp()\n",
    "\n",
    "pca_Sputum_1 <- Sputum_1 %>% \n",
    "  lapply(as.numeric) %>% \n",
    "  as.data.frame() %>% \n",
    "  prcomp()\n",
    "pca_Sputum_2 <- Sputum_2 %>% \n",
    "  lapply(as.numeric) %>% \n",
    "  as.data.frame() %>% \n",
    "  prcomp()\n",
    "pca_Sputum_3 <- Sputum_3 %>% \n",
    "  lapply(as.numeric) %>% \n",
    "  as.data.frame() %>% \n",
    "  prcomp()\n",
    "\n",
    "#eigenvector dfs of first principal component \n",
    "eigencytokines_ELF_1 <- data.frame(pca_ELF_1$rotation[,\"PC1\"])\n",
    "  colnames(eigencytokines_ELF_1)[1] <- \"Cluster1\"\n",
    "eigencytokines_ELF_2 <- data.frame(pca_ELF_2$rotation[,\"PC1\"])\n",
    "  colnames(eigencytokines_ELF_2)[1] <- \"Cluster2\"\n",
    "eigencytokines_ELF_3 <- data.frame(pca_ELF_3$rotation[,\"PC1\"])\n",
    "  colnames(eigencytokines_ELF_3)[1] <- \"Cluster3\"\n",
    "\n",
    "eigencytokines_NLF_1 <- data.frame(pca_NLF_1$rotation[,\"PC1\"])\n",
    "  colnames(eigencytokines_NLF_1)[1] <- \"Cluster1\"\n",
    "eigencytokines_NLF_2 <- data.frame(pca_NLF_2$rotation[,\"PC1\"])\n",
    "  colnames(eigencytokines_NLF_2)[1] <- \"Cluster2\"\n",
    "eigencytokines_NLF_3 <- data.frame(pca_NLF_3$rotation[,\"PC1\"])\n",
    "  colnames(eigencytokines_NLF_3)[1] <- \"Cluster3\"\n",
    "  \n",
    "eigencytokines_Serum_1 <- data.frame(pca_Serum_1$rotation[,\"PC1\"])\n",
    "  colnames(eigencytokines_Serum_1)[1] <- \"Cluster1\"\n",
    "eigencytokines_Serum_2 <- data.frame(pca_Serum_2$rotation[,\"PC1\"])\n",
    "  colnames(eigencytokines_Serum_2)[1] <- \"Cluster2\"\n",
    "eigencytokines_Serum_3 <- data.frame(pca_Serum_3$rotation[,\"PC1\"])\n",
    "  colnames(eigencytokines_Serum_3)[1] <- \"Cluster3\"\n",
    "\n",
    "eigencytokines_Sputum_1 <- data.frame(pca_Sputum_1$rotation[,\"PC1\"])\n",
    "  colnames(eigencytokines_Sputum_1)[1] <- \"Cluster1\"\n",
    "eigencytokines_Sputum_2 <- data.frame(pca_Sputum_2$rotation[,\"PC1\"])\n",
    "  colnames(eigencytokines_Sputum_2)[1] <- \"Cluster2\"\n",
    "eigencytokines_Sputum_3 <- data.frame(pca_Sputum_3$rotation[,\"PC1\"])\n",
    "  colnames(eigencytokines_Sputum_3)[1] <- \"Cluster3\"\n",
    "  \n",
    "\n",
    "#collapse all eigencytokine dfs\n",
    "eigencytokines_ELF <- cbind(eigencytokines_ELF_1, eigencytokines_ELF_2, eigencytokines_ELF_3)\n",
    "eigencytokines_NLF <- cbind(eigencytokines_NLF_1, eigencytokines_NLF_2, eigencytokines_NLF_3)\n",
    "eigencytokines_Serum <- cbind(eigencytokines_Serum_1, eigencytokines_Serum_2, eigencytokines_Serum_3)\n",
    "eigencytokines_Sputum <- cbind(eigencytokines_Sputum_1, eigencytokines_Sputum_2, eigencytokines_Sputum_3)"
   ]
  },
  {
   "cell_type": "code",
   "execution_count": 4,
   "metadata": {},
   "outputs": [],
   "source": [
    "#first pseudo log2 transforming all values and then scaling all eigencytokine dfs\n",
    "eigencytokines_ELF_scaled <- as.data.frame(scale(log2(eigencytokines_ELF + 1)))\n",
    "eigencytokines_NLF_scaled <- as.data.frame(scale(log2(eigencytokines_NLF + 1)))\n",
    "eigencytokines_Serum_scaled <- as.data.frame(scale(log2(eigencytokines_Serum + 1)))\n",
    "eigencytokines_Sputum_scaled <- as.data.frame(scale(log2(eigencytokines_Sputum + 1)))"
   ]
  },
  {
   "cell_type": "code",
   "execution_count": 5,
   "metadata": {},
   "outputs": [
    {
     "data": {
      "text/html": [
       "<table>\n",
       "<caption>A data.frame: 6 × 3</caption>\n",
       "<thead>\n",
       "\t<tr><th></th><th scope=col>Cluster1</th><th scope=col>Cluster2</th><th scope=col>Cluster3</th></tr>\n",
       "\t<tr><th></th><th scope=col>&lt;dbl&gt;</th><th scope=col>&lt;dbl&gt;</th><th scope=col>&lt;dbl&gt;</th></tr>\n",
       "</thead>\n",
       "<tbody>\n",
       "\t<tr><th scope=row>CS_15</th><td> 0.612519662</td><td> 0.8639756</td><td>-0.2964233</td></tr>\n",
       "\t<tr><th scope=row>CS_16</th><td> 0.552006718</td><td>-1.2908904</td><td> 0.2030666</td></tr>\n",
       "\t<tr><th scope=row>CS_17</th><td>-0.305139341</td><td>-1.1524781</td><td> 0.3838104</td></tr>\n",
       "\t<tr><th scope=row>CS_18</th><td>-0.008338034</td><td> 0.6456049</td><td> 0.9183615</td></tr>\n",
       "\t<tr><th scope=row>CS_19</th><td> 1.222003189</td><td>-3.4347981</td><td> 0.2108666</td></tr>\n",
       "\t<tr><th scope=row>CS_20</th><td>-1.279548544</td><td>-0.1285845</td><td> 0.3417576</td></tr>\n",
       "</tbody>\n",
       "</table>\n"
      ],
      "text/latex": [
       "A data.frame: 6 × 3\n",
       "\\begin{tabular}{r|lll}\n",
       "  & Cluster1 & Cluster2 & Cluster3\\\\\n",
       "  & <dbl> & <dbl> & <dbl>\\\\\n",
       "\\hline\n",
       "\tCS\\_15 &  0.612519662 &  0.8639756 & -0.2964233\\\\\n",
       "\tCS\\_16 &  0.552006718 & -1.2908904 &  0.2030666\\\\\n",
       "\tCS\\_17 & -0.305139341 & -1.1524781 &  0.3838104\\\\\n",
       "\tCS\\_18 & -0.008338034 &  0.6456049 &  0.9183615\\\\\n",
       "\tCS\\_19 &  1.222003189 & -3.4347981 &  0.2108666\\\\\n",
       "\tCS\\_20 & -1.279548544 & -0.1285845 &  0.3417576\\\\\n",
       "\\end{tabular}\n"
      ],
      "text/markdown": [
       "\n",
       "A data.frame: 6 × 3\n",
       "\n",
       "| <!--/--> | Cluster1 &lt;dbl&gt; | Cluster2 &lt;dbl&gt; | Cluster3 &lt;dbl&gt; |\n",
       "|---|---|---|---|\n",
       "| CS_15 |  0.612519662 |  0.8639756 | -0.2964233 |\n",
       "| CS_16 |  0.552006718 | -1.2908904 |  0.2030666 |\n",
       "| CS_17 | -0.305139341 | -1.1524781 |  0.3838104 |\n",
       "| CS_18 | -0.008338034 |  0.6456049 |  0.9183615 |\n",
       "| CS_19 |  1.222003189 | -3.4347981 |  0.2108666 |\n",
       "| CS_20 | -1.279548544 | -0.1285845 |  0.3417576 |\n",
       "\n"
      ],
      "text/plain": [
       "      Cluster1     Cluster2   Cluster3  \n",
       "CS_15  0.612519662  0.8639756 -0.2964233\n",
       "CS_16  0.552006718 -1.2908904  0.2030666\n",
       "CS_17 -0.305139341 -1.1524781  0.3838104\n",
       "CS_18 -0.008338034  0.6456049  0.9183615\n",
       "CS_19  1.222003189 -3.4347981  0.2108666\n",
       "CS_20 -1.279548544 -0.1285845  0.3417576"
      ]
     },
     "metadata": {},
     "output_type": "display_data"
    }
   ],
   "source": [
    "head(eigencytokines_NLF_scaled)"
   ]
  },
  {
   "cell_type": "markdown",
   "metadata": {},
   "source": [
    "# One-way ANOVA"
   ]
  },
  {
   "cell_type": "code",
   "execution_count": 6,
   "metadata": {},
   "outputs": [
    {
     "data": {
      "image/png": "[encoded data removed]",
      "text/plain": [
       "Plot with title “Histogram of eigencytokines_NLF_scaled$Cluster1”"
      ]
     },
     "metadata": {
      "image/png": {
       "height": 420,
       "width": 420
      }
     },
     "output_type": "display_data"
    }
   ],
   "source": [
    "#testing for normality\n",
    "hist(eigencytokines_NLF_scaled$Cluster1)"
   ]
  },
  {
   "cell_type": "code",
   "execution_count": 7,
   "metadata": {},
   "outputs": [
    {
     "name": "stderr",
     "output_type": "stream",
     "text": [
      "Joining, by = \"SubjectID\"\n",
      "\n",
      "Joining, by = \"SubjectID\"\n",
      "\n",
      "Joining, by = \"SubjectID\"\n",
      "\n",
      "Joining, by = \"SubjectID\"\n",
      "\n"
     ]
    }
   ],
   "source": [
    "#adding a col to designate smoking status \n",
    "eigen_NLF_scaled = eigencytokines_NLF_scaled %>%\n",
    "    rownames_to_column(\"SubjectID\") %>%\n",
    "    inner_join(subjectinfo) %>%\n",
    "    select(SubjectID, Cluster1, Cluster2, Cluster3, Group, Age)\n",
    "eigen_ELF_scaled = eigencytokines_ELF_scaled %>%\n",
    "    rownames_to_column(\"SubjectID\") %>%\n",
    "    inner_join(subjectinfo) %>%\n",
    "    select(SubjectID, Cluster1, Cluster2, Cluster3, Group, Age)\n",
    "eigen_Sputum_scaled = eigencytokines_Sputum_scaled %>%\n",
    "    rownames_to_column(\"SubjectID\") %>%\n",
    "    inner_join(subjectinfo) %>%\n",
    "    select(SubjectID, Cluster1, Cluster2, Cluster3, Group, Age)\n",
    "eigen_Serum_scaled = eigencytokines_Serum_scaled %>%\n",
    "    rownames_to_column(\"SubjectID\") %>%\n",
    "    inner_join(subjectinfo) %>%\n",
    "    select(SubjectID, Cluster1, Cluster2, Cluster3, Group, Age)"
   ]
  },
  {
   "cell_type": "code",
   "execution_count": 8,
   "metadata": {},
   "outputs": [
    {
     "data": {
      "text/html": [
       "<table>\n",
       "<caption>A data.frame: 6 × 6</caption>\n",
       "<thead>\n",
       "\t<tr><th></th><th scope=col>SubjectID</th><th scope=col>Cluster1</th><th scope=col>Cluster2</th><th scope=col>Cluster3</th><th scope=col>Group</th><th scope=col>Age</th></tr>\n",
       "\t<tr><th></th><th scope=col>&lt;chr&gt;</th><th scope=col>&lt;dbl&gt;</th><th scope=col>&lt;dbl&gt;</th><th scope=col>&lt;dbl&gt;</th><th scope=col>&lt;fct&gt;</th><th scope=col>&lt;int&gt;</th></tr>\n",
       "</thead>\n",
       "<tbody>\n",
       "\t<tr><th scope=row>1</th><td>CS_15</td><td> 0.612519662</td><td> 0.8639756</td><td>-0.2964233</td><td>CS</td><td>34</td></tr>\n",
       "\t<tr><th scope=row>2</th><td>CS_16</td><td> 0.552006718</td><td>-1.2908904</td><td> 0.2030666</td><td>CS</td><td>33</td></tr>\n",
       "\t<tr><th scope=row>3</th><td>CS_17</td><td>-0.305139341</td><td>-1.1524781</td><td> 0.3838104</td><td>CS</td><td>24</td></tr>\n",
       "\t<tr><th scope=row>4</th><td>CS_18</td><td>-0.008338034</td><td> 0.6456049</td><td> 0.9183615</td><td>CS</td><td>33</td></tr>\n",
       "\t<tr><th scope=row>5</th><td>CS_19</td><td> 1.222003189</td><td>-3.4347981</td><td> 0.2108666</td><td>CS</td><td>29</td></tr>\n",
       "\t<tr><th scope=row>6</th><td>CS_20</td><td>-1.279548544</td><td>-0.1285845</td><td> 0.3417576</td><td>CS</td><td>25</td></tr>\n",
       "</tbody>\n",
       "</table>\n"
      ],
      "text/latex": [
       "A data.frame: 6 × 6\n",
       "\\begin{tabular}{r|llllll}\n",
       "  & SubjectID & Cluster1 & Cluster2 & Cluster3 & Group & Age\\\\\n",
       "  & <chr> & <dbl> & <dbl> & <dbl> & <fct> & <int>\\\\\n",
       "\\hline\n",
       "\t1 & CS\\_15 &  0.612519662 &  0.8639756 & -0.2964233 & CS & 34\\\\\n",
       "\t2 & CS\\_16 &  0.552006718 & -1.2908904 &  0.2030666 & CS & 33\\\\\n",
       "\t3 & CS\\_17 & -0.305139341 & -1.1524781 &  0.3838104 & CS & 24\\\\\n",
       "\t4 & CS\\_18 & -0.008338034 &  0.6456049 &  0.9183615 & CS & 33\\\\\n",
       "\t5 & CS\\_19 &  1.222003189 & -3.4347981 &  0.2108666 & CS & 29\\\\\n",
       "\t6 & CS\\_20 & -1.279548544 & -0.1285845 &  0.3417576 & CS & 25\\\\\n",
       "\\end{tabular}\n"
      ],
      "text/markdown": [
       "\n",
       "A data.frame: 6 × 6\n",
       "\n",
       "| <!--/--> | SubjectID &lt;chr&gt; | Cluster1 &lt;dbl&gt; | Cluster2 &lt;dbl&gt; | Cluster3 &lt;dbl&gt; | Group &lt;fct&gt; | Age &lt;int&gt; |\n",
       "|---|---|---|---|---|---|---|\n",
       "| 1 | CS_15 |  0.612519662 |  0.8639756 | -0.2964233 | CS | 34 |\n",
       "| 2 | CS_16 |  0.552006718 | -1.2908904 |  0.2030666 | CS | 33 |\n",
       "| 3 | CS_17 | -0.305139341 | -1.1524781 |  0.3838104 | CS | 24 |\n",
       "| 4 | CS_18 | -0.008338034 |  0.6456049 |  0.9183615 | CS | 33 |\n",
       "| 5 | CS_19 |  1.222003189 | -3.4347981 |  0.2108666 | CS | 29 |\n",
       "| 6 | CS_20 | -1.279548544 | -0.1285845 |  0.3417576 | CS | 25 |\n",
       "\n"
      ],
      "text/plain": [
       "  SubjectID Cluster1     Cluster2   Cluster3   Group Age\n",
       "1 CS_15      0.612519662  0.8639756 -0.2964233 CS    34 \n",
       "2 CS_16      0.552006718 -1.2908904  0.2030666 CS    33 \n",
       "3 CS_17     -0.305139341 -1.1524781  0.3838104 CS    24 \n",
       "4 CS_18     -0.008338034  0.6456049  0.9183615 CS    33 \n",
       "5 CS_19      1.222003189 -3.4347981  0.2108666 CS    29 \n",
       "6 CS_20     -1.279548544 -0.1285845  0.3417576 CS    25 "
      ]
     },
     "metadata": {},
     "output_type": "display_data"
    }
   ],
   "source": [
    "head(eigen_NLF_scaled)"
   ]
  },
  {
   "cell_type": "code",
   "execution_count": 9,
   "metadata": {},
   "outputs": [
    {
     "data": {
      "text/html": [
       "<table>\n",
       "<caption>A matrix: 3 × 2 of type dbl</caption>\n",
       "<thead>\n",
       "\t<tr><th></th><th scope=col>CS</th><th scope=col>Ecig</th></tr>\n",
       "</thead>\n",
       "<tbody>\n",
       "\t<tr><th scope=row>NS</th><td>0</td><td>0</td></tr>\n",
       "\t<tr><th scope=row>CS</th><td>1</td><td>0</td></tr>\n",
       "\t<tr><th scope=row>Ecig</th><td>0</td><td>1</td></tr>\n",
       "</tbody>\n",
       "</table>\n"
      ],
      "text/latex": [
       "A matrix: 3 × 2 of type dbl\n",
       "\\begin{tabular}{r|ll}\n",
       "  & CS & Ecig\\\\\n",
       "\\hline\n",
       "\tNS & 0 & 0\\\\\n",
       "\tCS & 1 & 0\\\\\n",
       "\tEcig & 0 & 1\\\\\n",
       "\\end{tabular}\n"
      ],
      "text/markdown": [
       "\n",
       "A matrix: 3 × 2 of type dbl\n",
       "\n",
       "| <!--/--> | CS | Ecig |\n",
       "|---|---|---|\n",
       "| NS | 0 | 0 |\n",
       "| CS | 1 | 0 |\n",
       "| Ecig | 0 | 1 |\n",
       "\n"
      ],
      "text/plain": [
       "     CS Ecig\n",
       "NS   0  0   \n",
       "CS   1  0   \n",
       "Ecig 0  1   "
      ]
     },
     "metadata": {},
     "output_type": "display_data"
    }
   ],
   "source": [
    "#now I can run the anova comparing each group to one another within each cluster\n",
    "#contrasts show what compartments are being compared in anova\n",
    "#these comparisons aren't what we want so I changed them in the function below\n",
    "contrasts(eigen_NLF_scaled$Group)"
   ]
  },
  {
   "cell_type": "markdown",
   "metadata": {},
   "source": [
    "                 Table of Contrasts\n",
    ">                   NS    | CS  |  Ecig  |  Sum\n",
    ">     Contrast 1 |  -1    |  1  |   0    |   0\n",
    ">     Contrast 2 |  -1    |  0  |   1    |   0\n",
    "\n",
    "> - Contrast 1: compares NS to CS\n",
    "> - Contrast 2: compares NS to Ecig"
   ]
  },
  {
   "cell_type": "code",
   "execution_count": 10,
   "metadata": {},
   "outputs": [],
   "source": [
    "get_anova1 = function(scaled_df){\n",
    "    contrasts(scaled_df$Group) = cbind(c(-1,1,0),c(-1,0,1)) #meaning is specified above\n",
    "    anova = aov(Cluster1~Group, data = scaled_df)\n",
    "    return(anova)\n",
    "}\n",
    "get_anova2 = function(scaled_df){\n",
    "    contrasts(scaled_df$Group) = cbind(c(-1,1,0),c(-1,0,1)) #meaning is specified above\n",
    "    anova = aov(Cluster2~Group, data = scaled_df)\n",
    "    return(anova)\n",
    "}\n",
    "\n",
    "get_anova3 = function(scaled_df){\n",
    "    contrasts(scaled_df$Group) = cbind(c(-1,1,0),c(-1,0,1)) #meaning is specified above\n",
    "    anova = aov(Cluster3~Group, data = scaled_df)\n",
    "    return(anova)\n",
    "}\n",
    "\n",
    "\n",
    "#calling fn\n",
    "NLF_Cluster1_anova = get_anova1(eigen_NLF_scaled)\n",
    "NLF_Cluster2_anova = get_anova2(eigen_NLF_scaled)\n",
    "NLF_Cluster3_anova = get_anova3(eigen_NLF_scaled)\n",
    "ELF_Cluster1_anova = get_anova1(eigen_ELF_scaled)\n",
    "ELF_Cluster2_anova = get_anova2(eigen_ELF_scaled)\n",
    "ELF_Cluster3_anova = get_anova3(eigen_ELF_scaled)\n",
    "Sputum_Cluster1_anova = get_anova1(eigen_Sputum_scaled)\n",
    "Sputum_Cluster2_anova = get_anova2(eigen_Sputum_scaled)\n",
    "Sputum_Cluster3_anova = get_anova3(eigen_Sputum_scaled)\n",
    "Serum_Cluster1_anova = get_anova1(eigen_Serum_scaled)\n",
    "Serum_Cluster2_anova = get_anova2(eigen_Serum_scaled)\n",
    "Serum_Cluster3_anova = get_anova3(eigen_Serum_scaled)"
   ]
  },
  {
   "cell_type": "code",
   "execution_count": 11,
   "metadata": {},
   "outputs": [
    {
     "data": {
      "text/plain": [
       "            Df Sum Sq Mean Sq F value Pr(>F)\n",
       "Group        2   1.42  0.7094     0.7  0.503\n",
       "Residuals   41  41.58  1.0142               "
      ]
     },
     "metadata": {},
     "output_type": "display_data"
    },
    {
     "data": {
      "text/plain": [
       "            Df Sum Sq Mean Sq F value Pr(>F)\n",
       "Group        2   1.49  0.7444   0.735  0.486\n",
       "Residuals   41  41.51  1.0125               "
      ]
     },
     "metadata": {},
     "output_type": "display_data"
    },
    {
     "data": {
      "text/plain": [
       "            Df Sum Sq Mean Sq F value Pr(>F)\n",
       "Group        2   0.95  0.4759   0.464  0.632\n",
       "Residuals   41  42.05  1.0256               "
      ]
     },
     "metadata": {},
     "output_type": "display_data"
    },
    {
     "data": {
      "text/plain": [
       "            Df Sum Sq Mean Sq F value Pr(>F)\n",
       "Group        2    1.4  0.7007   0.691  0.507\n",
       "Residuals   41   41.6  1.0146               "
      ]
     },
     "metadata": {},
     "output_type": "display_data"
    },
    {
     "data": {
      "text/plain": [
       "            Df Sum Sq Mean Sq F value Pr(>F)\n",
       "Group        2    0.6  0.2992   0.289   0.75\n",
       "Residuals   41   42.4  1.0342               "
      ]
     },
     "metadata": {},
     "output_type": "display_data"
    },
    {
     "data": {
      "text/plain": [
       "            Df Sum Sq Mean Sq F value Pr(>F)  \n",
       "Group        2    5.7  2.8495   3.132 0.0542 .\n",
       "Residuals   41   37.3  0.9098                 \n",
       "---\n",
       "Signif. codes:  0 ‘***’ 0.001 ‘**’ 0.01 ‘*’ 0.05 ‘.’ 0.1 ‘ ’ 1"
      ]
     },
     "metadata": {},
     "output_type": "display_data"
    },
    {
     "data": {
      "text/plain": [
       "            Df Sum Sq Mean Sq F value Pr(>F)\n",
       "Group        2    0.8  0.4007   0.389   0.68\n",
       "Residuals   41   42.2  1.0292               "
      ]
     },
     "metadata": {},
     "output_type": "display_data"
    },
    {
     "data": {
      "text/plain": [
       "            Df Sum Sq Mean Sq F value Pr(>F)\n",
       "Group        2   2.52  1.2621   1.278  0.289\n",
       "Residuals   41  40.48  0.9872               "
      ]
     },
     "metadata": {},
     "output_type": "display_data"
    },
    {
     "data": {
      "text/plain": [
       "            Df Sum Sq Mean Sq F value Pr(>F)\n",
       "Group        2   0.11  0.0552   0.053  0.949\n",
       "Residuals   41  42.89  1.0461               "
      ]
     },
     "metadata": {},
     "output_type": "display_data"
    },
    {
     "data": {
      "text/plain": [
       "            Df Sum Sq Mean Sq F value Pr(>F)\n",
       "Group        2   0.67  0.3365    0.32  0.728\n",
       "Residuals   40  42.08  1.0521               "
      ]
     },
     "metadata": {},
     "output_type": "display_data"
    },
    {
     "data": {
      "text/plain": [
       "            Df Sum Sq Mean Sq F value Pr(>F)\n",
       "Group        2   0.67  0.3348   0.335  0.718\n",
       "Residuals   40  40.01  1.0002               "
      ]
     },
     "metadata": {},
     "output_type": "display_data"
    },
    {
     "data": {
      "text/plain": [
       "            Df Sum Sq Mean Sq F value Pr(>F)\n",
       "Group        2   0.53  0.2635   0.248  0.781\n",
       "Residuals   40  42.43  1.0608               "
      ]
     },
     "metadata": {},
     "output_type": "display_data"
    }
   ],
   "source": [
    "#viewing results\n",
    "summary(NLF_Cluster1_anova)\n",
    "summary(NLF_Cluster2_anova)\n",
    "summary(NLF_Cluster3_anova)\n",
    "summary(ELF_Cluster1_anova)\n",
    "summary(ELF_Cluster2_anova)\n",
    "summary(ELF_Cluster3_anova) #this was the only that was even close to being significant\n",
    "summary(Sputum_Cluster1_anova)\n",
    "summary(Sputum_Cluster2_anova)\n",
    "summary(Sputum_Cluster3_anova)\n",
    "summary(Serum_Cluster1_anova)\n",
    "summary(Serum_Cluster2_anova)\n",
    "summary(Serum_Cluster3_anova)"
   ]
  },
  {
   "cell_type": "code",
   "execution_count": 12,
   "metadata": {},
   "outputs": [
    {
     "name": "stderr",
     "output_type": "stream",
     "text": [
      "Loading required package: mvtnorm\n",
      "\n",
      "Warning message:\n",
      "“package ‘mvtnorm’ was built under R version 4.0.3”\n",
      "Loading required package: survival\n",
      "\n",
      "Loading required package: TH.data\n",
      "\n",
      "Loading required package: MASS\n",
      "\n",
      "\n",
      "Attaching package: ‘MASS’\n",
      "\n",
      "\n",
      "The following object is masked from ‘package:dplyr’:\n",
      "\n",
      "    select\n",
      "\n",
      "\n",
      "\n",
      "Attaching package: ‘TH.data’\n",
      "\n",
      "\n",
      "The following object is masked from ‘package:MASS’:\n",
      "\n",
      "    geyser\n",
      "\n",
      "\n"
     ]
    }
   ],
   "source": [
    "#need this for glht fn\n",
    "library(multcomp)"
   ]
  },
  {
   "cell_type": "code",
   "execution_count": null,
   "metadata": {},
   "outputs": [],
   "source": [
    "# Tukey's post hoc\n",
    "# NLF_Cluster1_tukey_anova = TukeyHSD(NLF_Cluster1_anova, type = 'III')\n",
    "# NLF_Cluster2_tukey_anova = TukeyHSD(NLF_Cluster2_anova, type = 'III')\n",
    "# NLF_Cluster3_tukey_anova = TukeyHSD(NLF_Cluster3_anova, type = 'III')\n",
    "# ELF_Cluster1_tukey_anova = TukeyHSD(ELF_Cluster1_anova, type = 'III')\n",
    "# ELF_Cluster2_tukey_anova = TukeyHSD(ELF_Cluster2_anova, type = 'III')\n",
    "# ELF_Cluster3_tukey_anova = TukeyHSD(ELF_Cluster3_anova, type = 'III')\n",
    "# Sputum_Cluster1_tukey_anova = TukeyHSD(Sputum_Cluster1_anova, type = 'III')\n",
    "# Sputum_Cluster2_tukey_anova = TukeyHSD(Sputum_Cluster2_anova, type = 'III')\n",
    "# Sputum_Cluster3_tukey_anova = TukeyHSD(Sputum_Cluster3_anova, type = 'III')\n",
    "# Serum_Cluster1_tukey_anova = TukeyHSD(Serum_Cluster1_anova, type = 'III')\n",
    "# Serum_Cluster2_tukey_anova = TukeyHSD(Serum_Cluster2_anova, type = 'III')\n",
    "# Serum_Cluster3_tukey_anova = TukeyHSD(Serum_Cluster3_anova, type = 'III')"
   ]
  },
  {
   "cell_type": "markdown",
   "metadata": {},
   "source": [
    "# ANCOVA"
   ]
  },
  {
   "cell_type": "code",
   "execution_count": 13,
   "metadata": {},
   "outputs": [],
   "source": [
    "#controlling for age\n",
    "get_ancova_age1 = function(scaled_df){\n",
    "    contrasts(scaled_df$Group) = cbind(c(-1,1,0),c(-1,0,1))#meaning is explained above\n",
    "    ancova = aov(Cluster1~Age+Group, data = scaled_df)\n",
    "    return(ancova)\n",
    "}\n",
    "get_ancova_age2 = function(scaled_df){\n",
    "    contrasts(scaled_df$Group) = cbind(c(-1,1,0),c(-1,0,1)) #meaning is explained above\n",
    "    ancova = aov(Cluster2~Age+Group, data = scaled_df)\n",
    "    return(ancova)\n",
    "}\n",
    "get_ancova_age3 = function(scaled_df){\n",
    "    contrasts(scaled_df$Group) = cbind(c(-1,1,0),c(-1,0,1)) #meaning is explained above\n",
    "    ancova = aov(Cluster3~Age+Group, data = scaled_df)\n",
    "    return(ancova)\n",
    "}\n",
    "\n",
    "#calling fn\n",
    "NLF_Cluster1_ancova_age = get_ancova_age1(eigen_NLF_scaled)\n",
    "NLF_Cluster2_ancova_age = get_ancova_age2(eigen_NLF_scaled)\n",
    "NLF_Cluster3_ancova_age = get_ancova_age3(eigen_NLF_scaled)\n",
    "ELF_Cluster1_ancova_age = get_ancova_age1(eigen_ELF_scaled)\n",
    "ELF_Cluster2_ancova_age = get_ancova_age2(eigen_ELF_scaled)\n",
    "ELF_Cluster3_ancova_age = get_ancova_age3(eigen_ELF_scaled)\n",
    "Sputum_Cluster1_ancova_age = get_ancova_age1(eigen_Sputum_scaled)\n",
    "Sputum_Cluster2_ancova_age = get_ancova_age2(eigen_Sputum_scaled)\n",
    "Sputum_Cluster3_ancova_age = get_ancova_age3(eigen_Sputum_scaled)\n",
    "Serum_Cluster1_ancova_age = get_ancova_age1(eigen_Serum_scaled)\n",
    "Serum_Cluster2_ancova_age = get_ancova_age2(eigen_Serum_scaled)\n",
    "Serum_Cluster3_ancova_age = get_ancova_age3(eigen_Serum_scaled)"
   ]
  },
  {
   "cell_type": "code",
   "execution_count": 14,
   "metadata": {
    "scrolled": true
   },
   "outputs": [
    {
     "data": {
      "text/plain": [
       "            Df Sum Sq Mean Sq F value Pr(>F)\n",
       "Age          1   0.42  0.4173   0.408  0.527\n",
       "Group        2   1.64  0.8183   0.799  0.457\n",
       "Residuals   40  40.95  1.0237               "
      ]
     },
     "metadata": {},
     "output_type": "display_data"
    },
    {
     "data": {
      "text/plain": [
       "            Df Sum Sq Mean Sq F value Pr(>F)\n",
       "Age          1   0.47  0.4708   0.455  0.504\n",
       "Group        2   1.15  0.5749   0.556  0.578\n",
       "Residuals   40  41.38  1.0345               "
      ]
     },
     "metadata": {},
     "output_type": "display_data"
    },
    {
     "data": {
      "text/plain": [
       "            Df Sum Sq Mean Sq F value Pr(>F)\n",
       "Age          1   0.01  0.0064   0.006  0.938\n",
       "Group        2   1.00  0.5024   0.479  0.623\n",
       "Residuals   40  41.99  1.0497               "
      ]
     },
     "metadata": {},
     "output_type": "display_data"
    },
    {
     "data": {
      "text/plain": [
       "            Df Sum Sq Mean Sq F value Pr(>F)\n",
       "Age          1   0.06  0.0612   0.059  0.809\n",
       "Group        2   1.46  0.7292   0.703  0.501\n",
       "Residuals   40  41.48  1.0370               "
      ]
     },
     "metadata": {},
     "output_type": "display_data"
    },
    {
     "data": {
      "text/plain": [
       "            Df Sum Sq Mean Sq F value Pr(>F)\n",
       "Age          1   0.78  0.7816   0.758  0.389\n",
       "Group        2   0.95  0.4772   0.463  0.633\n",
       "Residuals   40  41.26  1.0316               "
      ]
     },
     "metadata": {},
     "output_type": "display_data"
    },
    {
     "data": {
      "text/plain": [
       "            Df Sum Sq Mean Sq F value Pr(>F)  \n",
       "Age          1   0.52  0.5203   0.558  0.459  \n",
       "Group        2   5.19  2.5932   2.781  0.074 .\n",
       "Residuals   40  37.29  0.9323                 \n",
       "---\n",
       "Signif. codes:  0 ‘***’ 0.001 ‘**’ 0.01 ‘*’ 0.05 ‘.’ 0.1 ‘ ’ 1"
      ]
     },
     "metadata": {},
     "output_type": "display_data"
    },
    {
     "data": {
      "text/plain": [
       "            Df Sum Sq Mean Sq F value Pr(>F)\n",
       "Age          1   0.52  0.5173   0.494  0.486\n",
       "Group        2   0.60  0.3005   0.287  0.752\n",
       "Residuals   40  41.88  1.0470               "
      ]
     },
     "metadata": {},
     "output_type": "display_data"
    },
    {
     "data": {
      "text/plain": [
       "            Df Sum Sq Mean Sq F value Pr(>F)\n",
       "Age          1   0.65  0.6465   0.655  0.423\n",
       "Group        2   2.89  1.4466   1.466  0.243\n",
       "Residuals   40  39.46  0.9865               "
      ]
     },
     "metadata": {},
     "output_type": "display_data"
    },
    {
     "data": {
      "text/plain": [
       "            Df Sum Sq Mean Sq F value Pr(>F)\n",
       "Age          1   1.39  1.3875   1.352  0.252\n",
       "Group        2   0.55  0.2755   0.268  0.766\n",
       "Residuals   40  41.06  1.0265               "
      ]
     },
     "metadata": {},
     "output_type": "display_data"
    },
    {
     "data": {
      "text/plain": [
       "            Df Sum Sq Mean Sq F value Pr(>F)\n",
       "Age          1   0.80  0.8025   0.758  0.389\n",
       "Group        2   0.68  0.3402   0.321  0.727\n",
       "Residuals   39  41.27  1.0583               "
      ]
     },
     "metadata": {},
     "output_type": "display_data"
    },
    {
     "data": {
      "text/plain": [
       "            Df Sum Sq Mean Sq F value Pr(>F)  \n",
       "Age          1   3.26   3.257   3.557 0.0667 .\n",
       "Group        2   1.71   0.856   0.934 0.4014  \n",
       "Residuals   39  35.71   0.916                 \n",
       "---\n",
       "Signif. codes:  0 ‘***’ 0.001 ‘**’ 0.01 ‘*’ 0.05 ‘.’ 0.1 ‘ ’ 1"
      ]
     },
     "metadata": {},
     "output_type": "display_data"
    },
    {
     "data": {
      "text/plain": [
       "            Df Sum Sq Mean Sq F value Pr(>F)  \n",
       "Age          1   3.57   3.569   3.699 0.0618 .\n",
       "Group        2   1.76   0.879   0.911 0.4105  \n",
       "Residuals   39  37.63   0.965                 \n",
       "---\n",
       "Signif. codes:  0 ‘***’ 0.001 ‘**’ 0.01 ‘*’ 0.05 ‘.’ 0.1 ‘ ’ 1"
      ]
     },
     "metadata": {},
     "output_type": "display_data"
    }
   ],
   "source": [
    "#viewing results\n",
    "summary(NLF_Cluster1_ancova_age)\n",
    "summary(NLF_Cluster2_ancova_age)\n",
    "summary(NLF_Cluster3_ancova_age)\n",
    "summary(ELF_Cluster1_ancova_age)\n",
    "summary(ELF_Cluster2_ancova_age)\n",
    "summary(ELF_Cluster3_ancova_age)\n",
    "summary(Sputum_Cluster1_ancova_age)\n",
    "summary(Sputum_Cluster2_ancova_age)\n",
    "summary(Sputum_Cluster3_ancova_age)\n",
    "summary(Serum_Cluster1_ancova_age)\n",
    "summary(Serum_Cluster2_ancova_age)\n",
    "summary(Serum_Cluster3_ancova_age)"
   ]
  },
  {
   "cell_type": "code",
   "execution_count": null,
   "metadata": {},
   "outputs": [],
   "source": [
    "# Tukey's post hoc \n",
    "# NLF_Cluster1_tukey_ancova = summary(glht(NLF_Cluster1_ancova_age, linfct=mcp(Group = \"Tukey\")), test = adjusted(\"none\")) \n",
    "# NLF_Cluster2_tukey_ancova = summary(glht(NLF_Cluster2_ancova_age, linfct=mcp(Group = \"Tukey\")), test = adjusted(\"none\"))\n",
    "# NLF_Cluster3_tukey_ancova = summary(glht(NLF_Cluster3_ancova_age, linfct=mcp(Group = \"Tukey\")), test = adjusted(\"none\"))\n",
    "# ELF_Cluster1_tukey_ancova = summary(glht(ELF_Cluster1_ancova_age, linfct=mcp(Group = \"Tukey\")), test = adjusted(\"none\")) \n",
    "# ELF_Cluster2_tukey_ancova = summary(glht(ELF_Cluster2_ancova_age, linfct=mcp(Group = \"Tukey\")), test = adjusted(\"none\"))\n",
    "# ELF_Cluster3_tukey_ancova = summary(glht(ELF_Cluster3_ancova_age, linfct=mcp(Group = \"Tukey\")), test = adjusted(\"none\"))\n",
    "# Sputum_Cluster1_tukey_ancova = summary(glht(Sputum_Cluster1_ancova_age, linfct=mcp(Group = \"Tukey\")), test = adjusted(\"none\")) \n",
    "# Sputum_Cluster2_tukey_ancova = summary(glht(Sputum_Cluster2_ancova_age, linfct=mcp(Group = \"Tukey\")), test = adjusted(\"none\"))\n",
    "# Sputum_Cluster3_tukey_ancova = summary(glht(Sputum_Cluster3_ancova_age, linfct=mcp(Group = \"Tukey\")), test = adjusted(\"none\"))\n",
    "# Serum_Cluster1_tukey_ancova = summary(glht(Serum_Cluster1_ancova_age, linfct=mcp(Group = \"Tukey\")), test = adjusted(\"none\")) \n",
    "# Serum_Cluster2_tukey_ancova = summary(glht(Serum_Cluster2_ancova_age, linfct=mcp(Group = \"Tukey\")), test = adjusted(\"none\"))\n",
    "# Serum_Cluster3_tukey_ancova = summary(glht(Serum_Cluster3_ancova_age, linfct=mcp(Group = \"Tukey\")), test = adjusted(\"none\"))"
   ]
  },
  {
   "cell_type": "markdown",
   "metadata": {},
   "source": [
    "# ANOVA/ANCOVA Tables"
   ]
  },
  {
   "cell_type": "code",
   "execution_count": 15,
   "metadata": {},
   "outputs": [],
   "source": [
    "extract_values = function(anova_results){\n",
    "    #extracting f and p values from the anova to be put into a table\n",
    "    cluster_summary = summary(anova_results)[[1]][1, 2:5] #f value, pvalue\n",
    "    f_value = cluster_summary$`F value`\n",
    "    p_value = cluster_summary$`Pr(>F)`\n",
    "    \n",
    "    cluster_anova_values = c(f_value,p_value)\n",
    "    return(cluster_anova_values)\n",
    "}\n",
    "\n",
    "#anova\n",
    "NLF_Cluster1_anova_values = extract_values(NLF_Cluster1_anova)\n",
    "NLF_Cluster2_anova_values = extract_values(NLF_Cluster2_anova)\n",
    "NLF_Cluster3_anova_values = extract_values(NLF_Cluster3_anova)\n",
    "ELF_Cluster1_anova_values = extract_values(ELF_Cluster1_anova)\n",
    "ELF_Cluster2_anova_values = extract_values(ELF_Cluster2_anova)\n",
    "ELF_Cluster3_anova_values = extract_values(ELF_Cluster3_anova)\n",
    "Sputum_Cluster1_anova_values = extract_values(Sputum_Cluster1_anova)\n",
    "Sputum_Cluster2_anova_values = extract_values(Sputum_Cluster2_anova)\n",
    "Sputum_Cluster3_anova_values = extract_values(Sputum_Cluster3_anova)\n",
    "Serum_Cluster1_anova_values = extract_values(Serum_Cluster1_anova)\n",
    "Serum_Cluster2_anova_values = extract_values(Serum_Cluster2_anova)\n",
    "Serum_Cluster3_anova_values = extract_values(Serum_Cluster3_anova)\n",
    "\n",
    "#ancova\n",
    "NLF_Cluster1_ancova_age_values = extract_values(NLF_Cluster1_ancova_age)\n",
    "NLF_Cluster2_ancova_age_values = extract_values(NLF_Cluster2_ancova_age)\n",
    "NLF_Cluster3_ancova_age_values = extract_values(NLF_Cluster3_ancova_age)\n",
    "ELF_Cluster1_ancova_age_values = extract_values(ELF_Cluster1_ancova_age)\n",
    "ELF_Cluster2_ancova_age_values = extract_values(ELF_Cluster2_ancova_age)\n",
    "ELF_Cluster3_ancova_age_values = extract_values(ELF_Cluster3_ancova_age)\n",
    "Sputum_Cluster1_ancova_age_values = extract_values(Sputum_Cluster1_ancova_age)\n",
    "Sputum_Cluster2_ancova_age_values = extract_values(Sputum_Cluster2_ancova_age)\n",
    "Sputum_Cluster3_ancova_age_values = extract_values(Sputum_Cluster3_ancova_age)\n",
    "Serum_Cluster1_ancova_age_values = extract_values(Serum_Cluster1_ancova_age)\n",
    "Serum_Cluster2_ancova_age_values = extract_values(Serum_Cluster2_ancova_age)\n",
    "Serum_Cluster3_ancova_age_values = extract_values(Serum_Cluster3_ancova_age)"
   ]
  },
  {
   "cell_type": "code",
   "execution_count": 16,
   "metadata": {
    "collapsed": true
   },
   "outputs": [
    {
     "data": {
      "text/html": [
       "<table>\n",
       "<caption>A matrix: 12 × 4 of type dbl</caption>\n",
       "<thead>\n",
       "\t<tr><th></th><th scope=col>F Value</th><th scope=col>p value</th><th scope=col>F Value</th><th scope=col>p value</th></tr>\n",
       "</thead>\n",
       "<tbody>\n",
       "\t<tr><th scope=row>NLF_Cluster1</th><td>0.69953008</td><td>0.50265077</td><td>0.407689756</td><td>0.52678360</td></tr>\n",
       "\t<tr><th scope=row>NLF_Cluster2</th><td>0.73518531</td><td>0.48562946</td><td>0.455150695</td><td>0.50378000</td></tr>\n",
       "\t<tr><th scope=row>NLF_Cluster3</th><td>0.46402711</td><td>0.63200795</td><td>0.006049892</td><td>0.93839001</td></tr>\n",
       "\t<tr><th scope=row>ELF_Cluster1</th><td>0.69057907</td><td>0.50702135</td><td>0.059003220</td><td>0.80931970</td></tr>\n",
       "\t<tr><th scope=row>ELF_Cluster2</th><td>0.28929582</td><td>0.75030646</td><td>0.757627064</td><td>0.38926598</td></tr>\n",
       "\t<tr><th scope=row>ELF_Cluster3</th><td>3.13213402</td><td>0.05421805</td><td>0.558051274</td><td>0.45941533</td></tr>\n",
       "\t<tr><th scope=row>Sputum_Cluster1</th><td>0.38933059</td><td>0.67998828</td><td>0.494097197</td><td>0.48617647</td></tr>\n",
       "\t<tr><th scope=row>Sputum_Cluster2</th><td>1.27839383</td><td>0.28935053</td><td>0.655320352</td><td>0.42300646</td></tr>\n",
       "\t<tr><th scope=row>Sputum_Cluster3</th><td>0.05274737</td><td>0.94868390</td><td>1.351607705</td><td>0.25188668</td></tr>\n",
       "\t<tr><th scope=row>Serum_Cluster1</th><td>0.31978372</td><td>0.72814571</td><td>0.758304179</td><td>0.38918858</td></tr>\n",
       "\t<tr><th scope=row>Serum_Cluster2</th><td>0.33467539</td><td>0.71755474</td><td>3.557444673</td><td>0.06674183</td></tr>\n",
       "\t<tr><th scope=row>Serum_Cluster3</th><td>0.24836775</td><td>0.78126706</td><td>3.699283872</td><td>0.06175829</td></tr>\n",
       "</tbody>\n",
       "</table>\n"
      ],
      "text/latex": [
       "A matrix: 12 × 4 of type dbl\n",
       "\\begin{tabular}{r|llll}\n",
       "  & F Value & p value & F Value & p value\\\\\n",
       "\\hline\n",
       "\tNLF\\_Cluster1 & 0.69953008 & 0.50265077 & 0.407689756 & 0.52678360\\\\\n",
       "\tNLF\\_Cluster2 & 0.73518531 & 0.48562946 & 0.455150695 & 0.50378000\\\\\n",
       "\tNLF\\_Cluster3 & 0.46402711 & 0.63200795 & 0.006049892 & 0.93839001\\\\\n",
       "\tELF\\_Cluster1 & 0.69057907 & 0.50702135 & 0.059003220 & 0.80931970\\\\\n",
       "\tELF\\_Cluster2 & 0.28929582 & 0.75030646 & 0.757627064 & 0.38926598\\\\\n",
       "\tELF\\_Cluster3 & 3.13213402 & 0.05421805 & 0.558051274 & 0.45941533\\\\\n",
       "\tSputum\\_Cluster1 & 0.38933059 & 0.67998828 & 0.494097197 & 0.48617647\\\\\n",
       "\tSputum\\_Cluster2 & 1.27839383 & 0.28935053 & 0.655320352 & 0.42300646\\\\\n",
       "\tSputum\\_Cluster3 & 0.05274737 & 0.94868390 & 1.351607705 & 0.25188668\\\\\n",
       "\tSerum\\_Cluster1 & 0.31978372 & 0.72814571 & 0.758304179 & 0.38918858\\\\\n",
       "\tSerum\\_Cluster2 & 0.33467539 & 0.71755474 & 3.557444673 & 0.06674183\\\\\n",
       "\tSerum\\_Cluster3 & 0.24836775 & 0.78126706 & 3.699283872 & 0.06175829\\\\\n",
       "\\end{tabular}\n"
      ],
      "text/markdown": [
       "\n",
       "A matrix: 12 × 4 of type dbl\n",
       "\n",
       "| <!--/--> | F Value | p value | F Value | p value |\n",
       "|---|---|---|---|---|\n",
       "| NLF_Cluster1 | 0.69953008 | 0.50265077 | 0.407689756 | 0.52678360 |\n",
       "| NLF_Cluster2 | 0.73518531 | 0.48562946 | 0.455150695 | 0.50378000 |\n",
       "| NLF_Cluster3 | 0.46402711 | 0.63200795 | 0.006049892 | 0.93839001 |\n",
       "| ELF_Cluster1 | 0.69057907 | 0.50702135 | 0.059003220 | 0.80931970 |\n",
       "| ELF_Cluster2 | 0.28929582 | 0.75030646 | 0.757627064 | 0.38926598 |\n",
       "| ELF_Cluster3 | 3.13213402 | 0.05421805 | 0.558051274 | 0.45941533 |\n",
       "| Sputum_Cluster1 | 0.38933059 | 0.67998828 | 0.494097197 | 0.48617647 |\n",
       "| Sputum_Cluster2 | 1.27839383 | 0.28935053 | 0.655320352 | 0.42300646 |\n",
       "| Sputum_Cluster3 | 0.05274737 | 0.94868390 | 1.351607705 | 0.25188668 |\n",
       "| Serum_Cluster1 | 0.31978372 | 0.72814571 | 0.758304179 | 0.38918858 |\n",
       "| Serum_Cluster2 | 0.33467539 | 0.71755474 | 3.557444673 | 0.06674183 |\n",
       "| Serum_Cluster3 | 0.24836775 | 0.78126706 | 3.699283872 | 0.06175829 |\n",
       "\n"
      ],
      "text/plain": [
       "                F Value    p value    F Value     p value   \n",
       "NLF_Cluster1    0.69953008 0.50265077 0.407689756 0.52678360\n",
       "NLF_Cluster2    0.73518531 0.48562946 0.455150695 0.50378000\n",
       "NLF_Cluster3    0.46402711 0.63200795 0.006049892 0.93839001\n",
       "ELF_Cluster1    0.69057907 0.50702135 0.059003220 0.80931970\n",
       "ELF_Cluster2    0.28929582 0.75030646 0.757627064 0.38926598\n",
       "ELF_Cluster3    3.13213402 0.05421805 0.558051274 0.45941533\n",
       "Sputum_Cluster1 0.38933059 0.67998828 0.494097197 0.48617647\n",
       "Sputum_Cluster2 1.27839383 0.28935053 0.655320352 0.42300646\n",
       "Sputum_Cluster3 0.05274737 0.94868390 1.351607705 0.25188668\n",
       "Serum_Cluster1  0.31978372 0.72814571 0.758304179 0.38918858\n",
       "Serum_Cluster2  0.33467539 0.71755474 3.557444673 0.06674183\n",
       "Serum_Cluster3  0.24836775 0.78126706 3.699283872 0.06175829"
      ]
     },
     "metadata": {},
     "output_type": "display_data"
    }
   ],
   "source": [
    "table_summary = function(NLF_Cluster1, NLF_Cluster2, NLF_Cluster3, ELF_Cluster1, ELF_Cluster2, \n",
    "                         ELF_Cluster3, Sputum_Cluster1, Sputum_Cluster2, Sputum_Cluster3, Serum_Cluster1, \n",
    "                         Serum_Cluster2, Serum_Cluster3){\n",
    "    #comment\n",
    "    table_initial = rbind(NLF_Cluster1, NLF_Cluster2, NLF_Cluster3, ELF_Cluster1, ELF_Cluster2, \n",
    "                         ELF_Cluster3, Sputum_Cluster1, Sputum_Cluster2, Sputum_Cluster3, Serum_Cluster1, \n",
    "                         Serum_Cluster2, Serum_Cluster3)\n",
    "    \n",
    "    colnames(table_initial) = c('F Value','p value')\n",
    "    return(table_initial)\n",
    "}\n",
    "\n",
    "#calling function\n",
    "anova_table = table_summary(NLF_Cluster1_anova_values, NLF_Cluster2_anova_values, NLF_Cluster3_anova_values, \n",
    "                            ELF_Cluster1_anova_values, ELF_Cluster2_anova_values, ELF_Cluster3_anova_values, \n",
    "                            Sputum_Cluster1_anova_values, Sputum_Cluster2_anova_values, Sputum_Cluster3_anova_values, \n",
    "                            Serum_Cluster1_anova_values, Serum_Cluster2_anova_values, Serum_Cluster3_anova_values)\n",
    "ancova_age_table = table_summary(NLF_Cluster1_ancova_age_values, NLF_Cluster2_ancova_age_values, \n",
    "                                 NLF_Cluster3_ancova_age_values, ELF_Cluster1_ancova_age_values, \n",
    "                                 ELF_Cluster2_ancova_age_values, ELF_Cluster3_ancova_age_values, \n",
    "                                 Sputum_Cluster1_ancova_age_values, Sputum_Cluster2_ancova_age_values, \n",
    "                                 Sputum_Cluster3_ancova_age_values, Serum_Cluster1_ancova_age_values, \n",
    "                                 Serum_Cluster2_ancova_age_values, Serum_Cluster3_ancova_age_values)\n",
    "allresults = cbind(anova_table, ancova_age_table)"
   ]
  },
  {
   "cell_type": "code",
   "execution_count": 17,
   "metadata": {},
   "outputs": [
    {
     "data": {
      "text/html": [
       "<table>\n",
       "<caption>A matrix: 12 × 6 of type dbl</caption>\n",
       "<thead>\n",
       "\t<tr><th></th><th scope=col>F Value ANOVA</th><th scope=col>p value</th><th scope=col>P Adj</th><th scope=col>F Value ANCOVA</th><th scope=col>p value</th><th scope=col>P Adj</th></tr>\n",
       "</thead>\n",
       "<tbody>\n",
       "\t<tr><th scope=row>NLF_Cluster1</th><td>0.69953008</td><td>0.50265077</td><td>0.8522913</td><td>0.407689756</td><td>0.52678360</td><td>0.6321403</td></tr>\n",
       "\t<tr><th scope=row>NLF_Cluster2</th><td>0.73518531</td><td>0.48562946</td><td>0.8522913</td><td>0.455150695</td><td>0.50378000</td><td>0.6321403</td></tr>\n",
       "\t<tr><th scope=row>NLF_Cluster3</th><td>0.46402711</td><td>0.63200795</td><td>0.8522913</td><td>0.006049892</td><td>0.93839001</td><td>0.9383900</td></tr>\n",
       "\t<tr><th scope=row>ELF_Cluster1</th><td>0.69057907</td><td>0.50702135</td><td>0.8522913</td><td>0.059003220</td><td>0.80931970</td><td>0.8828942</td></tr>\n",
       "\t<tr><th scope=row>ELF_Cluster2</th><td>0.28929582</td><td>0.75030646</td><td>0.8522913</td><td>0.757627064</td><td>0.38926598</td><td>0.6321403</td></tr>\n",
       "\t<tr><th scope=row>ELF_Cluster3</th><td>3.13213402</td><td>0.05421805</td><td>0.6506166</td><td>0.558051274</td><td>0.45941533</td><td>0.6321403</td></tr>\n",
       "\t<tr><th scope=row>Sputum_Cluster1</th><td>0.38933059</td><td>0.67998828</td><td>0.8522913</td><td>0.494097197</td><td>0.48617647</td><td>0.6321403</td></tr>\n",
       "\t<tr><th scope=row>Sputum_Cluster2</th><td>1.27839383</td><td>0.28935053</td><td>0.8522913</td><td>0.655320352</td><td>0.42300646</td><td>0.6321403</td></tr>\n",
       "\t<tr><th scope=row>Sputum_Cluster3</th><td>0.05274737</td><td>0.94868390</td><td>0.9486839</td><td>1.351607705</td><td>0.25188668</td><td>0.6321403</td></tr>\n",
       "\t<tr><th scope=row>Serum_Cluster1</th><td>0.31978372</td><td>0.72814571</td><td>0.8522913</td><td>0.758304179</td><td>0.38918858</td><td>0.6321403</td></tr>\n",
       "\t<tr><th scope=row>Serum_Cluster2</th><td>0.33467539</td><td>0.71755474</td><td>0.8522913</td><td>3.557444673</td><td>0.06674183</td><td>0.4004510</td></tr>\n",
       "\t<tr><th scope=row>Serum_Cluster3</th><td>0.24836775</td><td>0.78126706</td><td>0.8522913</td><td>3.699283872</td><td>0.06175829</td><td>0.4004510</td></tr>\n",
       "</tbody>\n",
       "</table>\n"
      ],
      "text/latex": [
       "A matrix: 12 × 6 of type dbl\n",
       "\\begin{tabular}{r|llllll}\n",
       "  & F Value ANOVA & p value & P Adj & F Value ANCOVA & p value & P Adj\\\\\n",
       "\\hline\n",
       "\tNLF\\_Cluster1 & 0.69953008 & 0.50265077 & 0.8522913 & 0.407689756 & 0.52678360 & 0.6321403\\\\\n",
       "\tNLF\\_Cluster2 & 0.73518531 & 0.48562946 & 0.8522913 & 0.455150695 & 0.50378000 & 0.6321403\\\\\n",
       "\tNLF\\_Cluster3 & 0.46402711 & 0.63200795 & 0.8522913 & 0.006049892 & 0.93839001 & 0.9383900\\\\\n",
       "\tELF\\_Cluster1 & 0.69057907 & 0.50702135 & 0.8522913 & 0.059003220 & 0.80931970 & 0.8828942\\\\\n",
       "\tELF\\_Cluster2 & 0.28929582 & 0.75030646 & 0.8522913 & 0.757627064 & 0.38926598 & 0.6321403\\\\\n",
       "\tELF\\_Cluster3 & 3.13213402 & 0.05421805 & 0.6506166 & 0.558051274 & 0.45941533 & 0.6321403\\\\\n",
       "\tSputum\\_Cluster1 & 0.38933059 & 0.67998828 & 0.8522913 & 0.494097197 & 0.48617647 & 0.6321403\\\\\n",
       "\tSputum\\_Cluster2 & 1.27839383 & 0.28935053 & 0.8522913 & 0.655320352 & 0.42300646 & 0.6321403\\\\\n",
       "\tSputum\\_Cluster3 & 0.05274737 & 0.94868390 & 0.9486839 & 1.351607705 & 0.25188668 & 0.6321403\\\\\n",
       "\tSerum\\_Cluster1 & 0.31978372 & 0.72814571 & 0.8522913 & 0.758304179 & 0.38918858 & 0.6321403\\\\\n",
       "\tSerum\\_Cluster2 & 0.33467539 & 0.71755474 & 0.8522913 & 3.557444673 & 0.06674183 & 0.4004510\\\\\n",
       "\tSerum\\_Cluster3 & 0.24836775 & 0.78126706 & 0.8522913 & 3.699283872 & 0.06175829 & 0.4004510\\\\\n",
       "\\end{tabular}\n"
      ],
      "text/markdown": [
       "\n",
       "A matrix: 12 × 6 of type dbl\n",
       "\n",
       "| <!--/--> | F Value ANOVA | p value | P Adj | F Value ANCOVA | p value | P Adj |\n",
       "|---|---|---|---|---|---|---|\n",
       "| NLF_Cluster1 | 0.69953008 | 0.50265077 | 0.8522913 | 0.407689756 | 0.52678360 | 0.6321403 |\n",
       "| NLF_Cluster2 | 0.73518531 | 0.48562946 | 0.8522913 | 0.455150695 | 0.50378000 | 0.6321403 |\n",
       "| NLF_Cluster3 | 0.46402711 | 0.63200795 | 0.8522913 | 0.006049892 | 0.93839001 | 0.9383900 |\n",
       "| ELF_Cluster1 | 0.69057907 | 0.50702135 | 0.8522913 | 0.059003220 | 0.80931970 | 0.8828942 |\n",
       "| ELF_Cluster2 | 0.28929582 | 0.75030646 | 0.8522913 | 0.757627064 | 0.38926598 | 0.6321403 |\n",
       "| ELF_Cluster3 | 3.13213402 | 0.05421805 | 0.6506166 | 0.558051274 | 0.45941533 | 0.6321403 |\n",
       "| Sputum_Cluster1 | 0.38933059 | 0.67998828 | 0.8522913 | 0.494097197 | 0.48617647 | 0.6321403 |\n",
       "| Sputum_Cluster2 | 1.27839383 | 0.28935053 | 0.8522913 | 0.655320352 | 0.42300646 | 0.6321403 |\n",
       "| Sputum_Cluster3 | 0.05274737 | 0.94868390 | 0.9486839 | 1.351607705 | 0.25188668 | 0.6321403 |\n",
       "| Serum_Cluster1 | 0.31978372 | 0.72814571 | 0.8522913 | 0.758304179 | 0.38918858 | 0.6321403 |\n",
       "| Serum_Cluster2 | 0.33467539 | 0.71755474 | 0.8522913 | 3.557444673 | 0.06674183 | 0.4004510 |\n",
       "| Serum_Cluster3 | 0.24836775 | 0.78126706 | 0.8522913 | 3.699283872 | 0.06175829 | 0.4004510 |\n",
       "\n"
      ],
      "text/plain": [
       "                F Value ANOVA p value    P Adj     F Value ANCOVA p value   \n",
       "NLF_Cluster1    0.69953008    0.50265077 0.8522913 0.407689756    0.52678360\n",
       "NLF_Cluster2    0.73518531    0.48562946 0.8522913 0.455150695    0.50378000\n",
       "NLF_Cluster3    0.46402711    0.63200795 0.8522913 0.006049892    0.93839001\n",
       "ELF_Cluster1    0.69057907    0.50702135 0.8522913 0.059003220    0.80931970\n",
       "ELF_Cluster2    0.28929582    0.75030646 0.8522913 0.757627064    0.38926598\n",
       "ELF_Cluster3    3.13213402    0.05421805 0.6506166 0.558051274    0.45941533\n",
       "Sputum_Cluster1 0.38933059    0.67998828 0.8522913 0.494097197    0.48617647\n",
       "Sputum_Cluster2 1.27839383    0.28935053 0.8522913 0.655320352    0.42300646\n",
       "Sputum_Cluster3 0.05274737    0.94868390 0.9486839 1.351607705    0.25188668\n",
       "Serum_Cluster1  0.31978372    0.72814571 0.8522913 0.758304179    0.38918858\n",
       "Serum_Cluster2  0.33467539    0.71755474 0.8522913 3.557444673    0.06674183\n",
       "Serum_Cluster3  0.24836775    0.78126706 0.8522913 3.699283872    0.06175829\n",
       "                P Adj    \n",
       "NLF_Cluster1    0.6321403\n",
       "NLF_Cluster2    0.6321403\n",
       "NLF_Cluster3    0.9383900\n",
       "ELF_Cluster1    0.8828942\n",
       "ELF_Cluster2    0.6321403\n",
       "ELF_Cluster3    0.6321403\n",
       "Sputum_Cluster1 0.6321403\n",
       "Sputum_Cluster2 0.6321403\n",
       "Sputum_Cluster3 0.6321403\n",
       "Serum_Cluster1  0.6321403\n",
       "Serum_Cluster2  0.4004510\n",
       "Serum_Cluster3  0.4004510"
      ]
     },
     "metadata": {},
     "output_type": "display_data"
    }
   ],
   "source": [
    "col_names = c('F Value ANOVA','p value', 'P Adj', 'F Value ANCOVA','p value', 'P Adj')\n",
    "final_table_summary = function(table, names_vector){\n",
    "    #going back to calculate padj values\n",
    "    padj = apply(cbind(table[,2],table[,4]), 2, p.adjust, method = \"fdr\") #the 2 applies function down the col\n",
    "    \n",
    "    #inserting these back into the OG df to export all values\n",
    "    final_table = cbind(table[,1], table[,2], padj[,1], table[,3], table[,4],padj[,2])\n",
    "    colnames(final_table) = names_vector\n",
    "    return(final_table)\n",
    "}\n",
    "#calling fn\n",
    "clustered_anova_ancova = final_table_summary(allresults, col_names)\n",
    "clustered_anova_ancova"
   ]
  },
  {
   "cell_type": "code",
   "execution_count": 18,
   "metadata": {},
   "outputs": [],
   "source": [
    "#exporting data\n",
    "write.csv(clustered_anova_ancova, paste0(Output,\"/\", cur_date, \"_Clustered_ANOVA_ANCOVA.csv\"), row.names= TRUE)"
   ]
  },
  {
   "cell_type": "markdown",
   "metadata": {},
   "source": [
    "# Tukey's HSD Tables"
   ]
  },
  {
   "cell_type": "code",
   "execution_count": null,
   "metadata": {},
   "outputs": [],
   "source": [
    "tukey_table_mean_diff = function(NLF_Cluster1, NLF_Cluster2, NLF_Cluster3, ELF_Cluster1, ELF_Cluster2, \n",
    "                         ELF_Cluster3, Sputum_Cluster1, Sputum_Cluster2, Sputum_Cluster3, Serum_Cluster1, \n",
    "                         Serum_Cluster2, Serum_Cluster3){\n",
    "    #comment\n",
    "    table_initial = rbind(t(NLF_Cluster1[[1]])[1,],t(NLF_Cluster2[[1]])[1,],t(NLF_Cluster3[[1]])[1,], #get mean diff\n",
    "                          t(ELF_Cluster1[[1]])[1,],t(ELF_Cluster2[[1]])[1,],t(ELF_Cluster3[[1]])[1,],\n",
    "                          t(Sputum_Cluster1[[1]])[1,],t(Sputum_Cluster2[[1]])[1,],t(Sputum_Cluster3[[1]])[1,],\n",
    "                          t(Serum_Cluster1[[1]])[1,],t(Serum_Cluster2[[1]])[1,],t(Serum_Cluster3[[1]])[1,])\n",
    "    return(table_initial)   \n",
    "}\n",
    "\n",
    "#calling function\n",
    "tukey_anova_mean_diff = tukey_table_mean_diff(NLF_Cluster1_tukey_anova, NLF_Cluster2_tukey_anova, \n",
    "                                              NLF_Cluster3_tukey_anova, ELF_Cluster1_tukey_anova, \n",
    "                                              ELF_Cluster2_tukey_anova, ELF_Cluster3_tukey_anova, \n",
    "                                              Sputum_Cluster1_tukey_anova, Sputum_Cluster2_tukey_anova, \n",
    "                                              Sputum_Cluster3_tukey_anova, Serum_Cluster1_tukey_anova, \n",
    "                                              Serum_Cluster2_tukey_anova, Serum_Cluster3_tukey_anova)\n",
    "tukey_ancova_mean_diff = tukey_table_mean_diff(NLF_Cluster1_tukey_ancova, NLF_Cluster2_tukey_ancova, \n",
    "                                              NLF_Cluster3_tukey_ancova, ELF_Cluster1_tukey_ancova, \n",
    "                                              ELF_Cluster2_tukey_ancova, ELF_Cluster3_tukey_ancova, \n",
    "                                              Sputum_Cluster1_tukey_ancova, Sputum_Cluster2_tukey_ancova, \n",
    "                                              Sputum_Cluster3_tukey_ancova, Serum_Cluster1_tukey_ancova, \n",
    "                                              Serum_Cluster2_tukey_ancova, Serum_Cluster3_tukey_ancova)"
   ]
  },
  {
   "cell_type": "code",
   "execution_count": null,
   "metadata": {},
   "outputs": [],
   "source": [
    "tukey_table_pvalue = function(NLF_Cluster1, NLF_Cluster2, NLF_Cluster3, ELF_Cluster1, ELF_Cluster2, \n",
    "                         ELF_Cluster3, Sputum_Cluster1, Sputum_Cluster2, Sputum_Cluster3, Serum_Cluster1, \n",
    "                         Serum_Cluster2, Serum_Cluster3){\n",
    "    #comment\n",
    "    table_initial = rbind(t(NLF_Cluster1[[1]])[4,],t(NLF_Cluster2[[1]])[4,],t(NLF_Cluster3[[1]])[4,],  #get p value\n",
    "                          t(ELF_Cluster1[[1]])[4,],t(ELF_Cluster2[[1]])[4,],t(ELF_Cluster3[[1]])[4,],\n",
    "                          t(Sputum_Cluster1[[1]])[4,],t(Sputum_Cluster2[[1]])[4,],t(Sputum_Cluster3[[1]])[4,],\n",
    "                          t(Serum_Cluster1[[1]])[4,],t(Serum_Cluster2[[1]])[4,],t(Serum_Cluster3[[1]])[4,])\n",
    "    return(table_initial)   \n",
    "}\n",
    "\n",
    "#calling function\n",
    "tukey_anova_pvalue = tukey_table_pvalue(NLF_Cluster1_tukey_anova, NLF_Cluster2_tukey_anova, \n",
    "                                              NLF_Cluster3_tukey_anova, ELF_Cluster1_tukey_anova, \n",
    "                                              ELF_Cluster2_tukey_anova, ELF_Cluster3_tukey_anova, \n",
    "                                              Sputum_Cluster1_tukey_anova, Sputum_Cluster2_tukey_anova, \n",
    "                                              Sputum_Cluster3_tukey_anova, Serum_Cluster1_tukey_anova, \n",
    "                                              Serum_Cluster2_tukey_anova, Serum_Cluster3_tukey_anova)"
   ]
  },
  {
   "cell_type": "code",
   "execution_count": null,
   "metadata": {},
   "outputs": [],
   "source": [
    "#going back to calculate padj values\n",
    "clustered_tukey_pvalues = cbind(tukey_anova_pvalue, tukey_ancova_age_pvalue)\n",
    "padj_tukey = apply(allresults2, 2, p.adjust, method = \"fdr\")\n",
    "\n",
    "#making one matrix\n",
    "tukey_results = cbind(tukey_anova_mean_diff[,1], tukey_anova_pvalue[,1], padj_tukey[,1], tukey_anova_mean_diff[,2],\n",
    "                      tukey_anova_pvalue[,2], padj_tukey[,2])\n",
    "colnames(tukey_results) = c('Mean Diff (NS vs. CS)', 'P Value', 'P Adj', 'Mean Diff (NS vs. Ecig)', 'P Value', \n",
    "                            'P Adj', 'ANCOVA Mean Diff (NS vs. CS)', 'P Value', 'P Adj', \n",
    "                            'ANCOVA Mean Diff (NS vs. Ecig)', 'P Value', 'P Adj')"
   ]
  },
  {
   "cell_type": "code",
   "execution_count": null,
   "metadata": {},
   "outputs": [],
   "source": [
    "#exporting data\n",
    "write.csv(clustered_anova_ancova, paste0(Output,\"/\", cur_date, \"_Clustered_ANOVA_ANCOVA.csv\"), row.names= TRUE)"
   ]
  }
 ],
 "metadata": {
  "kernelspec": {
   "display_name": "R",
   "language": "R",
   "name": "ir"
  },
  "language_info": {
   "codemirror_mode": "r",
   "file_extension": ".r",
   "mimetype": "text/x-r-source",
   "name": "R",
   "pygments_lexer": "r",
   "version": "4.0.2"
  }
 },
 "nbformat": 4,
 "nbformat_minor": 4
}
