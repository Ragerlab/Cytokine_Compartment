{
 "cells": [
  {
   "cell_type": "code",
   "execution_count": 1,
   "metadata": {},
   "outputs": [
    {
     "name": "stderr",
     "output_type": "stream",
     "text": [
      "── \u001b[1mAttaching packages\u001b[22m ─────────────────────────────────────── tidyverse 1.3.0 ──\n",
      "\n",
      "\u001b[32m✔\u001b[39m \u001b[34mggplot2\u001b[39m 3.3.2     \u001b[32m✔\u001b[39m \u001b[34mpurrr  \u001b[39m 0.3.4\n",
      "\u001b[32m✔\u001b[39m \u001b[34mtibble \u001b[39m 3.0.3     \u001b[32m✔\u001b[39m \u001b[34mdplyr  \u001b[39m 1.0.2\n",
      "\u001b[32m✔\u001b[39m \u001b[34mtidyr  \u001b[39m 1.1.2     \u001b[32m✔\u001b[39m \u001b[34mstringr\u001b[39m 1.4.0\n",
      "\u001b[32m✔\u001b[39m \u001b[34mreadr  \u001b[39m 1.3.1     \u001b[32m✔\u001b[39m \u001b[34mforcats\u001b[39m 0.5.0\n",
      "\n",
      "── \u001b[1mConflicts\u001b[22m ────────────────────────────────────────── tidyverse_conflicts() ──\n",
      "\u001b[31m✖\u001b[39m \u001b[34mdplyr\u001b[39m::\u001b[32mfilter()\u001b[39m masks \u001b[34mstats\u001b[39m::filter()\n",
      "\u001b[31m✖\u001b[39m \u001b[34mdplyr\u001b[39m::\u001b[32mlag()\u001b[39m    masks \u001b[34mstats\u001b[39m::lag()\n",
      "\n",
      "\n",
      "Attaching package: ‘reshape2’\n",
      "\n",
      "\n",
      "The following object is masked from ‘package:tidyr’:\n",
      "\n",
      "    smiths\n",
      "\n",
      "\n",
      "Loading required package: carData\n",
      "\n",
      "\n",
      "Attaching package: ‘car’\n",
      "\n",
      "\n",
      "The following object is masked from ‘package:dplyr’:\n",
      "\n",
      "    recode\n",
      "\n",
      "\n",
      "The following object is masked from ‘package:purrr’:\n",
      "\n",
      "    some\n",
      "\n",
      "\n",
      "Loading required package: mvtnorm\n",
      "\n",
      "Warning message:\n",
      "“package ‘mvtnorm’ was built under R version 4.0.3”\n",
      "Loading required package: survival\n",
      "\n",
      "Loading required package: TH.data\n",
      "\n",
      "Loading required package: MASS\n",
      "\n",
      "\n",
      "Attaching package: ‘MASS’\n",
      "\n",
      "\n",
      "The following object is masked from ‘package:dplyr’:\n",
      "\n",
      "    select\n",
      "\n",
      "\n",
      "\n",
      "Attaching package: ‘TH.data’\n",
      "\n",
      "\n",
      "The following object is masked from ‘package:MASS’:\n",
      "\n",
      "    geyser\n",
      "\n",
      "\n",
      "\n",
      "Attaching package: ‘rstatix’\n",
      "\n",
      "\n",
      "The following object is masked from ‘package:MASS’:\n",
      "\n",
      "    select\n",
      "\n",
      "\n",
      "The following object is masked from ‘package:stats’:\n",
      "\n",
      "    filter\n",
      "\n",
      "\n"
     ]
    }
   ],
   "source": [
    "setwd('/Users/alexis/IEHS Dropbox/Rager Lab/Alexis_Payton/1_Compartment_Analysis/Expt1.1_DescriptiveStats/Input')\n",
    "Output = ('/Users/alexis/IEHS Dropbox/Rager Lab/Alexis_Payton/1_Compartment_Analysis/Expt1.1_DescriptiveStats/Output')\n",
    "\n",
    "library(\"readxl\")\n",
    "library(tidyverse)\n",
    "library(reshape2)\n",
    "library(car) #package necessary to run anova and specify type III errors\n",
    "library(\"multcomp\") #for Tukey's post hoc\n",
    "library(rstatix)\n",
    "\n",
    "#reading in file\n",
    "data <- read_excel(\"CytokineData_102920.xlsx\", sheet = 2)\n",
    "data_df = data.frame(data)\n",
    "\n",
    "#reading in demographics file\n",
    "demographics_data_df = data.frame(read_excel(\"SubjectInfo_102920.xlsx\", sheet = 2))"
   ]
  },
  {
   "cell_type": "code",
   "execution_count": 2,
   "metadata": {},
   "outputs": [],
   "source": [
    "#adding demographics data to cytokine df\n",
    "#could've made my life easier by just using full_join but didn't need every column from the demographics data set\n",
    "race = c()\n",
    "ethnicity = c()\n",
    "sex = c()\n",
    "age = c()\n",
    "BMI = c()\n",
    "for (i in 1:length(data_df$SubjectNo)){\n",
    "    for(j in 1:length(demographics_data_df$SubjectNo)){\n",
    "        if (data_df$SubjectNo[i] == demographics_data_df$SubjectNo[j]){\n",
    "            race = c(race, demographics_data_df$Race[j])\n",
    "            ethnicity = c(ethnicity, demographics_data_df$Ethnicity[j])\n",
    "            sex = c(sex, demographics_data_df$Sex[j])\n",
    "            age = c(age, demographics_data_df$Age[j])\n",
    "            BMI = c(BMI, demographics_data_df$BMI[j])\n",
    "        }\n",
    "    }\n",
    "}\n",
    "\n",
    "data_df$Race = race\n",
    "data_df$Ethnicity = ethnicity\n",
    "data_df$Sex = sex\n",
    "data_df$Age = age\n",
    "data_df$BMI = BMI"
   ]
  },
  {
   "cell_type": "markdown",
   "metadata": {},
   "source": [
    "First running \"crude\" model by running ANOVA to compare cytokine profiles across compartments. Then running ANCOVA to compare cytokine profiles across compartments adjusting for race and sex separately. Z-score normalizing for  cytokines (using pseudolog2 transformed concentrations)."
   ]
  },
  {
   "cell_type": "code",
   "execution_count": 3,
   "metadata": {},
   "outputs": [
    {
     "data": {
      "text/html": [
       "<table>\n",
       "<caption>A data.frame: 6 × 13</caption>\n",
       "<thead>\n",
       "\t<tr><th></th><th scope=col>Original_Identifier</th><th scope=col>Protein</th><th scope=col>Conc</th><th scope=col>Conc_pslog2</th><th scope=col>Compartment</th><th scope=col>SubjectNo</th><th scope=col>Group</th><th scope=col>SubjectID</th><th scope=col>Race</th><th scope=col>Ethnicity</th><th scope=col>Sex</th><th scope=col>Age</th><th scope=col>BMI</th></tr>\n",
       "\t<tr><th></th><th scope=col>&lt;chr&gt;</th><th scope=col>&lt;chr&gt;</th><th scope=col>&lt;dbl&gt;</th><th scope=col>&lt;dbl&gt;</th><th scope=col>&lt;chr&gt;</th><th scope=col>&lt;dbl&gt;</th><th scope=col>&lt;chr&gt;</th><th scope=col>&lt;chr&gt;</th><th scope=col>&lt;chr&gt;</th><th scope=col>&lt;chr&gt;</th><th scope=col>&lt;chr&gt;</th><th scope=col>&lt;dbl&gt;</th><th scope=col>&lt;dbl&gt;</th></tr>\n",
       "</thead>\n",
       "<tbody>\n",
       "\t<tr><th scope=row>1</th><td>E_C_F_002</td><td>IFNg   </td><td> 17.642316</td><td>4.220509</td><td>ELF</td><td>1</td><td>NS</td><td>NS_1</td><td>W</td><td>NH</td><td>F</td><td>28</td><td>37.67</td></tr>\n",
       "\t<tr><th scope=row>2</th><td>E_C_F_002</td><td>IL10   </td><td>  2.873724</td><td>1.953721</td><td>ELF</td><td>1</td><td>NS</td><td>NS_1</td><td>W</td><td>NH</td><td>F</td><td>28</td><td>37.67</td></tr>\n",
       "\t<tr><th scope=row>3</th><td>E_C_F_002</td><td>IL12p70</td><td>  1.625272</td><td>1.392467</td><td>ELF</td><td>1</td><td>NS</td><td>NS_1</td><td>W</td><td>NH</td><td>F</td><td>28</td><td>37.67</td></tr>\n",
       "\t<tr><th scope=row>4</th><td>E_C_F_002</td><td>IL13   </td><td> 36.117692</td><td>5.214035</td><td>ELF</td><td>1</td><td>NS</td><td>NS_1</td><td>W</td><td>NH</td><td>F</td><td>28</td><td>37.67</td></tr>\n",
       "\t<tr><th scope=row>5</th><td>E_C_F_002</td><td>IL1b   </td><td>104.409217</td><td>6.719857</td><td>ELF</td><td>1</td><td>NS</td><td>NS_1</td><td>W</td><td>NH</td><td>F</td><td>28</td><td>37.67</td></tr>\n",
       "\t<tr><th scope=row>6</th><td>E_C_F_002</td><td>IL6    </td><td> 21.159536</td><td>4.469856</td><td>ELF</td><td>1</td><td>NS</td><td>NS_1</td><td>W</td><td>NH</td><td>F</td><td>28</td><td>37.67</td></tr>\n",
       "</tbody>\n",
       "</table>\n"
      ],
      "text/latex": [
       "A data.frame: 6 × 13\n",
       "\\begin{tabular}{r|lllllllllllll}\n",
       "  & Original\\_Identifier & Protein & Conc & Conc\\_pslog2 & Compartment & SubjectNo & Group & SubjectID & Race & Ethnicity & Sex & Age & BMI\\\\\n",
       "  & <chr> & <chr> & <dbl> & <dbl> & <chr> & <dbl> & <chr> & <chr> & <chr> & <chr> & <chr> & <dbl> & <dbl>\\\\\n",
       "\\hline\n",
       "\t1 & E\\_C\\_F\\_002 & IFNg    &  17.642316 & 4.220509 & ELF & 1 & NS & NS\\_1 & W & NH & F & 28 & 37.67\\\\\n",
       "\t2 & E\\_C\\_F\\_002 & IL10    &   2.873724 & 1.953721 & ELF & 1 & NS & NS\\_1 & W & NH & F & 28 & 37.67\\\\\n",
       "\t3 & E\\_C\\_F\\_002 & IL12p70 &   1.625272 & 1.392467 & ELF & 1 & NS & NS\\_1 & W & NH & F & 28 & 37.67\\\\\n",
       "\t4 & E\\_C\\_F\\_002 & IL13    &  36.117692 & 5.214035 & ELF & 1 & NS & NS\\_1 & W & NH & F & 28 & 37.67\\\\\n",
       "\t5 & E\\_C\\_F\\_002 & IL1b    & 104.409217 & 6.719857 & ELF & 1 & NS & NS\\_1 & W & NH & F & 28 & 37.67\\\\\n",
       "\t6 & E\\_C\\_F\\_002 & IL6     &  21.159536 & 4.469856 & ELF & 1 & NS & NS\\_1 & W & NH & F & 28 & 37.67\\\\\n",
       "\\end{tabular}\n"
      ],
      "text/markdown": [
       "\n",
       "A data.frame: 6 × 13\n",
       "\n",
       "| <!--/--> | Original_Identifier &lt;chr&gt; | Protein &lt;chr&gt; | Conc &lt;dbl&gt; | Conc_pslog2 &lt;dbl&gt; | Compartment &lt;chr&gt; | SubjectNo &lt;dbl&gt; | Group &lt;chr&gt; | SubjectID &lt;chr&gt; | Race &lt;chr&gt; | Ethnicity &lt;chr&gt; | Sex &lt;chr&gt; | Age &lt;dbl&gt; | BMI &lt;dbl&gt; |\n",
       "|---|---|---|---|---|---|---|---|---|---|---|---|---|---|\n",
       "| 1 | E_C_F_002 | IFNg    |  17.642316 | 4.220509 | ELF | 1 | NS | NS_1 | W | NH | F | 28 | 37.67 |\n",
       "| 2 | E_C_F_002 | IL10    |   2.873724 | 1.953721 | ELF | 1 | NS | NS_1 | W | NH | F | 28 | 37.67 |\n",
       "| 3 | E_C_F_002 | IL12p70 |   1.625272 | 1.392467 | ELF | 1 | NS | NS_1 | W | NH | F | 28 | 37.67 |\n",
       "| 4 | E_C_F_002 | IL13    |  36.117692 | 5.214035 | ELF | 1 | NS | NS_1 | W | NH | F | 28 | 37.67 |\n",
       "| 5 | E_C_F_002 | IL1b    | 104.409217 | 6.719857 | ELF | 1 | NS | NS_1 | W | NH | F | 28 | 37.67 |\n",
       "| 6 | E_C_F_002 | IL6     |  21.159536 | 4.469856 | ELF | 1 | NS | NS_1 | W | NH | F | 28 | 37.67 |\n",
       "\n"
      ],
      "text/plain": [
       "  Original_Identifier Protein Conc       Conc_pslog2 Compartment SubjectNo\n",
       "1 E_C_F_002           IFNg     17.642316 4.220509    ELF         1        \n",
       "2 E_C_F_002           IL10      2.873724 1.953721    ELF         1        \n",
       "3 E_C_F_002           IL12p70   1.625272 1.392467    ELF         1        \n",
       "4 E_C_F_002           IL13     36.117692 5.214035    ELF         1        \n",
       "5 E_C_F_002           IL1b    104.409217 6.719857    ELF         1        \n",
       "6 E_C_F_002           IL6      21.159536 4.469856    ELF         1        \n",
       "  Group SubjectID Race Ethnicity Sex Age BMI  \n",
       "1 NS    NS_1      W    NH        F   28  37.67\n",
       "2 NS    NS_1      W    NH        F   28  37.67\n",
       "3 NS    NS_1      W    NH        F   28  37.67\n",
       "4 NS    NS_1      W    NH        F   28  37.67\n",
       "5 NS    NS_1      W    NH        F   28  37.67\n",
       "6 NS    NS_1      W    NH        F   28  37.67"
      ]
     },
     "metadata": {},
     "output_type": "display_data"
    }
   ],
   "source": [
    "head(data_df)"
   ]
  },
  {
   "cell_type": "code",
   "execution_count": 4,
   "metadata": {},
   "outputs": [],
   "source": [
    "#making race binary between black and non- black subjects\n",
    "#making race binary between white and non-white subjects\n",
    "for (i in 1:length(demographics_data_df$Race)){\n",
    "    if(demographics_data_df$Race[i] != 'W'){\n",
    "        demographics_data_df$Race[i] = 'NW'\n",
    "    }\n",
    "}"
   ]
  },
  {
   "cell_type": "code",
   "execution_count": 5,
   "metadata": {
    "scrolled": true
   },
   "outputs": [
    {
     "data": {
      "text/html": [
       "<table>\n",
       "<caption>A grouped_df: 6 × 14</caption>\n",
       "<thead>\n",
       "\t<tr><th scope=col>Original_Identifier</th><th scope=col>Protein</th><th scope=col>Conc</th><th scope=col>Conc_pslog2</th><th scope=col>Compartment</th><th scope=col>SubjectNo</th><th scope=col>Group</th><th scope=col>SubjectID</th><th scope=col>Race</th><th scope=col>Ethnicity</th><th scope=col>Sex</th><th scope=col>Age</th><th scope=col>BMI</th><th scope=col>Scaled_Concentrations</th></tr>\n",
       "\t<tr><th scope=col>&lt;chr&gt;</th><th scope=col>&lt;chr&gt;</th><th scope=col>&lt;dbl&gt;</th><th scope=col>&lt;dbl&gt;</th><th scope=col>&lt;chr&gt;</th><th scope=col>&lt;dbl&gt;</th><th scope=col>&lt;chr&gt;</th><th scope=col>&lt;chr&gt;</th><th scope=col>&lt;chr&gt;</th><th scope=col>&lt;chr&gt;</th><th scope=col>&lt;chr&gt;</th><th scope=col>&lt;dbl&gt;</th><th scope=col>&lt;dbl&gt;</th><th scope=col>&lt;dbl[,1]&gt;</th></tr>\n",
       "</thead>\n",
       "<tbody>\n",
       "\t<tr><td>E_C_F_002</td><td>Eotaxin</td><td>147.64524</td><td>7.215729</td><td>ELF</td><td> 1</td><td>NS</td><td>NS_1 </td><td>W</td><td>NH</td><td>F</td><td>28</td><td>37.67</td><td> 0.4682499</td></tr>\n",
       "\t<tr><td>E_C_M_122</td><td>Eotaxin</td><td>257.88962</td><td>8.016193</td><td>ELF</td><td>10</td><td>NS</td><td>NS_10</td><td>W</td><td>NH</td><td>M</td><td>34</td><td>19.80</td><td> 0.7153580</td></tr>\n",
       "\t<tr><td>E_C_M_123</td><td>Eotaxin</td><td> 75.86487</td><td>6.264252</td><td>ELF</td><td>11</td><td>NS</td><td>NS_11</td><td>W</td><td>NH</td><td>M</td><td>24</td><td>26.10</td><td> 0.1745230</td></tr>\n",
       "\t<tr><td>E_C_M_130</td><td>Eotaxin</td><td>121.64497</td><td>6.938344</td><td>ELF</td><td>12</td><td>NS</td><td>NS_12</td><td>W</td><td>NH</td><td>M</td><td>26</td><td>20.00</td><td> 0.3826194</td></tr>\n",
       "\t<tr><td>E_C_M_138</td><td>Eotaxin</td><td> 34.57231</td><td>5.152683</td><td>ELF</td><td>13</td><td>NS</td><td>NS_13</td><td>W</td><td>H </td><td>M</td><td>39</td><td>36.80</td><td>-0.1686254</td></tr>\n",
       "\t<tr><td>E_C_M_140</td><td>Eotaxin</td><td>244.21306</td><td>7.937892</td><td>ELF</td><td>14</td><td>NS</td><td>NS_14</td><td>W</td><td>NH</td><td>M</td><td>31</td><td>29.70</td><td> 0.6911859</td></tr>\n",
       "</tbody>\n",
       "</table>\n"
      ],
      "text/latex": [
       "A grouped\\_df: 6 × 14\n",
       "\\begin{tabular}{llllllllllllll}\n",
       " Original\\_Identifier & Protein & Conc & Conc\\_pslog2 & Compartment & SubjectNo & Group & SubjectID & Race & Ethnicity & Sex & Age & BMI & Scaled\\_Concentrations\\\\\n",
       " <chr> & <chr> & <dbl> & <dbl> & <chr> & <dbl> & <chr> & <chr> & <chr> & <chr> & <chr> & <dbl> & <dbl> & <dbl{[},1{]}>\\\\\n",
       "\\hline\n",
       "\t E\\_C\\_F\\_002 & Eotaxin & 147.64524 & 7.215729 & ELF &  1 & NS & NS\\_1  & W & NH & F & 28 & 37.67 &  0.4682499\\\\\n",
       "\t E\\_C\\_M\\_122 & Eotaxin & 257.88962 & 8.016193 & ELF & 10 & NS & NS\\_10 & W & NH & M & 34 & 19.80 &  0.7153580\\\\\n",
       "\t E\\_C\\_M\\_123 & Eotaxin &  75.86487 & 6.264252 & ELF & 11 & NS & NS\\_11 & W & NH & M & 24 & 26.10 &  0.1745230\\\\\n",
       "\t E\\_C\\_M\\_130 & Eotaxin & 121.64497 & 6.938344 & ELF & 12 & NS & NS\\_12 & W & NH & M & 26 & 20.00 &  0.3826194\\\\\n",
       "\t E\\_C\\_M\\_138 & Eotaxin &  34.57231 & 5.152683 & ELF & 13 & NS & NS\\_13 & W & H  & M & 39 & 36.80 & -0.1686254\\\\\n",
       "\t E\\_C\\_M\\_140 & Eotaxin & 244.21306 & 7.937892 & ELF & 14 & NS & NS\\_14 & W & NH & M & 31 & 29.70 &  0.6911859\\\\\n",
       "\\end{tabular}\n"
      ],
      "text/markdown": [
       "\n",
       "A grouped_df: 6 × 14\n",
       "\n",
       "| Original_Identifier &lt;chr&gt; | Protein &lt;chr&gt; | Conc &lt;dbl&gt; | Conc_pslog2 &lt;dbl&gt; | Compartment &lt;chr&gt; | SubjectNo &lt;dbl&gt; | Group &lt;chr&gt; | SubjectID &lt;chr&gt; | Race &lt;chr&gt; | Ethnicity &lt;chr&gt; | Sex &lt;chr&gt; | Age &lt;dbl&gt; | BMI &lt;dbl&gt; | Scaled_Concentrations &lt;dbl[,1]&gt; |\n",
       "|---|---|---|---|---|---|---|---|---|---|---|---|---|---|\n",
       "| E_C_F_002 | Eotaxin | 147.64524 | 7.215729 | ELF |  1 | NS | NS_1  | W | NH | F | 28 | 37.67 |  0.4682499 |\n",
       "| E_C_M_122 | Eotaxin | 257.88962 | 8.016193 | ELF | 10 | NS | NS_10 | W | NH | M | 34 | 19.80 |  0.7153580 |\n",
       "| E_C_M_123 | Eotaxin |  75.86487 | 6.264252 | ELF | 11 | NS | NS_11 | W | NH | M | 24 | 26.10 |  0.1745230 |\n",
       "| E_C_M_130 | Eotaxin | 121.64497 | 6.938344 | ELF | 12 | NS | NS_12 | W | NH | M | 26 | 20.00 |  0.3826194 |\n",
       "| E_C_M_138 | Eotaxin |  34.57231 | 5.152683 | ELF | 13 | NS | NS_13 | W | H  | M | 39 | 36.80 | -0.1686254 |\n",
       "| E_C_M_140 | Eotaxin | 244.21306 | 7.937892 | ELF | 14 | NS | NS_14 | W | NH | M | 31 | 29.70 |  0.6911859 |\n",
       "\n"
      ],
      "text/plain": [
       "  Original_Identifier Protein Conc      Conc_pslog2 Compartment SubjectNo Group\n",
       "1 E_C_F_002           Eotaxin 147.64524 7.215729    ELF          1        NS   \n",
       "2 E_C_M_122           Eotaxin 257.88962 8.016193    ELF         10        NS   \n",
       "3 E_C_M_123           Eotaxin  75.86487 6.264252    ELF         11        NS   \n",
       "4 E_C_M_130           Eotaxin 121.64497 6.938344    ELF         12        NS   \n",
       "5 E_C_M_138           Eotaxin  34.57231 5.152683    ELF         13        NS   \n",
       "6 E_C_M_140           Eotaxin 244.21306 7.937892    ELF         14        NS   \n",
       "  SubjectID Race Ethnicity Sex Age BMI   Scaled_Concentrations\n",
       "1 NS_1      W    NH        F   28  37.67  0.4682499           \n",
       "2 NS_10     W    NH        M   34  19.80  0.7153580           \n",
       "3 NS_11     W    NH        M   24  26.10  0.1745230           \n",
       "4 NS_12     W    NH        M   26  20.00  0.3826194           \n",
       "5 NS_13     W    H         M   39  36.80 -0.1686254           \n",
       "6 NS_14     W    NH        M   31  29.70  0.6911859           "
      ]
     },
     "metadata": {},
     "output_type": "display_data"
    }
   ],
   "source": [
    "#scaling the concentration values by protein normalizes the distribution\n",
    "scaled_data_df = data_df %>%\n",
    "    filter(Group == 'NS') %>% #non-smokers only\n",
    "    group_by(Protein) %>% #this groups by compartment first\n",
    "    mutate(Scaled_Concentrations = scale(Conc_pslog2)) %>%\n",
    "    arrange(Compartment, Protein, SubjectID) #arranges by compartment, then protein, then subjectid\n",
    "head(scaled_data_df)"
   ]
  },
  {
   "cell_type": "code",
   "execution_count": 6,
   "metadata": {},
   "outputs": [],
   "source": [
    "# creating a df for each cytokine individually\n",
    "Eotaxin_scaled = scaled_data_df %>% filter(Protein == 'Eotaxin')\n",
    "Eotaxin3_scaled = scaled_data_df %>% filter(Protein == 'Eotaxin3')\n",
    "Fractalkine_scaled = scaled_data_df %>% filter(Protein == 'Fractalkine')\n",
    "I309_scaled = scaled_data_df %>% filter(Protein == 'I309')\n",
    "IFNg_scaled = scaled_data_df %>% filter(Protein == 'IFNg')\n",
    "IL10_scaled = scaled_data_df %>% filter(Protein == 'IL10')\n",
    "IL12p70_scaled = scaled_data_df %>% filter(Protein == 'IL12p70')\n",
    "IL13_scaled = scaled_data_df %>% filter(Protein == 'IL13')\n",
    "IL17B_scaled = scaled_data_df %>% filter(Protein == 'IL17B')\n",
    "IL17D_scaled = scaled_data_df %>% filter(Protein == 'IL17D')\n",
    "IL1b_scaled = scaled_data_df %>% filter(Protein == 'IL1b')\n",
    "IL4_scaled = scaled_data_df %>% filter(Protein == 'IL4')\n",
    "IL6_scaled = scaled_data_df %>% filter(Protein == 'IL6')\n",
    "IL8_scaled = scaled_data_df %>% filter(Protein == 'IL8')\n",
    "IP10_scaled = scaled_data_df %>% filter(Protein == 'IP10')\n",
    "ITAC_scaled = scaled_data_df %>% filter(Protein == 'ITAC')\n",
    "MCP1_scaled = scaled_data_df %>% filter(Protein == 'MCP1')\n",
    "MIG_scaled = scaled_data_df %>% filter(Protein == 'MIG')\n",
    "MIP1a_scaled = scaled_data_df %>% filter(Protein == 'MIP1a')\n",
    "MIP1b_scaled = scaled_data_df %>% filter(Protein == 'MIP1b')\n",
    "TARC_scaled = scaled_data_df %>% filter(Protein == 'TARC')\n",
    "TNFa_scaled = scaled_data_df %>% filter(Protein == 'TNFa')"
   ]
  },
  {
   "cell_type": "markdown",
   "metadata": {},
   "source": [
    "## One-way Anova"
   ]
  },
  {
   "cell_type": "code",
   "execution_count": 7,
   "metadata": {},
   "outputs": [
    {
     "data": {
      "image/png": "[encoded data removed]",
      "text/plain": [
       "Plot with title “Histogram of Eotaxin_scaled$Scaled_Concentrations”"
      ]
     },
     "metadata": {
      "image/png": {
       "height": 420,
       "width": 420
      }
     },
     "output_type": "display_data"
    }
   ],
   "source": [
    "#checking for normal distribution\n",
    "hist(Eotaxin_scaled$Scaled_Concentrations)"
   ]
  },
  {
   "cell_type": "code",
   "execution_count": 8,
   "metadata": {},
   "outputs": [],
   "source": [
    "#formatting data to be put into the anova function \n",
    "change_data_types = function(scaled_df){\n",
    "    #making compartment and covariates into factors\n",
    "    scaled_df$Compartment = factor(scaled_df$Compartment, labels = c(unique(scaled_df$Compartment)))\n",
    "    scaled_df$Race = factor(scaled_df$Race, labels = c(unique(scaled_df$Race)))\n",
    "    \n",
    "    #making scaled_concentrations col into a numeric\n",
    "    scaled_df$Scaled_Concentrations = as.numeric(scaled_df$Scaled_Concentrations)\n",
    "    return(scaled_df)\n",
    "}\n",
    "\n",
    "#calling fn\n",
    "Eotaxin_scaled_factored = change_data_types(Eotaxin_scaled)\n",
    "Eotaxin3_scaled_factored = change_data_types(Eotaxin3_scaled)\n",
    "Fractalkine_scaled_factored = change_data_types(Fractalkine_scaled)\n",
    "I309_scaled_factored = change_data_types(I309_scaled)\n",
    "IFNg_scaled_factored = change_data_types(IFNg_scaled)\n",
    "IL10_scaled_factored = change_data_types(IL10_scaled)\n",
    "IL12p70_scaled_factored = change_data_types(IL12p70_scaled)\n",
    "IL13_scaled_factored = change_data_types(IL13_scaled)\n",
    "IL17B_scaled_factored = change_data_types(IL17B_scaled)\n",
    "IL17D_scaled_factored = change_data_types(IL17D_scaled)\n",
    "IL1b_scaled_factored = change_data_types(IL1b_scaled)\n",
    "IL4_scaled_factored = change_data_types(IL4_scaled)\n",
    "IL6_scaled_factored = change_data_types(IL6_scaled)\n",
    "IL8_scaled_factored = change_data_types(IL8_scaled)\n",
    "IP10_scaled_factored = change_data_types(IP10_scaled)\n",
    "ITAC_scaled_factored = change_data_types(ITAC_scaled)\n",
    "MCP1_scaled_factored = change_data_types(MCP1_scaled)\n",
    "MIG_scaled_factored = change_data_types(MIG_scaled)\n",
    "MIP1a_scaled_factored = change_data_types(MIP1a_scaled)\n",
    "MIP1b_scaled_factored = change_data_types(MIP1b_scaled)\n",
    "TARC_scaled_factored = change_data_types(TARC_scaled)\n",
    "TNFa_scaled_factored = change_data_types(TNFa_scaled)"
   ]
  },
  {
   "cell_type": "code",
   "execution_count": 9,
   "metadata": {},
   "outputs": [
    {
     "data": {
      "text/html": [
       "<table>\n",
       "<caption>A matrix: 4 × 3 of type dbl</caption>\n",
       "<thead>\n",
       "\t<tr><th></th><th scope=col>NLF</th><th scope=col>Serum</th><th scope=col>Sputum</th></tr>\n",
       "</thead>\n",
       "<tbody>\n",
       "\t<tr><th scope=row>ELF</th><td>0</td><td>0</td><td>0</td></tr>\n",
       "\t<tr><th scope=row>NLF</th><td>1</td><td>0</td><td>0</td></tr>\n",
       "\t<tr><th scope=row>Serum</th><td>0</td><td>1</td><td>0</td></tr>\n",
       "\t<tr><th scope=row>Sputum</th><td>0</td><td>0</td><td>1</td></tr>\n",
       "</tbody>\n",
       "</table>\n"
      ],
      "text/latex": [
       "A matrix: 4 × 3 of type dbl\n",
       "\\begin{tabular}{r|lll}\n",
       "  & NLF & Serum & Sputum\\\\\n",
       "\\hline\n",
       "\tELF & 0 & 0 & 0\\\\\n",
       "\tNLF & 1 & 0 & 0\\\\\n",
       "\tSerum & 0 & 1 & 0\\\\\n",
       "\tSputum & 0 & 0 & 1\\\\\n",
       "\\end{tabular}\n"
      ],
      "text/markdown": [
       "\n",
       "A matrix: 4 × 3 of type dbl\n",
       "\n",
       "| <!--/--> | NLF | Serum | Sputum |\n",
       "|---|---|---|---|\n",
       "| ELF | 0 | 0 | 0 |\n",
       "| NLF | 1 | 0 | 0 |\n",
       "| Serum | 0 | 1 | 0 |\n",
       "| Sputum | 0 | 0 | 1 |\n",
       "\n"
      ],
      "text/plain": [
       "       NLF Serum Sputum\n",
       "ELF    0   0     0     \n",
       "NLF    1   0     0     \n",
       "Serum  0   1     0     \n",
       "Sputum 0   0     1     "
      ]
     },
     "metadata": {},
     "output_type": "display_data"
    }
   ],
   "source": [
    "#contrasts show what compartments are being compared in anova\n",
    "#these comparisons aren't what we want so I changed them in the function below\n",
    "contrasts(Eotaxin_scaled_factored$Compartment)"
   ]
  },
  {
   "cell_type": "markdown",
   "metadata": {},
   "source": [
    "                      Table of Contrasts\n",
    ">                 NLF (Baseline) | ELF | Sputum | Serum | Sum\n",
    ">     Contrast 1 |         -3    |  1  |   1    |   1   |  0\n",
    ">     Contrast 2 |         0     | -2  |   1    |   1   |  0\n",
    ">     Contrast 3 |         0     |  0  |   -1   |   1   |  0\n",
    "\n",
    "> - Contrast 1: compares NLF to all other compartments\n",
    "> - Contrast 2: compares ELF to Sputum, Serum\n",
    "> - Contrast 3: compares Sputum to Serum"
   ]
  },
  {
   "cell_type": "code",
   "execution_count": 10,
   "metadata": {
    "scrolled": true
   },
   "outputs": [],
   "source": [
    "get_anova = function(scaled_df){\n",
    "    contrasts(scaled_df$Compartment) = cbind(c(1,-3,1,1),c(-2,0,1,1), c(0,0,-1,1)) #meaning is specified above\n",
    "    anova = aov(Scaled_Concentrations~Compartment, data = scaled_df)\n",
    "    return(anova)\n",
    "}\n",
    "\n",
    "#calling fn\n",
    "Eotaxin_anova = get_anova(Eotaxin_scaled_factored)\n",
    "Eotaxin3_anova = get_anova(Eotaxin3_scaled_factored)\n",
    "Fractalkine_anova = get_anova(Fractalkine_scaled_factored)\n",
    "I309_anova = get_anova(I309_scaled_factored)\n",
    "IFNg_anova = get_anova(IFNg_scaled_factored)\n",
    "IL10_anova = get_anova(IL10_scaled_factored)\n",
    "IL12p70_anova = get_anova(IL12p70_scaled_factored)\n",
    "IL13_anova = get_anova(IL13_scaled_factored)\n",
    "IL17B_anova = get_anova(IL17B_scaled_factored)\n",
    "IL17D_anova = get_anova(IL17D_scaled_factored)\n",
    "IL1b_anova = get_anova(IL1b_scaled_factored)\n",
    "IL4_anova = get_anova(IL4_scaled_factored)\n",
    "IL6_anova = get_anova(IL6_scaled_factored)\n",
    "IL8_anova = get_anova(IL8_scaled_factored)\n",
    "IP10_anova = get_anova(IP10_scaled_factored)\n",
    "ITAC_anova = get_anova(ITAC_scaled_factored)\n",
    "MCP1_anova = get_anova(MCP1_scaled_factored)\n",
    "MIG_anova = get_anova(MIG_scaled_factored)\n",
    "MIP1a_anova = get_anova(MIP1a_scaled_factored)\n",
    "MIP1b_anova = get_anova(MIP1b_scaled_factored)\n",
    "TARC_anova = get_anova(TARC_scaled_factored)\n",
    "TNFa_anova = get_anova(TNFa_scaled_factored)"
   ]
  },
  {
   "cell_type": "code",
   "execution_count": 11,
   "metadata": {},
   "outputs": [
    {
     "data": {
      "text/plain": [
       "            Df Sum Sq Mean Sq F value   Pr(>F)    \n",
       "Compartment  3  41.07  13.689   51.08 1.59e-15 ***\n",
       "Residuals   52  13.93   0.268                     \n",
       "---\n",
       "Signif. codes:  0 ‘***’ 0.001 ‘**’ 0.01 ‘*’ 0.05 ‘.’ 0.1 ‘ ’ 1"
      ]
     },
     "metadata": {},
     "output_type": "display_data"
    },
    {
     "data": {
      "text/plain": [
       "            Df Sum Sq Mean Sq F value Pr(>F)   \n",
       "Compartment  3  13.51   4.504   5.646  0.002 **\n",
       "Residuals   52  41.49   0.798                  \n",
       "---\n",
       "Signif. codes:  0 ‘***’ 0.001 ‘**’ 0.01 ‘*’ 0.05 ‘.’ 0.1 ‘ ’ 1"
      ]
     },
     "metadata": {},
     "output_type": "display_data"
    },
    {
     "data": {
      "text/plain": [
       "            Df Sum Sq Mean Sq F value   Pr(>F)    \n",
       "Compartment  3  30.94  10.313   22.29 2.05e-09 ***\n",
       "Residuals   52  24.06   0.463                     \n",
       "---\n",
       "Signif. codes:  0 ‘***’ 0.001 ‘**’ 0.01 ‘*’ 0.05 ‘.’ 0.1 ‘ ’ 1"
      ]
     },
     "metadata": {},
     "output_type": "display_data"
    },
    {
     "data": {
      "text/plain": [
       "            Df Sum Sq Mean Sq F value  Pr(>F)   \n",
       "Compartment  3  13.23   4.410   5.491 0.00236 **\n",
       "Residuals   52  41.77   0.803                   \n",
       "---\n",
       "Signif. codes:  0 ‘***’ 0.001 ‘**’ 0.01 ‘*’ 0.05 ‘.’ 0.1 ‘ ’ 1"
      ]
     },
     "metadata": {},
     "output_type": "display_data"
    },
    {
     "data": {
      "text/plain": [
       "            Df Sum Sq Mean Sq F value   Pr(>F)    \n",
       "Compartment  3  41.85  13.951   55.18 3.55e-16 ***\n",
       "Residuals   52  13.15   0.253                     \n",
       "---\n",
       "Signif. codes:  0 ‘***’ 0.001 ‘**’ 0.01 ‘*’ 0.05 ‘.’ 0.1 ‘ ’ 1"
      ]
     },
     "metadata": {},
     "output_type": "display_data"
    },
    {
     "data": {
      "text/plain": [
       "            Df Sum Sq Mean Sq F value   Pr(>F)    \n",
       "Compartment  3  38.79  12.929   41.47 7.96e-14 ***\n",
       "Residuals   52  16.21   0.312                     \n",
       "---\n",
       "Signif. codes:  0 ‘***’ 0.001 ‘**’ 0.01 ‘*’ 0.05 ‘.’ 0.1 ‘ ’ 1"
      ]
     },
     "metadata": {},
     "output_type": "display_data"
    },
    {
     "data": {
      "text/plain": [
       "            Df Sum Sq Mean Sq F value   Pr(>F)    \n",
       "Compartment  3  21.31   7.105   10.97 1.09e-05 ***\n",
       "Residuals   52  33.69   0.648                     \n",
       "---\n",
       "Signif. codes:  0 ‘***’ 0.001 ‘**’ 0.01 ‘*’ 0.05 ‘.’ 0.1 ‘ ’ 1"
      ]
     },
     "metadata": {},
     "output_type": "display_data"
    },
    {
     "data": {
      "text/plain": [
       "            Df Sum Sq Mean Sq F value   Pr(>F)    \n",
       "Compartment  3  15.04   5.014   6.525 0.000789 ***\n",
       "Residuals   52  39.96   0.768                     \n",
       "---\n",
       "Signif. codes:  0 ‘***’ 0.001 ‘**’ 0.01 ‘*’ 0.05 ‘.’ 0.1 ‘ ’ 1"
      ]
     },
     "metadata": {},
     "output_type": "display_data"
    },
    {
     "data": {
      "text/plain": [
       "            Df Sum Sq Mean Sq F value   Pr(>F)    \n",
       "Compartment  3  19.16   6.387   9.267 5.19e-05 ***\n",
       "Residuals   52  35.84   0.689                     \n",
       "---\n",
       "Signif. codes:  0 ‘***’ 0.001 ‘**’ 0.01 ‘*’ 0.05 ‘.’ 0.1 ‘ ’ 1"
      ]
     },
     "metadata": {},
     "output_type": "display_data"
    },
    {
     "data": {
      "text/plain": [
       "            Df Sum Sq Mean Sq F value Pr(>F)  \n",
       "Compartment  3   8.63  2.8775   3.227 0.0298 *\n",
       "Residuals   52  46.37  0.8917                 \n",
       "---\n",
       "Signif. codes:  0 ‘***’ 0.001 ‘**’ 0.01 ‘*’ 0.05 ‘.’ 0.1 ‘ ’ 1"
      ]
     },
     "metadata": {},
     "output_type": "display_data"
    },
    {
     "data": {
      "text/plain": [
       "            Df Sum Sq Mean Sq F value Pr(>F)    \n",
       "Compartment  3  43.13  14.375   62.95 <2e-16 ***\n",
       "Residuals   52  11.87   0.228                   \n",
       "---\n",
       "Signif. codes:  0 ‘***’ 0.001 ‘**’ 0.01 ‘*’ 0.05 ‘.’ 0.1 ‘ ’ 1"
      ]
     },
     "metadata": {},
     "output_type": "display_data"
    },
    {
     "data": {
      "text/plain": [
       "            Df Sum Sq Mean Sq F value Pr(>F)    \n",
       "Compartment  3  43.55   14.52   65.89 <2e-16 ***\n",
       "Residuals   52  11.45    0.22                   \n",
       "---\n",
       "Signif. codes:  0 ‘***’ 0.001 ‘**’ 0.01 ‘*’ 0.05 ‘.’ 0.1 ‘ ’ 1"
      ]
     },
     "metadata": {},
     "output_type": "display_data"
    },
    {
     "data": {
      "text/plain": [
       "            Df Sum Sq Mean Sq F value  Pr(>F)   \n",
       "Compartment  3  14.52   4.838   6.215 0.00109 **\n",
       "Residuals   52  40.48   0.779                   \n",
       "---\n",
       "Signif. codes:  0 ‘***’ 0.001 ‘**’ 0.01 ‘*’ 0.05 ‘.’ 0.1 ‘ ’ 1"
      ]
     },
     "metadata": {},
     "output_type": "display_data"
    },
    {
     "data": {
      "text/plain": [
       "            Df Sum Sq Mean Sq F value Pr(>F)    \n",
       "Compartment  3   45.2  15.067   79.97 <2e-16 ***\n",
       "Residuals   52    9.8   0.188                   \n",
       "---\n",
       "Signif. codes:  0 ‘***’ 0.001 ‘**’ 0.01 ‘*’ 0.05 ‘.’ 0.1 ‘ ’ 1"
      ]
     },
     "metadata": {},
     "output_type": "display_data"
    },
    {
     "data": {
      "text/plain": [
       "            Df Sum Sq Mean Sq F value Pr(>F)\n",
       "Compartment  3   5.97  1.9910   2.112   0.11\n",
       "Residuals   52  49.03  0.9428               "
      ]
     },
     "metadata": {},
     "output_type": "display_data"
    },
    {
     "data": {
      "text/plain": [
       "            Df Sum Sq Mean Sq F value   Pr(>F)    \n",
       "Compartment  3  19.35   6.451    9.41 4.54e-05 ***\n",
       "Residuals   52  35.65   0.686                     \n",
       "---\n",
       "Signif. codes:  0 ‘***’ 0.001 ‘**’ 0.01 ‘*’ 0.05 ‘.’ 0.1 ‘ ’ 1"
      ]
     },
     "metadata": {},
     "output_type": "display_data"
    },
    {
     "data": {
      "text/plain": [
       "            Df Sum Sq Mean Sq F value Pr(>F)    \n",
       "Compartment  3  45.94  15.314   87.92 <2e-16 ***\n",
       "Residuals   52   9.06   0.174                   \n",
       "---\n",
       "Signif. codes:  0 ‘***’ 0.001 ‘**’ 0.01 ‘*’ 0.05 ‘.’ 0.1 ‘ ’ 1"
      ]
     },
     "metadata": {},
     "output_type": "display_data"
    },
    {
     "data": {
      "text/plain": [
       "            Df Sum Sq Mean Sq F value  Pr(>F)    \n",
       "Compartment  3  18.27   6.091   8.624 9.6e-05 ***\n",
       "Residuals   52  36.73   0.706                    \n",
       "---\n",
       "Signif. codes:  0 ‘***’ 0.001 ‘**’ 0.01 ‘*’ 0.05 ‘.’ 0.1 ‘ ’ 1"
      ]
     },
     "metadata": {},
     "output_type": "display_data"
    },
    {
     "data": {
      "text/plain": [
       "            Df Sum Sq Mean Sq F value   Pr(>F)    \n",
       "Compartment  3  24.09   8.029   13.51 1.23e-06 ***\n",
       "Residuals   52  30.91   0.594                     \n",
       "---\n",
       "Signif. codes:  0 ‘***’ 0.001 ‘**’ 0.01 ‘*’ 0.05 ‘.’ 0.1 ‘ ’ 1"
      ]
     },
     "metadata": {},
     "output_type": "display_data"
    },
    {
     "data": {
      "text/plain": [
       "            Df Sum Sq Mean Sq F value  Pr(>F)    \n",
       "Compartment  3  38.27  12.755   39.63 1.8e-13 ***\n",
       "Residuals   52  16.73   0.322                    \n",
       "---\n",
       "Signif. codes:  0 ‘***’ 0.001 ‘**’ 0.01 ‘*’ 0.05 ‘.’ 0.1 ‘ ’ 1"
      ]
     },
     "metadata": {},
     "output_type": "display_data"
    },
    {
     "data": {
      "text/plain": [
       "            Df Sum Sq Mean Sq F value Pr(>F)    \n",
       "Compartment  3  49.84  16.615   167.6 <2e-16 ***\n",
       "Residuals   52   5.16   0.099                   \n",
       "---\n",
       "Signif. codes:  0 ‘***’ 0.001 ‘**’ 0.01 ‘*’ 0.05 ‘.’ 0.1 ‘ ’ 1"
      ]
     },
     "metadata": {},
     "output_type": "display_data"
    },
    {
     "data": {
      "text/plain": [
       "            Df Sum Sq Mean Sq F value   Pr(>F)    \n",
       "Compartment  3  39.82  13.273   45.47 1.46e-14 ***\n",
       "Residuals   52  15.18   0.292                     \n",
       "---\n",
       "Signif. codes:  0 ‘***’ 0.001 ‘**’ 0.01 ‘*’ 0.05 ‘.’ 0.1 ‘ ’ 1"
      ]
     },
     "metadata": {},
     "output_type": "display_data"
    }
   ],
   "source": [
    "#viewing results\n",
    "summary(Eotaxin_anova) \n",
    "summary(Eotaxin3_anova)\n",
    "summary(Fractalkine_anova) \n",
    "summary(I309_anova) \n",
    "summary(IFNg_anova) \n",
    "summary(IL10_anova) \n",
    "summary(IL12p70_anova) \n",
    "summary(IL13_anova) \n",
    "summary(IL17B_anova) \n",
    "summary(IL17D_anova) \n",
    "summary(IL1b_anova) \n",
    "summary(IL4_anova) \n",
    "summary(IL6_anova) \n",
    "summary(IL8_anova)\n",
    "summary(IP10_anova) \n",
    "summary(ITAC_anova) \n",
    "summary(MCP1_anova) \n",
    "summary(MIG_anova) \n",
    "summary(MIP1a_anova) \n",
    "summary(MIP1b_anova) \n",
    "summary(TARC_anova) \n",
    "summary(TNFa_anova) "
   ]
  },
  {
   "cell_type": "markdown",
   "metadata": {},
   "source": [
    "All of these yielded statistically significant results except IP10. ANOVA tests only tell us if there are differences between groups (cytokines), but not which ones hence we need a Tukey's test for post hoc to do that."
   ]
  },
  {
   "cell_type": "code",
   "execution_count": 12,
   "metadata": {},
   "outputs": [],
   "source": [
    "# Tukey's post hoc\n",
    "Eotaxin_tukey_anova = TukeyHSD(Eotaxin_anova, type = 'III')\n",
    "Eotaxin3_tukey_anova = TukeyHSD(Eotaxin3_anova, type = 'III')\n",
    "Fractalkine_tukey_anova = TukeyHSD(Fractalkine_anova, type = 'III')\n",
    "I309_tukey_anova = TukeyHSD(I309_anova, type = 'III')\n",
    "IFNg_tukey_anova = TukeyHSD(IFNg_anova, type = 'III')\n",
    "IL10_tukey_anova = TukeyHSD(IL10_anova, type = 'III')\n",
    "IL12p70_tukey_anova = TukeyHSD(IL12p70_anova, type = 'III')\n",
    "IL13_tukey_anova = TukeyHSD(IL13_anova, type = 'III')\n",
    "IL17B_tukey_anova = TukeyHSD(IL17B_anova, type = 'III')\n",
    "IL17D_tukey_anova = TukeyHSD(IL17D_anova, type = 'III')\n",
    "IL1b_tukey_anova = TukeyHSD(IL1b_anova, type = 'III')\n",
    "IL4_tukey_anova = TukeyHSD(IL4_anova, type = 'III')\n",
    "IL6_tukey_anova = TukeyHSD(IL6_anova, type = 'III')\n",
    "IL8_tukey_anova = TukeyHSD(IL8_anova, type = 'III')\n",
    "IP10_tukey_anova = TukeyHSD(IP10_anova, type = 'III')\n",
    "ITAC_tukey_anova = TukeyHSD(ITAC_anova, type = 'III')\n",
    "MCP1_tukey_anova = TukeyHSD(MCP1_anova, type = 'III')\n",
    "MIG_tukey_anova = TukeyHSD(MIG_anova, type = 'III')\n",
    "MIP1a_tukey_anova = TukeyHSD(MIP1a_anova, type = 'III')\n",
    "MIP1b_tukey_anova = TukeyHSD(MIP1b_anova, type = 'III')\n",
    "TARC_tukey_anova = TukeyHSD(TARC_anova, type = 'III')\n",
    "TNFa_tukey_anova = TukeyHSD(TNFa_anova, type = 'III')"
   ]
  },
  {
   "cell_type": "markdown",
   "metadata": {},
   "source": [
    "# ANCOVA"
   ]
  },
  {
   "cell_type": "code",
   "execution_count": 13,
   "metadata": {},
   "outputs": [],
   "source": [
    "#controlling for race\n",
    "get_ancova_race = function(scaled_df){\n",
    "    contrasts(scaled_df$Compartment) = cbind(c(1,-3,1,1),c(-2,0,1,1), c(0,0,-1,1))\n",
    "    ancova = aov(Scaled_Concentrations~Race+Compartment, data = scaled_df) \n",
    "    #anova_type3 = Anova(ancova, type = 'III')\n",
    "    return(ancova)\n",
    "}\n",
    "\n",
    "#calling fn\n",
    "Eotaxin_ancova_race = get_ancova_race(Eotaxin_scaled_factored)\n",
    "Eotaxin3_ancova_race = get_ancova_race(Eotaxin3_scaled_factored)\n",
    "Fractalkine_ancova_race = get_ancova_race(Fractalkine_scaled_factored)\n",
    "I309_ancova_race = get_ancova_race(I309_scaled_factored)\n",
    "IFNg_ancova_race = get_ancova_race(IFNg_scaled_factored)\n",
    "IL10_ancova_race = get_ancova_race(IL10_scaled_factored)\n",
    "IL12p70_ancova_race = get_ancova_race(IL12p70_scaled_factored)\n",
    "IL13_ancova_race = get_ancova_race(IL13_scaled_factored)\n",
    "IL17B_ancova_race = get_ancova_race(IL17B_scaled_factored)\n",
    "IL17D_ancova_race = get_ancova_race(IL17D_scaled_factored)\n",
    "IL1b_ancova_race = get_ancova_race(IL1b_scaled_factored)\n",
    "IL4_ancova_race = get_ancova_race(IL4_scaled_factored)\n",
    "IL6_ancova_race = get_ancova_race(IL6_scaled_factored)\n",
    "IL8_ancova_race = get_ancova_race(IL8_scaled_factored)\n",
    "IP10_ancova_race = get_ancova_race(IP10_scaled_factored)\n",
    "ITAC_ancova_race = get_ancova_race(ITAC_scaled_factored)\n",
    "MCP1_ancova_race = get_ancova_race(MCP1_scaled_factored)\n",
    "MIG_ancova_race = get_ancova_race(MIG_scaled_factored)\n",
    "MIP1a_ancova_race = get_ancova_race(MIP1a_scaled_factored)\n",
    "MIP1b_ancova_race = get_ancova_race(MIP1b_scaled_factored)\n",
    "TARC_ancova_race = get_ancova_race(TARC_scaled_factored)\n",
    "TNFa_ancova_race = get_ancova_race(TNFa_scaled_factored)"
   ]
  },
  {
   "cell_type": "code",
   "execution_count": 14,
   "metadata": {},
   "outputs": [
    {
     "data": {
      "text/plain": [
       "\n",
       "\t Simultaneous Tests for General Linear Hypotheses\n",
       "\n",
       "Multiple Comparisons of Means: Tukey Contrasts\n",
       "\n",
       "\n",
       "Fit: aov(formula = Scaled_Concentrations ~ Race + Compartment, data = Eotaxin_scaled_factored)\n",
       "\n",
       "Linear Hypotheses:\n",
       "                    Estimate Std. Error t value Pr(>|t|)    \n",
       "NLF - ELF == 0       -0.7475     0.1937  -3.859  0.00190 ** \n",
       "Serum - ELF == 0      0.6954     0.1937   3.590  0.00411 ** \n",
       "Sputum - ELF == 0    -1.6056     0.1937  -8.290  < 0.001 ***\n",
       "Serum - NLF == 0      1.4429     0.1937   7.449  < 0.001 ***\n",
       "Sputum - NLF == 0    -0.8581     0.1937  -4.430  < 0.001 ***\n",
       "Sputum - Serum == 0  -2.3010     0.1937 -11.880  < 0.001 ***\n",
       "---\n",
       "Signif. codes:  0 ‘***’ 0.001 ‘**’ 0.01 ‘*’ 0.05 ‘.’ 0.1 ‘ ’ 1\n",
       "(Adjusted p values reported -- single-step method)\n"
      ]
     },
     "metadata": {},
     "output_type": "display_data"
    }
   ],
   "source": [
    "#another way of doing ancova\n",
    "posth = glht(aov(Scaled_Concentrations~Race+Compartment, data = Eotaxin_scaled_factored), linfct= mcp(Compartment = 'Tukey'))\n",
    "summary(posth)"
   ]
  },
  {
   "cell_type": "code",
   "execution_count": 15,
   "metadata": {},
   "outputs": [],
   "source": [
    "# Tukey's post hoc\n",
    "Eotaxin_tukey_ancova_race = TukeyHSD(Eotaxin_ancova_race, type = 'III')\n",
    "Eotaxin3_tukey_ancova_race = TukeyHSD(Eotaxin3_ancova_race, type = 'III')\n",
    "Fractalkine_tukey_ancova_race = TukeyHSD(Fractalkine_ancova_race, type = 'III')\n",
    "I309_tukey_ancova_race = TukeyHSD(I309_ancova_race, type = 'III')\n",
    "IFNg_tukey_ancova_race = TukeyHSD(IFNg_ancova_race, type = 'III')\n",
    "IL10_tukey_ancova_race = TukeyHSD(IL10_ancova_race, type = 'III')\n",
    "IL12p70_tukey_ancova_race = TukeyHSD(IL12p70_ancova_race, type = 'III')\n",
    "IL13_tukey_ancova_race = TukeyHSD(IL13_ancova_race, type = 'III')\n",
    "IL17B_tukey_ancova_race = TukeyHSD(IL17B_ancova_race, type = 'III')\n",
    "IL17D_tukey_ancova_race = TukeyHSD(IL17D_ancova_race, type = 'III')\n",
    "IL1b_tukey_ancova_race = TukeyHSD(IL1b_ancova_race, type = 'III')\n",
    "IL4_tukey_ancova_race = TukeyHSD(IL4_ancova_race, type = 'III')\n",
    "IL6_tukey_ancova_race = TukeyHSD(IL6_ancova_race, type = 'III')\n",
    "IL8_tukey_ancova_race = TukeyHSD(IL8_ancova_race, type = 'III')\n",
    "IP10_tukey_ancova_race = TukeyHSD(IP10_ancova_race, type = 'III')\n",
    "ITAC_tukey_ancova_race = TukeyHSD(ITAC_ancova_race, type = 'III')\n",
    "MCP1_tukey_ancova_race = TukeyHSD(MCP1_ancova_race, type = 'III')\n",
    "MIG_tukey_ancova_race = TukeyHSD(MIG_ancova_race, type = 'III')\n",
    "MIP1a_tukey_ancova_race = TukeyHSD(MIP1a_ancova_race, type = 'III')\n",
    "MIP1b_tukey_ancova_race = TukeyHSD(MIP1b_ancova_race, type = 'III')\n",
    "TARC_tukey_ancova_race = TukeyHSD(TARC_ancova_race, type = 'III')\n",
    "TNFa_tukey_ancova_race = TukeyHSD(TNFa_ancova_race, type = 'III')"
   ]
  },
  {
   "cell_type": "code",
   "execution_count": 16,
   "metadata": {},
   "outputs": [],
   "source": [
    "#controlling for sex\n",
    "get_ancova_sex = function(scaled_df){\n",
    "    contrasts(scaled_df$Compartment) = cbind(c(1,-3,1,1),c(-2,0,1,1), c(0,0,-1,1)) #meaning is explained above\n",
    "    ancova = aov(Scaled_Concentrations~Sex+Compartment, data = scaled_df)\n",
    "    #anova_type3 = Anova(ancova, type = 'III')\n",
    "    return(ancova)\n",
    "}\n",
    "\n",
    "#calling fn\n",
    "Eotaxin_ancova_sex = get_ancova_sex(Eotaxin_scaled_factored)\n",
    "Eotaxin3_ancova_sex = get_ancova_sex(Eotaxin3_scaled_factored)\n",
    "Fractalkine_ancova_sex = get_ancova_sex(Fractalkine_scaled_factored)\n",
    "I309_ancova_sex = get_ancova_sex(I309_scaled_factored)\n",
    "IFNg_ancova_sex = get_ancova_sex(IFNg_scaled_factored)\n",
    "IL10_ancova_sex = get_ancova_sex(IL10_scaled_factored)\n",
    "IL12p70_ancova_sex = get_ancova_sex(IL12p70_scaled_factored)\n",
    "IL13_ancova_sex = get_ancova_sex(IL13_scaled_factored)\n",
    "IL17B_ancova_sex = get_ancova_sex(IL17B_scaled_factored)\n",
    "IL17D_ancova_sex = get_ancova_sex(IL17D_scaled_factored)\n",
    "IL1b_ancova_sex = get_ancova_sex(IL1b_scaled_factored)\n",
    "IL4_ancova_sex = get_ancova_sex(IL4_scaled_factored)\n",
    "IL6_ancova_sex = get_ancova_sex(IL6_scaled_factored)\n",
    "IL8_ancova_sex = get_ancova_sex(IL8_scaled_factored)\n",
    "IP10_ancova_sex = get_ancova_sex(IP10_scaled_factored)\n",
    "ITAC_ancova_sex = get_ancova_sex(ITAC_scaled_factored)\n",
    "MCP1_ancova_sex = get_ancova_sex(MCP1_scaled_factored)\n",
    "MIG_ancova_sex = get_ancova_sex(MIG_scaled_factored)\n",
    "MIP1a_ancova_sex = get_ancova_sex(MIP1a_scaled_factored)\n",
    "MIP1b_ancova_sex = get_ancova_sex(MIP1b_scaled_factored)\n",
    "TARC_ancova_sex = get_ancova_sex(TARC_scaled_factored)\n",
    "TNFa_ancova_sex = get_ancova_sex(TNFa_scaled_factored)"
   ]
  },
  {
   "cell_type": "code",
   "execution_count": 17,
   "metadata": {},
   "outputs": [
    {
     "data": {
      "text/plain": [
       "\n",
       "\t Simultaneous Tests for General Linear Hypotheses\n",
       "\n",
       "Multiple Comparisons of Means: Tukey Contrasts\n",
       "\n",
       "\n",
       "Fit: aov(formula = Scaled_Concentrations ~ Sex + Compartment, data = Eotaxin_scaled_factored)\n",
       "\n",
       "Linear Hypotheses:\n",
       "                    Estimate Std. Error t value Pr(>|t|)    \n",
       "NLF - ELF == 0       -0.7475     0.1879  -3.977  0.00123 ** \n",
       "Serum - ELF == 0      0.6954     0.1879   3.700  0.00281 ** \n",
       "Sputum - ELF == 0    -1.6056     0.1879  -8.543  < 0.001 ***\n",
       "Serum - NLF == 0      1.4429     0.1879   7.677  < 0.001 ***\n",
       "Sputum - NLF == 0    -0.8581     0.1879  -4.566  < 0.001 ***\n",
       "Sputum - Serum == 0  -2.3010     0.1879 -12.243  < 0.001 ***\n",
       "---\n",
       "Signif. codes:  0 ‘***’ 0.001 ‘**’ 0.01 ‘*’ 0.05 ‘.’ 0.1 ‘ ’ 1\n",
       "(Adjusted p values reported -- single-step method)\n"
      ]
     },
     "metadata": {},
     "output_type": "display_data"
    }
   ],
   "source": [
    "#another way of doing ancova\n",
    "posth2 = glht(aov(Scaled_Concentrations~Sex+Compartment, data = Eotaxin_scaled_factored), linfct= mcp(Compartment = 'Tukey'))\n",
    "summary(posth2)"
   ]
  },
  {
   "cell_type": "code",
   "execution_count": 18,
   "metadata": {},
   "outputs": [],
   "source": [
    "# Tukey's post hoc\n",
    "Eotaxin_tukey_ancova_sex = TukeyHSD(Eotaxin_ancova_sex, type = 'III')\n",
    "Eotaxin3_tukey_ancova_sex = TukeyHSD(Eotaxin3_ancova_sex, type = 'III')\n",
    "Fractalkine_tukey_ancova_sex = TukeyHSD(Fractalkine_ancova_sex, type = 'III')\n",
    "I309_tukey_ancova_sex = TukeyHSD(I309_ancova_sex, type = 'III')\n",
    "IFNg_tukey_ancova_sex = TukeyHSD(IFNg_ancova_sex, type = 'III')\n",
    "IL10_tukey_ancova_sex = TukeyHSD(IL10_ancova_sex, type = 'III')\n",
    "IL12p70_tukey_ancova_sex = TukeyHSD(IL12p70_ancova_sex, type = 'III')\n",
    "IL13_tukey_ancova_sex = TukeyHSD(IL13_ancova_sex, type = 'III')\n",
    "IL17B_tukey_ancova_sex = TukeyHSD(IL17B_ancova_sex, type = 'III')\n",
    "IL17D_tukey_ancova_sex = TukeyHSD(IL17D_ancova_sex, type = 'III')\n",
    "IL1b_tukey_ancova_sex = TukeyHSD(IL1b_ancova_sex, type = 'III')\n",
    "IL4_tukey_ancova_sex = TukeyHSD(IL4_ancova_sex, type = 'III')\n",
    "IL6_tukey_ancova_sex = TukeyHSD(IL6_ancova_sex, type = 'III')\n",
    "IL8_tukey_ancova_sex = TukeyHSD(IL8_ancova_sex, type = 'III')\n",
    "IP10_tukey_ancova_sex = TukeyHSD(IP10_ancova_sex, type = 'III')\n",
    "ITAC_tukey_ancova_sex = TukeyHSD(ITAC_ancova_sex, type = 'III')\n",
    "MCP1_tukey_ancova_sex = TukeyHSD(MCP1_ancova_sex, type = 'III')\n",
    "MIG_tukey_ancova_sex = TukeyHSD(MIG_ancova_sex, type = 'III')\n",
    "MIP1a_tukey_ancova_sex = TukeyHSD(MIP1a_ancova_sex, type = 'III')\n",
    "MIP1b_tukey_ancova_sex = TukeyHSD(MIP1b_ancova_sex, type = 'III')\n",
    "TARC_tukey_ancova_sex = TukeyHSD(TARC_ancova_sex, type = 'III')\n",
    "TNFa_tukey_ancova_sex = TukeyHSD(TNFa_ancova_sex, type = 'III')"
   ]
  },
  {
   "cell_type": "code",
   "execution_count": 19,
   "metadata": {},
   "outputs": [],
   "source": [
    "#controlling for age\n",
    "get_ancova_age = function(scaled_df){\n",
    "    #don't need anymore\n",
    "    contrasts(scaled_df$Compartment) = cbind(c(1,-3,1,1),c(-2,0,1,1), c(0,0,-1,1)) #meaning is explained above\n",
    "    ancova = aov(Scaled_Concentrations~Compartment+Age, data = scaled_df)\n",
    "    #anova_type3 = Anova(ancova, type = 'III')\n",
    "    return(ancova)\n",
    "}\n",
    "\n",
    "#calling fn\n",
    "Eotaxin_ancova_age = get_ancova_age(Eotaxin_scaled_factored)\n",
    "Eotaxin3_ancova_age = get_ancova_age(Eotaxin3_scaled_factored)\n",
    "Fractalkine_ancova_age = get_ancova_age(Fractalkine_scaled_factored)\n",
    "I309_ancova_age = get_ancova_age(I309_scaled_factored)\n",
    "IFNg_ancova_age = get_ancova_age(IFNg_scaled_factored)\n",
    "IL10_ancova_age = get_ancova_age(IL10_scaled_factored)\n",
    "IL12p70_ancova_age = get_ancova_age(IL12p70_scaled_factored)\n",
    "IL13_ancova_age = get_ancova_age(IL13_scaled_factored)\n",
    "IL17B_ancova_age = get_ancova_age(IL17B_scaled_factored)\n",
    "IL17D_ancova_age = get_ancova_age(IL17D_scaled_factored)\n",
    "IL1b_ancova_age = get_ancova_age(IL1b_scaled_factored)\n",
    "IL4_ancova_age = get_ancova_age(IL4_scaled_factored)\n",
    "IL6_ancova_age = get_ancova_age(IL6_scaled_factored)\n",
    "IL8_ancova_age = get_ancova_age(IL8_scaled_factored)\n",
    "IP10_ancova_age = get_ancova_age(IP10_scaled_factored)\n",
    "ITAC_ancova_age = get_ancova_age(ITAC_scaled_factored)\n",
    "MCP1_ancova_age = get_ancova_age(MCP1_scaled_factored)\n",
    "MIG_ancova_age = get_ancova_age(MIG_scaled_factored)\n",
    "MIP1a_ancova_age = get_ancova_age(MIP1a_scaled_factored)\n",
    "MIP1b_ancova_age = get_ancova_age(MIP1b_scaled_factored)\n",
    "TARC_ancova_age = get_ancova_age(TARC_scaled_factored)\n",
    "TNFa_ancova_age = get_ancova_age(TNFa_scaled_factored)"
   ]
  },
  {
   "cell_type": "code",
   "execution_count": 20,
   "metadata": {},
   "outputs": [
    {
     "data": {
      "text/plain": [
       "            Df Sum Sq Mean Sq F value   Pr(>F)    \n",
       "Compartment  3  41.07  13.689  50.666 2.54e-15 ***\n",
       "Age          1   0.16   0.155   0.574    0.452    \n",
       "Residuals   51  13.78   0.270                     \n",
       "---\n",
       "Signif. codes:  0 ‘***’ 0.001 ‘**’ 0.01 ‘*’ 0.05 ‘.’ 0.1 ‘ ’ 1"
      ]
     },
     "metadata": {},
     "output_type": "display_data"
    },
    {
     "data": {
      "text/plain": [
       "            Df Sum Sq Mean Sq F value  Pr(>F)   \n",
       "Compartment  3  13.51   4.504   5.552 0.00224 **\n",
       "Age          1   0.11   0.112   0.138 0.71141   \n",
       "Residuals   51  41.37   0.811                   \n",
       "---\n",
       "Signif. codes:  0 ‘***’ 0.001 ‘**’ 0.01 ‘*’ 0.05 ‘.’ 0.1 ‘ ’ 1"
      ]
     },
     "metadata": {},
     "output_type": "display_data"
    },
    {
     "data": {
      "text/plain": [
       "            Df Sum Sq Mean Sq F value   Pr(>F)    \n",
       "Compartment  3  30.94  10.313  22.710 1.78e-09 ***\n",
       "Age          1   0.90   0.900   1.981    0.165    \n",
       "Residuals   51  23.16   0.454                     \n",
       "---\n",
       "Signif. codes:  0 ‘***’ 0.001 ‘**’ 0.01 ‘*’ 0.05 ‘.’ 0.1 ‘ ’ 1"
      ]
     },
     "metadata": {},
     "output_type": "display_data"
    },
    {
     "data": {
      "text/plain": [
       "            Df Sum Sq Mean Sq F value  Pr(>F)   \n",
       "Compartment  3  13.23   4.410   5.644 0.00203 **\n",
       "Age          1   1.91   1.914   2.450 0.12375   \n",
       "Residuals   51  39.85   0.781                   \n",
       "---\n",
       "Signif. codes:  0 ‘***’ 0.001 ‘**’ 0.01 ‘*’ 0.05 ‘.’ 0.1 ‘ ’ 1"
      ]
     },
     "metadata": {},
     "output_type": "display_data"
    },
    {
     "data": {
      "text/plain": [
       "            Df Sum Sq Mean Sq F value   Pr(>F)    \n",
       "Compartment  3  41.85  13.951  54.210 6.95e-16 ***\n",
       "Age          1   0.02   0.023   0.088    0.768    \n",
       "Residuals   51  13.12   0.257                     \n",
       "---\n",
       "Signif. codes:  0 ‘***’ 0.001 ‘**’ 0.01 ‘*’ 0.05 ‘.’ 0.1 ‘ ’ 1"
      ]
     },
     "metadata": {},
     "output_type": "display_data"
    },
    {
     "data": {
      "text/plain": [
       "            Df Sum Sq Mean Sq F value  Pr(>F)    \n",
       "Compartment  3  38.79  12.929  42.800 5.8e-14 ***\n",
       "Age          1   0.81   0.808   2.674   0.108    \n",
       "Residuals   51  15.41   0.302                    \n",
       "---\n",
       "Signif. codes:  0 ‘***’ 0.001 ‘**’ 0.01 ‘*’ 0.05 ‘.’ 0.1 ‘ ’ 1"
      ]
     },
     "metadata": {},
     "output_type": "display_data"
    },
    {
     "data": {
      "text/plain": [
       "            Df Sum Sq Mean Sq F value   Pr(>F)    \n",
       "Compartment  3 21.314   7.105  11.682 6.11e-06 ***\n",
       "Age          1  2.668   2.668   4.386   0.0412 *  \n",
       "Residuals   51 31.018   0.608                     \n",
       "---\n",
       "Signif. codes:  0 ‘***’ 0.001 ‘**’ 0.01 ‘*’ 0.05 ‘.’ 0.1 ‘ ’ 1"
      ]
     },
     "metadata": {},
     "output_type": "display_data"
    },
    {
     "data": {
      "text/plain": [
       "            Df Sum Sq Mean Sq F value   Pr(>F)    \n",
       "Compartment  3  15.04   5.014   6.401 0.000916 ***\n",
       "Age          1   0.01   0.011   0.014 0.907203    \n",
       "Residuals   51  39.95   0.783                     \n",
       "---\n",
       "Signif. codes:  0 ‘***’ 0.001 ‘**’ 0.01 ‘*’ 0.05 ‘.’ 0.1 ‘ ’ 1"
      ]
     },
     "metadata": {},
     "output_type": "display_data"
    },
    {
     "data": {
      "text/plain": [
       "            Df Sum Sq Mean Sq F value   Pr(>F)    \n",
       "Compartment  3  19.16   6.387   9.310 5.18e-05 ***\n",
       "Age          1   0.85   0.853   1.244     0.27    \n",
       "Residuals   51  34.99   0.686                     \n",
       "---\n",
       "Signif. codes:  0 ‘***’ 0.001 ‘**’ 0.01 ‘*’ 0.05 ‘.’ 0.1 ‘ ’ 1"
      ]
     },
     "metadata": {},
     "output_type": "display_data"
    },
    {
     "data": {
      "text/plain": [
       "            Df Sum Sq Mean Sq F value  Pr(>F)   \n",
       "Compartment  3   8.63   2.878   3.612 0.01926 * \n",
       "Age          1   5.74   5.741   7.207 0.00977 **\n",
       "Residuals   51  40.63   0.797                   \n",
       "---\n",
       "Signif. codes:  0 ‘***’ 0.001 ‘**’ 0.01 ‘*’ 0.05 ‘.’ 0.1 ‘ ’ 1"
      ]
     },
     "metadata": {},
     "output_type": "display_data"
    },
    {
     "data": {
      "text/plain": [
       "            Df Sum Sq Mean Sq F value Pr(>F)    \n",
       "Compartment  3  43.13  14.375  62.087 <2e-16 ***\n",
       "Age          1   0.07   0.066   0.285  0.596    \n",
       "Residuals   51  11.81   0.232                   \n",
       "---\n",
       "Signif. codes:  0 ‘***’ 0.001 ‘**’ 0.01 ‘*’ 0.05 ‘.’ 0.1 ‘ ’ 1"
      ]
     },
     "metadata": {},
     "output_type": "display_data"
    },
    {
     "data": {
      "text/plain": [
       "            Df Sum Sq Mean Sq F value Pr(>F)    \n",
       "Compartment  3  43.55  14.515  65.598 <2e-16 ***\n",
       "Age          1   0.17   0.170   0.769  0.385    \n",
       "Residuals   51  11.28   0.221                   \n",
       "---\n",
       "Signif. codes:  0 ‘***’ 0.001 ‘**’ 0.01 ‘*’ 0.05 ‘.’ 0.1 ‘ ’ 1"
      ]
     },
     "metadata": {},
     "output_type": "display_data"
    },
    {
     "data": {
      "text/plain": [
       "            Df Sum Sq Mean Sq F value Pr(>F)   \n",
       "Compartment  3  14.52   4.838   6.223 0.0011 **\n",
       "Age          1   0.83   0.834   1.073 0.3052   \n",
       "Residuals   51  39.65   0.777                  \n",
       "---\n",
       "Signif. codes:  0 ‘***’ 0.001 ‘**’ 0.01 ‘*’ 0.05 ‘.’ 0.1 ‘ ’ 1"
      ]
     },
     "metadata": {},
     "output_type": "display_data"
    },
    {
     "data": {
      "text/plain": [
       "            Df Sum Sq Mean Sq F value Pr(>F)    \n",
       "Compartment  3  45.20  15.067  79.682 <2e-16 ***\n",
       "Age          1   0.15   0.154   0.815  0.371    \n",
       "Residuals   51   9.64   0.189                   \n",
       "---\n",
       "Signif. codes:  0 ‘***’ 0.001 ‘**’ 0.01 ‘*’ 0.05 ‘.’ 0.1 ‘ ’ 1"
      ]
     },
     "metadata": {},
     "output_type": "display_data"
    },
    {
     "data": {
      "text/plain": [
       "            Df Sum Sq Mean Sq F value Pr(>F)\n",
       "Compartment  3   5.97  1.9910   2.137  0.107\n",
       "Age          1   1.50  1.5041   1.614  0.210\n",
       "Residuals   51  47.52  0.9318               "
      ]
     },
     "metadata": {},
     "output_type": "display_data"
    },
    {
     "data": {
      "text/plain": [
       "            Df Sum Sq Mean Sq F value   Pr(>F)    \n",
       "Compartment  3  19.35   6.451  10.312 2.06e-05 ***\n",
       "Age          1   3.74   3.743   5.984   0.0179 *  \n",
       "Residuals   51  31.90   0.626                     \n",
       "---\n",
       "Signif. codes:  0 ‘***’ 0.001 ‘**’ 0.01 ‘*’ 0.05 ‘.’ 0.1 ‘ ’ 1"
      ]
     },
     "metadata": {},
     "output_type": "display_data"
    },
    {
     "data": {
      "text/plain": [
       "            Df Sum Sq Mean Sq F value Pr(>F)    \n",
       "Compartment  3  45.94  15.314  88.564 <2e-16 ***\n",
       "Age          1   0.24   0.239   1.382  0.245    \n",
       "Residuals   51   8.82   0.173                   \n",
       "---\n",
       "Signif. codes:  0 ‘***’ 0.001 ‘**’ 0.01 ‘*’ 0.05 ‘.’ 0.1 ‘ ’ 1"
      ]
     },
     "metadata": {},
     "output_type": "display_data"
    },
    {
     "data": {
      "text/plain": [
       "            Df Sum Sq Mean Sq F value   Pr(>F)    \n",
       "Compartment  3  18.27   6.091   9.058 6.56e-05 ***\n",
       "Age          1   2.43   2.432   3.617   0.0628 .  \n",
       "Residuals   51  34.29   0.672                     \n",
       "---\n",
       "Signif. codes:  0 ‘***’ 0.001 ‘**’ 0.01 ‘*’ 0.05 ‘.’ 0.1 ‘ ’ 1"
      ]
     },
     "metadata": {},
     "output_type": "display_data"
    },
    {
     "data": {
      "text/plain": [
       "            Df Sum Sq Mean Sq F value   Pr(>F)    \n",
       "Compartment  3 24.087   8.029  13.278 1.59e-06 ***\n",
       "Age          1  0.074   0.074   0.122    0.728    \n",
       "Residuals   51 30.839   0.605                     \n",
       "---\n",
       "Signif. codes:  0 ‘***’ 0.001 ‘**’ 0.01 ‘*’ 0.05 ‘.’ 0.1 ‘ ’ 1"
      ]
     },
     "metadata": {},
     "output_type": "display_data"
    },
    {
     "data": {
      "text/plain": [
       "            Df Sum Sq Mean Sq F value   Pr(>F)    \n",
       "Compartment  3  38.27  12.755  40.033 1.92e-13 ***\n",
       "Age          1   0.49   0.485   1.523    0.223    \n",
       "Residuals   51  16.25   0.319                     \n",
       "---\n",
       "Signif. codes:  0 ‘***’ 0.001 ‘**’ 0.01 ‘*’ 0.05 ‘.’ 0.1 ‘ ’ 1"
      ]
     },
     "metadata": {},
     "output_type": "display_data"
    },
    {
     "data": {
      "text/plain": [
       "            Df Sum Sq Mean Sq F value Pr(>F)    \n",
       "Compartment  3  49.84  16.615 164.386 <2e-16 ***\n",
       "Age          1   0.00   0.000   0.004   0.95    \n",
       "Residuals   51   5.15   0.101                   \n",
       "---\n",
       "Signif. codes:  0 ‘***’ 0.001 ‘**’ 0.01 ‘*’ 0.05 ‘.’ 0.1 ‘ ’ 1"
      ]
     },
     "metadata": {},
     "output_type": "display_data"
    },
    {
     "data": {
      "text/plain": [
       "            Df Sum Sq Mean Sq F value   Pr(>F)    \n",
       "Compartment  3  39.82  13.273   44.66 2.67e-14 ***\n",
       "Age          1   0.02   0.024    0.08    0.778    \n",
       "Residuals   51  15.16   0.297                     \n",
       "---\n",
       "Signif. codes:  0 ‘***’ 0.001 ‘**’ 0.01 ‘*’ 0.05 ‘.’ 0.1 ‘ ’ 1"
      ]
     },
     "metadata": {},
     "output_type": "display_data"
    }
   ],
   "source": [
    "#viewing results\n",
    "summary(Eotaxin_ancova_age) \n",
    "summary(Eotaxin3_ancova_age)\n",
    "summary(Fractalkine_ancova_age) \n",
    "summary(I309_ancova_age) \n",
    "summary(IFNg_ancova_age) \n",
    "summary(IL10_ancova_age) \n",
    "summary(IL12p70_ancova_age) \n",
    "summary(IL13_ancova_age) \n",
    "summary(IL17B_ancova_age) \n",
    "summary(IL17D_ancova_age) \n",
    "summary(IL1b_ancova_age) \n",
    "summary(IL4_ancova_age) \n",
    "summary(IL6_ancova_age) \n",
    "summary(IL8_ancova_age)\n",
    "summary(IP10_ancova_age) \n",
    "summary(ITAC_ancova_age) \n",
    "summary(MCP1_ancova_age) \n",
    "summary(MIG_ancova_age) \n",
    "summary(MIP1a_ancova_age) \n",
    "summary(MIP1b_ancova_age) \n",
    "summary(TARC_ancova_age) \n",
    "summary(TNFa_ancova_age) "
   ]
  },
  {
   "cell_type": "code",
   "execution_count": 21,
   "metadata": {},
   "outputs": [
    {
     "name": "stderr",
     "output_type": "stream",
     "text": [
      "Warning message in replications(paste(\"~\", xx), data = mf):\n",
      "“non-factors ignored: Age”\n",
      "Warning message in TukeyHSD.aov(Eotaxin_ancova_age, type = \"III\"):\n",
      "“'which' specified some non-factors which will be dropped”\n",
      "Warning message in replications(paste(\"~\", xx), data = mf):\n",
      "“non-factors ignored: Age”\n",
      "Warning message in TukeyHSD.aov(Eotaxin3_ancova_age, type = \"III\"):\n",
      "“'which' specified some non-factors which will be dropped”\n",
      "Warning message in replications(paste(\"~\", xx), data = mf):\n",
      "“non-factors ignored: Age”\n",
      "Warning message in TukeyHSD.aov(Fractalkine_ancova_age, type = \"III\"):\n",
      "“'which' specified some non-factors which will be dropped”\n",
      "Warning message in replications(paste(\"~\", xx), data = mf):\n",
      "“non-factors ignored: Age”\n",
      "Warning message in TukeyHSD.aov(I309_ancova_age, type = \"III\"):\n",
      "“'which' specified some non-factors which will be dropped”\n",
      "Warning message in replications(paste(\"~\", xx), data = mf):\n",
      "“non-factors ignored: Age”\n",
      "Warning message in TukeyHSD.aov(IFNg_ancova_age, type = \"III\"):\n",
      "“'which' specified some non-factors which will be dropped”\n",
      "Warning message in replications(paste(\"~\", xx), data = mf):\n",
      "“non-factors ignored: Age”\n",
      "Warning message in TukeyHSD.aov(IL10_ancova_age, type = \"III\"):\n",
      "“'which' specified some non-factors which will be dropped”\n",
      "Warning message in replications(paste(\"~\", xx), data = mf):\n",
      "“non-factors ignored: Age”\n",
      "Warning message in TukeyHSD.aov(IL12p70_ancova_age, type = \"III\"):\n",
      "“'which' specified some non-factors which will be dropped”\n",
      "Warning message in replications(paste(\"~\", xx), data = mf):\n",
      "“non-factors ignored: Age”\n",
      "Warning message in TukeyHSD.aov(IL13_ancova_age, type = \"III\"):\n",
      "“'which' specified some non-factors which will be dropped”\n",
      "Warning message in replications(paste(\"~\", xx), data = mf):\n",
      "“non-factors ignored: Age”\n",
      "Warning message in TukeyHSD.aov(IL17B_ancova_age, type = \"III\"):\n",
      "“'which' specified some non-factors which will be dropped”\n",
      "Warning message in replications(paste(\"~\", xx), data = mf):\n",
      "“non-factors ignored: Age”\n",
      "Warning message in TukeyHSD.aov(IL17D_ancova_age, type = \"III\"):\n",
      "“'which' specified some non-factors which will be dropped”\n",
      "Warning message in replications(paste(\"~\", xx), data = mf):\n",
      "“non-factors ignored: Age”\n",
      "Warning message in TukeyHSD.aov(IL1b_ancova_age, type = \"III\"):\n",
      "“'which' specified some non-factors which will be dropped”\n",
      "Warning message in replications(paste(\"~\", xx), data = mf):\n",
      "“non-factors ignored: Age”\n",
      "Warning message in TukeyHSD.aov(IL4_ancova_age, type = \"III\"):\n",
      "“'which' specified some non-factors which will be dropped”\n",
      "Warning message in replications(paste(\"~\", xx), data = mf):\n",
      "“non-factors ignored: Age”\n",
      "Warning message in TukeyHSD.aov(IL6_ancova_age, type = \"III\"):\n",
      "“'which' specified some non-factors which will be dropped”\n",
      "Warning message in replications(paste(\"~\", xx), data = mf):\n",
      "“non-factors ignored: Age”\n",
      "Warning message in TukeyHSD.aov(IL8_ancova_age, type = \"III\"):\n",
      "“'which' specified some non-factors which will be dropped”\n",
      "Warning message in replications(paste(\"~\", xx), data = mf):\n",
      "“non-factors ignored: Age”\n",
      "Warning message in TukeyHSD.aov(IP10_ancova_age, type = \"III\"):\n",
      "“'which' specified some non-factors which will be dropped”\n",
      "Warning message in replications(paste(\"~\", xx), data = mf):\n",
      "“non-factors ignored: Age”\n",
      "Warning message in TukeyHSD.aov(ITAC_ancova_age, type = \"III\"):\n",
      "“'which' specified some non-factors which will be dropped”\n",
      "Warning message in replications(paste(\"~\", xx), data = mf):\n",
      "“non-factors ignored: Age”\n",
      "Warning message in TukeyHSD.aov(MCP1_ancova_age, type = \"III\"):\n",
      "“'which' specified some non-factors which will be dropped”\n",
      "Warning message in replications(paste(\"~\", xx), data = mf):\n",
      "“non-factors ignored: Age”\n",
      "Warning message in TukeyHSD.aov(MIG_ancova_age, type = \"III\"):\n",
      "“'which' specified some non-factors which will be dropped”\n",
      "Warning message in replications(paste(\"~\", xx), data = mf):\n",
      "“non-factors ignored: Age”\n",
      "Warning message in TukeyHSD.aov(MIP1a_ancova_age, type = \"III\"):\n",
      "“'which' specified some non-factors which will be dropped”\n",
      "Warning message in replications(paste(\"~\", xx), data = mf):\n",
      "“non-factors ignored: Age”\n",
      "Warning message in TukeyHSD.aov(MIP1b_ancova_age, type = \"III\"):\n",
      "“'which' specified some non-factors which will be dropped”\n",
      "Warning message in replications(paste(\"~\", xx), data = mf):\n",
      "“non-factors ignored: Age”\n",
      "Warning message in TukeyHSD.aov(TARC_ancova_age, type = \"III\"):\n",
      "“'which' specified some non-factors which will be dropped”\n",
      "Warning message in replications(paste(\"~\", xx), data = mf):\n",
      "“non-factors ignored: Age”\n",
      "Warning message in TukeyHSD.aov(TNFa_ancova_age, type = \"III\"):\n",
      "“'which' specified some non-factors which will be dropped”\n"
     ]
    }
   ],
   "source": [
    "# Tukey's post hoc\n",
    "Eotaxin_tukey_ancova_age = TukeyHSD(Eotaxin_ancova_age, type = 'III')\n",
    "Eotaxin3_tukey_ancova_age = TukeyHSD(Eotaxin3_ancova_age, type = 'III')\n",
    "Fractalkine_tukey_ancova_age = TukeyHSD(Fractalkine_ancova_age, type = 'III')\n",
    "I309_tukey_ancova_age = TukeyHSD(I309_ancova_age, type = 'III')\n",
    "IFNg_tukey_ancova_age = TukeyHSD(IFNg_ancova_age, type = 'III')\n",
    "IL10_tukey_ancova_age = TukeyHSD(IL10_ancova_age, type = 'III')\n",
    "IL12p70_tukey_ancova_age = TukeyHSD(IL12p70_ancova_age, type = 'III')\n",
    "IL13_tukey_ancova_age = TukeyHSD(IL13_ancova_age, type = 'III')\n",
    "IL17B_tukey_ancova_age = TukeyHSD(IL17B_ancova_age, type = 'III')\n",
    "IL17D_tukey_ancova_age = TukeyHSD(IL17D_ancova_age, type = 'III')\n",
    "IL1b_tukey_ancova_age = TukeyHSD(IL1b_ancova_age, type = 'III')\n",
    "IL4_tukey_ancova_age = TukeyHSD(IL4_ancova_age, type = 'III')\n",
    "IL6_tukey_ancova_age = TukeyHSD(IL6_ancova_age, type = 'III')\n",
    "IL8_tukey_ancova_age = TukeyHSD(IL8_ancova_age, type = 'III')\n",
    "IP10_tukey_ancova_age = TukeyHSD(IP10_ancova_age, type = 'III')\n",
    "ITAC_tukey_ancova_age = TukeyHSD(ITAC_ancova_age, type = 'III')\n",
    "MCP1_tukey_ancova_age = TukeyHSD(MCP1_ancova_age, type = 'III')\n",
    "MIG_tukey_ancova_age = TukeyHSD(MIG_ancova_age, type = 'III')\n",
    "MIP1a_tukey_ancova_age = TukeyHSD(MIP1a_ancova_age, type = 'III')\n",
    "MIP1b_tukey_ancova_age = TukeyHSD(MIP1b_ancova_age, type = 'III')\n",
    "TARC_tukey_ancova_age = TukeyHSD(TARC_ancova_age, type = 'III')\n",
    "TNFa_tukey_ancova_age = TukeyHSD(TNFa_ancova_age, type = 'III')"
   ]
  },
  {
   "cell_type": "markdown",
   "metadata": {},
   "source": [
    "# ANOVA/ANCOVA Tables"
   ]
  },
  {
   "cell_type": "code",
   "execution_count": 22,
   "metadata": {},
   "outputs": [],
   "source": [
    "extract_values = function(anova_results){\n",
    "    #extracting f and p values from the anova to be put into a table\n",
    "    cytokine_summary = summary(anova_results)[[1]][1, 2:5] #f value, pvalue\n",
    "#     sum_sq = cytokine_summary$`Sum Sq`\n",
    "#     mean_sq = cytokine_summary$`Mean Sq`\n",
    "    f_value = cytokine_summary$`F value`\n",
    "    p_value = cytokine_summary$`Pr(>F)`\n",
    "    \n",
    "    cytokine_anova_values = c(f_value,p_value)\n",
    "    return(cytokine_anova_values)\n",
    "}\n",
    "\n",
    "#anova\n",
    "Eotaxin_anova_values = extract_values(Eotaxin_anova)\n",
    "Eotaxin3_anova_values = extract_values(Eotaxin3_anova)\n",
    "Fractalkine_anova_values = extract_values(Fractalkine_anova)\n",
    "I309_anova_values = extract_values(I309_anova)\n",
    "IFNg_anova_values = extract_values(IFNg_anova)\n",
    "IL10_anova_values = extract_values(IL10_anova)\n",
    "IL12p70_anova_values = extract_values(IL12p70_anova)\n",
    "IL13_anova_values = extract_values(IL13_anova)\n",
    "IL17B_anova_values = extract_values(IL17B_anova)\n",
    "IL17D_anova_values = extract_values(IL17D_anova)\n",
    "IL1b_anova_values = extract_values(IL1b_anova)\n",
    "IL4_anova_values = extract_values(IL4_anova)\n",
    "IL6_anova_values = extract_values(IL6_anova)\n",
    "IL8_anova_values = extract_values(IL8_anova)\n",
    "IP10_anova_values = extract_values(IP10_anova)\n",
    "ITAC_anova_values = extract_values(ITAC_anova)\n",
    "MCP1_anova_values = extract_values(MCP1_anova)\n",
    "MIG_anova_values = extract_values(MIG_anova)\n",
    "MIP1a_anova_values = extract_values(MIP1a_anova)\n",
    "MIP1b_anova_values = extract_values(MIP1b_anova)\n",
    "TARC_anova_values = extract_values(TARC_anova)\n",
    "TNFa_anova_values = extract_values(TNFa_anova)"
   ]
  },
  {
   "cell_type": "code",
   "execution_count": 23,
   "metadata": {},
   "outputs": [],
   "source": [
    "#ancova race\n",
    "Eotaxin_ancova_race_values = extract_values(Eotaxin_ancova_race)\n",
    "Eotaxin3_ancova_race_values = extract_values(Eotaxin3_ancova_race)\n",
    "Fractalkine_ancova_race_values = extract_values(Fractalkine_ancova_race)\n",
    "I309_ancova_race_values = extract_values(I309_ancova_race)\n",
    "IFNg_ancova_race_values = extract_values(IFNg_ancova_race)\n",
    "IL10_ancova_race_values = extract_values(IL10_ancova_race)\n",
    "IL12p70_ancova_race_values = extract_values(IL12p70_ancova_race)\n",
    "IL13_ancova_race_values = extract_values(IL13_ancova_race)\n",
    "IL17B_ancova_race_values = extract_values(IL17B_ancova_race)\n",
    "IL17D_ancova_race_values = extract_values(IL17D_ancova_race)\n",
    "IL1b_ancova_race_values = extract_values(IL1b_ancova_race)\n",
    "IL4_ancova_race_values = extract_values(IL4_ancova_race)\n",
    "IL6_ancova_race_values = extract_values(IL6_ancova_race)\n",
    "IL8_ancova_race_values = extract_values(IL8_ancova_race)\n",
    "IP10_ancova_race_values = extract_values(IP10_ancova_race)\n",
    "ITAC_ancova_race_values = extract_values(ITAC_ancova_race)\n",
    "MCP1_ancova_race_values = extract_values(MCP1_ancova_race)\n",
    "MIG_ancova_race_values = extract_values(MIG_ancova_race)\n",
    "MIP1a_ancova_race_values = extract_values(MIP1a_ancova_race)\n",
    "MIP1b_ancova_race_values = extract_values(MIP1b_ancova_race)\n",
    "TARC_ancova_race_values = extract_values(TARC_ancova_race)\n",
    "TNFa_ancova_race_values = extract_values(TNFa_ancova_race)\n",
    "\n",
    "#ancova sex\n",
    "Eotaxin_ancova_sex_values = extract_values(Eotaxin_ancova_sex)\n",
    "Eotaxin3_ancova_sex_values = extract_values(Eotaxin3_ancova_sex)\n",
    "Fractalkine_ancova_sex_values = extract_values(Fractalkine_ancova_sex)\n",
    "I309_ancova_sex_values = extract_values(I309_ancova_sex)\n",
    "IFNg_ancova_sex_values = extract_values(IFNg_ancova_sex)\n",
    "IL10_ancova_sex_values = extract_values(IL10_ancova_sex)\n",
    "IL12p70_ancova_sex_values = extract_values(IL12p70_ancova_sex)\n",
    "IL13_ancova_sex_values = extract_values(IL13_ancova_sex)\n",
    "IL17B_ancova_sex_values = extract_values(IL17B_ancova_sex)\n",
    "IL17D_ancova_sex_values = extract_values(IL17D_ancova_sex)\n",
    "IL1b_ancova_sex_values = extract_values(IL1b_ancova_sex)\n",
    "IL4_ancova_sex_values = extract_values(IL4_ancova_sex)\n",
    "IL6_ancova_sex_values = extract_values(IL6_ancova_sex)\n",
    "IL8_ancova_sex_values = extract_values(IL8_ancova_sex)\n",
    "IP10_ancova_sex_values = extract_values(IP10_ancova_sex)\n",
    "ITAC_ancova_sex_values = extract_values(ITAC_ancova_sex)\n",
    "MCP1_ancova_sex_values = extract_values(MCP1_ancova_sex)\n",
    "MIG_ancova_sex_values = extract_values(MIG_ancova_sex)\n",
    "MIP1a_ancova_sex_values = extract_values(MIP1a_ancova_sex)\n",
    "MIP1b_ancova_sex_values = extract_values(MIP1b_ancova_sex)\n",
    "TARC_ancova_sex_values = extract_values(TARC_ancova_sex)\n",
    "TNFa_ancova_sex_values = extract_values(TNFa_ancova_sex)\n",
    "\n",
    "#ancova age\n",
    "Eotaxin_ancova_age_values = extract_values(Eotaxin_ancova_age)\n",
    "Eotaxin3_ancova_age_values = extract_values(Eotaxin3_ancova_age)\n",
    "Fractalkine_ancova_age_values = extract_values(Fractalkine_ancova_age)\n",
    "I309_ancova_age_values = extract_values(I309_ancova_age)\n",
    "IFNg_ancova_age_values = extract_values(IFNg_ancova_age)\n",
    "IL10_ancova_age_values = extract_values(IL10_ancova_age)\n",
    "IL12p70_ancova_age_values = extract_values(IL12p70_ancova_age)\n",
    "IL13_ancova_age_values = extract_values(IL13_ancova_age)\n",
    "IL17B_ancova_age_values = extract_values(IL17B_ancova_age)\n",
    "IL17D_ancova_age_values = extract_values(IL17D_ancova_age)\n",
    "IL1b_ancova_age_values = extract_values(IL1b_ancova_age)\n",
    "IL4_ancova_age_values = extract_values(IL4_ancova_age)\n",
    "IL6_ancova_age_values = extract_values(IL6_ancova_age)\n",
    "IL8_ancova_age_values = extract_values(IL8_ancova_age)\n",
    "IP10_ancova_age_values = extract_values(IP10_ancova_age)\n",
    "ITAC_ancova_age_values = extract_values(ITAC_ancova_age)\n",
    "MCP1_ancova_age_values = extract_values(MCP1_ancova_age)\n",
    "MIG_ancova_age_values = extract_values(MIG_ancova_age)\n",
    "MIP1a_ancova_age_values = extract_values(MIP1a_ancova_age)\n",
    "MIP1b_ancova_age_values = extract_values(MIP1b_ancova_age)\n",
    "TARC_ancova_age_values = extract_values(TARC_ancova_age)\n",
    "TNFa_ancova_age_values = extract_values(TNFa_ancova_age)"
   ]
  },
  {
   "cell_type": "markdown",
   "metadata": {},
   "source": [
    "extract_ancova_values = function(ancova_results){\n",
    "    summary_ancova = summary(ancova_results)\n",
    "    cytokine_summary = summary_ancova[2,3:4] #gets F value and p value\n",
    "    f_value = cytokine_summary$`F value`\n",
    "    p_value = cytokine_summary$`Pr(>F)`\n",
    "    return(values)\n",
    "}\n",
    "\n",
    "#ancova race\n",
    "Eotaxin_ancova_race_values = extract_ancova_values(Eotaxin_ancova_race)\n",
    "Eotaxin3_ancova_race_values = extract_ancova_values(Eotaxin3_ancova_race)\n",
    "Fractalkine_ancova_race_values = extract_ancova_values(Fractalkine_ancova_race)\n",
    "I309_ancova_race_values = extract_ancova_values(I309_ancova_race)\n",
    "IFNg_ancova_race_values = extract_ancova_values(IFNg_ancova_race)\n",
    "IL10_ancova_race_values = extract_ancova_values(IL10_ancova_race)\n",
    "IL12p70_ancova_race_values = extract_ancova_values(IL12p70_ancova_race)\n",
    "IL13_ancova_race_values = extract_ancova_values(IL13_ancova_race)\n",
    "IL17B_ancova_race_values = extract_ancova_values(IL17B_ancova_race)\n",
    "IL17D_ancova_race_values = extract_ancova_values(IL17D_ancova_race)\n",
    "IL1b_ancova_race_values = extract_ancova_values(IL1b_ancova_race)\n",
    "IL4_ancova_race_values = extract_ancova_values(IL4_ancova_race)\n",
    "IL6_ancova_race_values = extract_ancova_values(IL6_ancova_race)\n",
    "IL8_ancova_race_values = extract_ancova_values(IL8_ancova_race)\n",
    "IP10_ancova_race_values = extract_ancova_values(IP10_ancova_race)\n",
    "ITAC_ancova_race_values = extract_ancova_values(ITAC_ancova_race)\n",
    "MCP1_ancova_race_values = extract_ancova_values(MCP1_ancova_race)\n",
    "MIG_ancova_race_values = extract_ancova_values(MIG_ancova_race)\n",
    "MIP1a_ancova_race_values = extract_ancova_values(MIP1a_ancova_race)\n",
    "MIP1b_ancova_race_values = extract_ancova_values(MIP1b_ancova_race)\n",
    "TARC_ancova_race_values = extract_ancova_values(TARC_ancova_race)\n",
    "TNFa_ancova_race_values = extract_ancova_values(TNFa_ancova_race)\n",
    "\n",
    "#ancova sex\n",
    "Eotaxin_ancova_sex_values = extract_ancova_values(Eotaxin_ancova_sex)\n",
    "Eotaxin3_ancova_sex_values = extract_ancova_values(Eotaxin3_ancova_sex)\n",
    "Fractalkine_ancova_sex_values = extract_ancova_values(Fractalkine_ancova_sex)\n",
    "I309_ancova_sex_values = extract_ancova_values(I309_ancova_sex)\n",
    "IFNg_ancova_sex_values = extract_ancova_values(IFNg_ancova_sex)\n",
    "IL10_ancova_sex_values = extract_ancova_values(IL10_ancova_sex)\n",
    "IL12p70_ancova_sex_values = extract_ancova_values(IL12p70_ancova_sex)\n",
    "IL13_ancova_sex_values = extract_ancova_values(IL13_ancova_sex)\n",
    "IL17B_ancova_sex_values = extract_ancova_values(IL17B_ancova_sex)\n",
    "IL17D_ancova_sex_values = extract_ancova_values(IL17D_ancova_sex)\n",
    "IL1b_ancova_sex_values = extract_ancova_values(IL1b_ancova_sex)\n",
    "IL4_ancova_sex_values = extract_ancova_values(IL4_ancova_sex)\n",
    "IL6_ancova_sex_values = extract_ancova_values(IL6_ancova_sex)\n",
    "IL8_ancova_sex_values = extract_ancova_values(IL8_ancova_sex)\n",
    "IP10_ancova_sex_values = extract_ancova_values(IP10_ancova_sex)\n",
    "ITAC_ancova_sex_values = extract_ancova_values(ITAC_ancova_sex)\n",
    "MCP1_ancova_sex_values = extract_ancova_values(MCP1_ancova_sex)\n",
    "MIG_ancova_sex_values = extract_ancova_values(MIG_ancova_sex)\n",
    "MIP1a_ancova_sex_values = extract_ancova_values(MIP1a_ancova_sex)\n",
    "MIP1b_ancova_sex_values = extract_ancova_values(MIP1b_ancova_sex)\n",
    "TARC_ancova_sex_values = extract_ancova_values(TARC_ancova_sex)\n",
    "TNFa_ancova_sex_values = extract_ancova_values(TNFa_ancova_sex)"
   ]
  },
  {
   "cell_type": "code",
   "execution_count": 24,
   "metadata": {},
   "outputs": [
    {
     "data": {
      "text/html": [
       "<table>\n",
       "<caption>A matrix: 22 × 4 of type dbl</caption>\n",
       "<thead>\n",
       "\t<tr><th></th><th scope=col>F Value</th><th scope=col>p value</th><th scope=col>F Value</th><th scope=col>p value</th></tr>\n",
       "</thead>\n",
       "<tbody>\n",
       "\t<tr><th scope=row>Eotaxin</th><td> 51.084003</td><td>1.592224e-15</td><td> 50.665544</td><td>2.535133e-15</td></tr>\n",
       "\t<tr><th scope=row>Eotaxin3</th><td>  5.645686</td><td>1.997709e-03</td><td>  5.552142</td><td>2.244222e-03</td></tr>\n",
       "\t<tr><th scope=row>Fractalkine</th><td> 22.289262</td><td>2.049974e-09</td><td> 22.709707</td><td>1.783532e-09</td></tr>\n",
       "\t<tr><th scope=row>I309</th><td>  5.490566</td><td>2.360680e-03</td><td>  5.643618</td><td>2.034956e-03</td></tr>\n",
       "\t<tr><th scope=row>IFNg</th><td> 55.178077</td><td>3.545528e-16</td><td> 54.210400</td><td>6.949235e-16</td></tr>\n",
       "\t<tr><th scope=row>IL10</th><td> 41.465116</td><td>7.962164e-14</td><td> 42.800110</td><td>5.796524e-14</td></tr>\n",
       "\t<tr><th scope=row>IL12p70</th><td> 10.967574</td><td>1.087956e-05</td><td> 11.681791</td><td>6.108672e-06</td></tr>\n",
       "\t<tr><th scope=row>IL13</th><td>  6.524825</td><td>7.887986e-04</td><td>  6.401069</td><td>9.158481e-04</td></tr>\n",
       "\t<tr><th scope=row>IL17B</th><td>  9.266681</td><td>5.193942e-05</td><td>  9.310115</td><td>5.176467e-05</td></tr>\n",
       "\t<tr><th scope=row>IL17D</th><td>  3.227103</td><td>2.980293e-02</td><td>  3.612281</td><td>1.925529e-02</td></tr>\n",
       "\t<tr><th scope=row>IL1b</th><td> 62.953282</td><td>2.545215e-17</td><td> 62.087436</td><td>4.857479e-17</td></tr>\n",
       "\t<tr><th scope=row>IL4</th><td> 65.891363</td><td>1.004366e-17</td><td> 65.598163</td><td>1.613620e-17</td></tr>\n",
       "\t<tr><th scope=row>IL6</th><td>  6.214703</td><td>1.091202e-03</td><td>  6.223419</td><td>1.102310e-03</td></tr>\n",
       "\t<tr><th scope=row>IL8</th><td> 79.967356</td><td>1.758646e-19</td><td> 79.682128</td><td>2.964110e-19</td></tr>\n",
       "\t<tr><th scope=row>IP10</th><td>  2.111793</td><td>1.099361e-01</td><td>  2.136736</td><td>1.070152e-01</td></tr>\n",
       "\t<tr><th scope=row>ITAC</th><td>  9.410141</td><td>4.536501e-05</td><td> 10.312058</td><td>2.055298e-05</td></tr>\n",
       "\t<tr><th scope=row>MCP1</th><td> 87.917624</td><td>2.299775e-20</td><td> 88.563710</td><td>3.178988e-20</td></tr>\n",
       "\t<tr><th scope=row>MIG</th><td>  8.624386</td><td>9.598922e-05</td><td>  9.058488</td><td>6.561059e-05</td></tr>\n",
       "\t<tr><th scope=row>MIP1a</th><td> 13.505581</td><td>1.233603e-06</td><td> 13.277580</td><td>1.588653e-06</td></tr>\n",
       "\t<tr><th scope=row>MIP1b</th><td> 39.634040</td><td>1.800849e-13</td><td> 40.033031</td><td>1.922375e-13</td></tr>\n",
       "\t<tr><th scope=row>TARC</th><td>167.595916</td><td>1.033650e-26</td><td>164.385758</td><td>3.338653e-26</td></tr>\n",
       "\t<tr><th scope=row>TNFa</th><td> 45.466182</td><td>1.455788e-14</td><td> 44.662014</td><td>2.667305e-14</td></tr>\n",
       "</tbody>\n",
       "</table>\n"
      ],
      "text/latex": [
       "A matrix: 22 × 4 of type dbl\n",
       "\\begin{tabular}{r|llll}\n",
       "  & F Value & p value & F Value & p value\\\\\n",
       "\\hline\n",
       "\tEotaxin &  51.084003 & 1.592224e-15 &  50.665544 & 2.535133e-15\\\\\n",
       "\tEotaxin3 &   5.645686 & 1.997709e-03 &   5.552142 & 2.244222e-03\\\\\n",
       "\tFractalkine &  22.289262 & 2.049974e-09 &  22.709707 & 1.783532e-09\\\\\n",
       "\tI309 &   5.490566 & 2.360680e-03 &   5.643618 & 2.034956e-03\\\\\n",
       "\tIFNg &  55.178077 & 3.545528e-16 &  54.210400 & 6.949235e-16\\\\\n",
       "\tIL10 &  41.465116 & 7.962164e-14 &  42.800110 & 5.796524e-14\\\\\n",
       "\tIL12p70 &  10.967574 & 1.087956e-05 &  11.681791 & 6.108672e-06\\\\\n",
       "\tIL13 &   6.524825 & 7.887986e-04 &   6.401069 & 9.158481e-04\\\\\n",
       "\tIL17B &   9.266681 & 5.193942e-05 &   9.310115 & 5.176467e-05\\\\\n",
       "\tIL17D &   3.227103 & 2.980293e-02 &   3.612281 & 1.925529e-02\\\\\n",
       "\tIL1b &  62.953282 & 2.545215e-17 &  62.087436 & 4.857479e-17\\\\\n",
       "\tIL4 &  65.891363 & 1.004366e-17 &  65.598163 & 1.613620e-17\\\\\n",
       "\tIL6 &   6.214703 & 1.091202e-03 &   6.223419 & 1.102310e-03\\\\\n",
       "\tIL8 &  79.967356 & 1.758646e-19 &  79.682128 & 2.964110e-19\\\\\n",
       "\tIP10 &   2.111793 & 1.099361e-01 &   2.136736 & 1.070152e-01\\\\\n",
       "\tITAC &   9.410141 & 4.536501e-05 &  10.312058 & 2.055298e-05\\\\\n",
       "\tMCP1 &  87.917624 & 2.299775e-20 &  88.563710 & 3.178988e-20\\\\\n",
       "\tMIG &   8.624386 & 9.598922e-05 &   9.058488 & 6.561059e-05\\\\\n",
       "\tMIP1a &  13.505581 & 1.233603e-06 &  13.277580 & 1.588653e-06\\\\\n",
       "\tMIP1b &  39.634040 & 1.800849e-13 &  40.033031 & 1.922375e-13\\\\\n",
       "\tTARC & 167.595916 & 1.033650e-26 & 164.385758 & 3.338653e-26\\\\\n",
       "\tTNFa &  45.466182 & 1.455788e-14 &  44.662014 & 2.667305e-14\\\\\n",
       "\\end{tabular}\n"
      ],
      "text/markdown": [
       "\n",
       "A matrix: 22 × 4 of type dbl\n",
       "\n",
       "| <!--/--> | F Value | p value | F Value | p value |\n",
       "|---|---|---|---|---|\n",
       "| Eotaxin |  51.084003 | 1.592224e-15 |  50.665544 | 2.535133e-15 |\n",
       "| Eotaxin3 |   5.645686 | 1.997709e-03 |   5.552142 | 2.244222e-03 |\n",
       "| Fractalkine |  22.289262 | 2.049974e-09 |  22.709707 | 1.783532e-09 |\n",
       "| I309 |   5.490566 | 2.360680e-03 |   5.643618 | 2.034956e-03 |\n",
       "| IFNg |  55.178077 | 3.545528e-16 |  54.210400 | 6.949235e-16 |\n",
       "| IL10 |  41.465116 | 7.962164e-14 |  42.800110 | 5.796524e-14 |\n",
       "| IL12p70 |  10.967574 | 1.087956e-05 |  11.681791 | 6.108672e-06 |\n",
       "| IL13 |   6.524825 | 7.887986e-04 |   6.401069 | 9.158481e-04 |\n",
       "| IL17B |   9.266681 | 5.193942e-05 |   9.310115 | 5.176467e-05 |\n",
       "| IL17D |   3.227103 | 2.980293e-02 |   3.612281 | 1.925529e-02 |\n",
       "| IL1b |  62.953282 | 2.545215e-17 |  62.087436 | 4.857479e-17 |\n",
       "| IL4 |  65.891363 | 1.004366e-17 |  65.598163 | 1.613620e-17 |\n",
       "| IL6 |   6.214703 | 1.091202e-03 |   6.223419 | 1.102310e-03 |\n",
       "| IL8 |  79.967356 | 1.758646e-19 |  79.682128 | 2.964110e-19 |\n",
       "| IP10 |   2.111793 | 1.099361e-01 |   2.136736 | 1.070152e-01 |\n",
       "| ITAC |   9.410141 | 4.536501e-05 |  10.312058 | 2.055298e-05 |\n",
       "| MCP1 |  87.917624 | 2.299775e-20 |  88.563710 | 3.178988e-20 |\n",
       "| MIG |   8.624386 | 9.598922e-05 |   9.058488 | 6.561059e-05 |\n",
       "| MIP1a |  13.505581 | 1.233603e-06 |  13.277580 | 1.588653e-06 |\n",
       "| MIP1b |  39.634040 | 1.800849e-13 |  40.033031 | 1.922375e-13 |\n",
       "| TARC | 167.595916 | 1.033650e-26 | 164.385758 | 3.338653e-26 |\n",
       "| TNFa |  45.466182 | 1.455788e-14 |  44.662014 | 2.667305e-14 |\n",
       "\n"
      ],
      "text/plain": [
       "            F Value    p value      F Value    p value     \n",
       "Eotaxin      51.084003 1.592224e-15  50.665544 2.535133e-15\n",
       "Eotaxin3      5.645686 1.997709e-03   5.552142 2.244222e-03\n",
       "Fractalkine  22.289262 2.049974e-09  22.709707 1.783532e-09\n",
       "I309          5.490566 2.360680e-03   5.643618 2.034956e-03\n",
       "IFNg         55.178077 3.545528e-16  54.210400 6.949235e-16\n",
       "IL10         41.465116 7.962164e-14  42.800110 5.796524e-14\n",
       "IL12p70      10.967574 1.087956e-05  11.681791 6.108672e-06\n",
       "IL13          6.524825 7.887986e-04   6.401069 9.158481e-04\n",
       "IL17B         9.266681 5.193942e-05   9.310115 5.176467e-05\n",
       "IL17D         3.227103 2.980293e-02   3.612281 1.925529e-02\n",
       "IL1b         62.953282 2.545215e-17  62.087436 4.857479e-17\n",
       "IL4          65.891363 1.004366e-17  65.598163 1.613620e-17\n",
       "IL6           6.214703 1.091202e-03   6.223419 1.102310e-03\n",
       "IL8          79.967356 1.758646e-19  79.682128 2.964110e-19\n",
       "IP10          2.111793 1.099361e-01   2.136736 1.070152e-01\n",
       "ITAC          9.410141 4.536501e-05  10.312058 2.055298e-05\n",
       "MCP1         87.917624 2.299775e-20  88.563710 3.178988e-20\n",
       "MIG           8.624386 9.598922e-05   9.058488 6.561059e-05\n",
       "MIP1a        13.505581 1.233603e-06  13.277580 1.588653e-06\n",
       "MIP1b        39.634040 1.800849e-13  40.033031 1.922375e-13\n",
       "TARC        167.595916 1.033650e-26 164.385758 3.338653e-26\n",
       "TNFa         45.466182 1.455788e-14  44.662014 2.667305e-14"
      ]
     },
     "metadata": {},
     "output_type": "display_data"
    }
   ],
   "source": [
    "table_summary = function(Eotaxin, Eotaxin3, Fractalkine, I309,\n",
    "                                           IFNg, IL10, IL12p70, IL13,\n",
    "                                           IL17B, IL17D, IL1b, IL4, IL6,\n",
    "                                           IL8, IP10, ITAC, MCP1, MIG,\n",
    "                                           MIP1a, MIP1b, TARC, TNFa){\n",
    "    #comment\n",
    "    table_initial = rbind(Eotaxin, Eotaxin3, Fractalkine, I309,\n",
    "                                           IFNg, IL10, IL12p70, IL13,\n",
    "                                           IL17B, IL17D, IL1b, IL4, IL6,\n",
    "                                           IL8, IP10, ITAC, MCP1, MIG,\n",
    "                                           MIP1a, MIP1b, TARC, TNFa)\n",
    "    \n",
    "    colnames(table_initial) = c('F Value','p value')\n",
    "    return(table_initial)\n",
    "}\n",
    "\n",
    "#calling function\n",
    "anova_table = table_summary(Eotaxin_anova_values, Eotaxin3_anova_values, Fractalkine_anova_values,I309_anova_values,\n",
    "                            IFNg_anova_values, IL10_anova_values, IL12p70_anova_values, IL13_anova_values, \n",
    "                            IL17B_anova_values, IL17D_anova_values, IL1b_anova_values, IL4_anova_values, IL6_anova_values,\n",
    "                            IL8_anova_values, IP10_anova_values, ITAC_anova_values, MCP1_anova_values, MIG_anova_values,\n",
    "                            MIP1a_anova_values, MIP1b_anova_values, TARC_anova_values, TNFa_anova_values)\n",
    "ancova_race_table = table_summary(Eotaxin_ancova_race_values, Eotaxin3_ancova_race_values, Fractalkine_ancova_race_values,I309_ancova_race_values,\n",
    "                            IFNg_ancova_race_values, IL10_ancova_race_values, IL12p70_ancova_race_values, IL13_ancova_race_values, \n",
    "                            IL17B_ancova_race_values, IL17D_ancova_race_values, IL1b_ancova_race_values, IL4_ancova_race_values, IL6_ancova_race_values,\n",
    "                            IL8_ancova_race_values, IP10_ancova_race_values, ITAC_ancova_race_values, MCP1_ancova_race_values, MIG_ancova_race_values,\n",
    "                            MIP1a_ancova_race_values, MIP1b_ancova_race_values, TARC_ancova_race_values, TNFa_ancova_race_values)\n",
    "ancova_sex_table = table_summary(Eotaxin_ancova_sex_values, Eotaxin3_ancova_sex_values, Fractalkine_ancova_sex_values,I309_ancova_sex_values,\n",
    "                            IFNg_ancova_sex_values, IL10_ancova_sex_values, IL12p70_ancova_sex_values, IL13_ancova_sex_values, \n",
    "                            IL17B_ancova_sex_values, IL17D_ancova_sex_values, IL1b_ancova_sex_values, IL4_ancova_sex_values, IL6_ancova_sex_values,\n",
    "                            IL8_ancova_sex_values, IP10_ancova_sex_values, ITAC_ancova_sex_values, MCP1_ancova_sex_values, MIG_ancova_sex_values,\n",
    "                            MIP1a_ancova_sex_values, MIP1b_ancova_sex_values, TARC_ancova_sex_values, TNFa_ancova_sex_values)\n",
    "ancova_age_table = table_summary(Eotaxin_ancova_age_values, Eotaxin3_ancova_age_values, Fractalkine_ancova_age_values,I309_ancova_age_values,\n",
    "                            IFNg_ancova_age_values, IL10_ancova_age_values, IL12p70_ancova_age_values, IL13_ancova_age_values, \n",
    "                            IL17B_ancova_age_values, IL17D_ancova_age_values, IL1b_ancova_age_values, IL4_ancova_age_values, IL6_ancova_age_values,\n",
    "                            IL8_ancova_age_values, IP10_ancova_age_values, ITAC_ancova_age_values, MCP1_ancova_age_values, MIG_ancova_age_values,\n",
    "                            MIP1a_ancova_age_values, MIP1b_ancova_age_values, TARC_ancova_age_values, TNFa_ancova_age_values)\n",
    "allresults = cbind(anova_table,ancova_age_table)"
   ]
  },
  {
   "cell_type": "code",
   "execution_count": 27,
   "metadata": {},
   "outputs": [],
   "source": [
    "#going back to calculate padj values\n",
    "padj_anova_ancova = apply(cbind(allresults[,2],allresults[,4]), 2, \n",
    "              p.adjust, method = \"fdr\")\n",
    "#inserting these back into the allresults df to export all values\n",
    "final_anova_ancova = cbind(allresults[,1], allresults[,2], padj_anova_ancova[,1], allresults[,3], allresults[,4],\n",
    "                          padj_anova_ancova[,2])\n",
    "colnames(final_anova_ancova) = c('F Value','p value', 'P Adj', 'F Value','p value', 'P Adj')"
   ]
  },
  {
   "cell_type": "code",
   "execution_count": 28,
   "metadata": {},
   "outputs": [],
   "source": [
    "write.csv(final_anova_ancova,'/Users/alexis/IEHS Dropbox/Rager Lab/Alexis_Payton/1_Compartment_Analysis/Expt1.1_DescriptiveStats/Output/ANOVA_ANCOVAtable.csv')"
   ]
  },
  {
   "cell_type": "markdown",
   "metadata": {},
   "source": [
    "# Tukey's HSD Tables"
   ]
  },
  {
   "cell_type": "code",
   "execution_count": 29,
   "metadata": {},
   "outputs": [],
   "source": [
    "tukey_table_mean_diff = function(Eotaxin, Eotaxin3, Fractalkine, I309,\n",
    "                                           IFNg, IL10, IL12p70, IL13,\n",
    "                                           IL17B, IL17D, IL1b, IL4, IL6,\n",
    "                                           IL8, IP10, ITAC, MCP1, MIG,\n",
    "                                           MIP1a, MIP1b, TARC, TNFa){\n",
    "    #comment\n",
    "    table_initial = rbind(t(Eotaxin[[1]])[1,],t(Eotaxin3[[1]])[1,],t(Fractalkine[[1]])[1,],t(I309[[1]])[1,],\n",
    "                                           t(IFNg[[1]])[1,],t(IL10[[1]])[1,],t(IL12p70[[1]])[1,],t(IL13[[1]])[1,],\n",
    "                                           t(IL17B[[1]])[1,],t(IL17D[[1]])[1,],t(IL1b[[1]])[1,],t(IL4[[1]])[1,],\n",
    "                                           t(IL6[[1]])[1,], t(IL8[[1]])[1,],t(IP10[[1]])[1,],t(ITAC[[1]])[1,],\n",
    "                                           t(MCP1[[1]])[1,],t(MIG[[1]])[1,],t(MIP1a[[1]])[1,],t(MIP1b[[1]])[1,],\n",
    "                                           t(TARC[[1]])[1,],t(TNFa[[1]])[1,]) #get mean differences\n",
    "    return(table_initial)   \n",
    "}\n",
    "\n",
    "#calling function\n",
    "tukey_anova_mean_diff = tukey_table_mean_diff(Eotaxin_tukey_anova, Eotaxin3_tukey_anova, Fractalkine_tukey_anova,I309_tukey_anova,\n",
    "                            IFNg_tukey_anova, IL10_tukey_anova, IL12p70_tukey_anova, IL13_tukey_anova, \n",
    "                            IL17B_tukey_anova, IL17D_tukey_anova, IL1b_tukey_anova, IL4_tukey_anova, IL6_tukey_anova,\n",
    "                            IL8_tukey_anova, IP10_tukey_anova, ITAC_tukey_anova, MCP1_tukey_anova, MIG_tukey_anova,\n",
    "                            MIP1a_tukey_anova, MIP1b_tukey_anova, TARC_tukey_anova, TNFa_tukey_anova)\n",
    "tukey_ancova_race_mean_diff = tukey_table_mean_diff(Eotaxin_tukey_ancova_race, Eotaxin3_tukey_ancova_race, Fractalkine_tukey_ancova_race,I309_tukey_ancova_race,\n",
    "                            IFNg_tukey_ancova_race, IL10_tukey_ancova_race, IL12p70_tukey_ancova_race, IL13_tukey_ancova_race, \n",
    "                            IL17B_tukey_ancova_race, IL17D_tukey_ancova_race, IL1b_tukey_ancova_race, IL4_tukey_ancova_race, IL6_tukey_ancova_race,\n",
    "                            IL8_tukey_ancova_race, IP10_tukey_ancova_race, ITAC_tukey_ancova_race, MCP1_tukey_ancova_race, MIG_tukey_ancova_race,\n",
    "                            MIP1a_tukey_ancova_race, MIP1b_tukey_ancova_race, TARC_tukey_ancova_race, TNFa_tukey_ancova_race)\n",
    "tukey_ancova_sex_mean_diff = tukey_table_mean_diff(Eotaxin_tukey_ancova_sex, Eotaxin3_tukey_ancova_sex, Fractalkine_tukey_ancova_sex,I309_tukey_ancova_sex,\n",
    "                            IFNg_tukey_ancova_sex, IL10_tukey_ancova_sex, IL12p70_tukey_ancova_sex, IL13_tukey_ancova_sex, \n",
    "                            IL17B_tukey_ancova_sex, IL17D_tukey_ancova_sex, IL1b_tukey_ancova_sex, IL4_tukey_ancova_sex, IL6_tukey_ancova_sex,\n",
    "                            IL8_tukey_ancova_sex, IP10_tukey_ancova_sex, ITAC_tukey_ancova_sex, MCP1_tukey_ancova_sex, MIG_tukey_ancova_sex,\n",
    "                            MIP1a_tukey_ancova_sex, MIP1b_tukey_ancova_sex, TARC_tukey_ancova_sex, TNFa_tukey_ancova_sex)\n",
    "tukey_ancova_age_mean_diff = tukey_table_mean_diff(Eotaxin_tukey_ancova_age, Eotaxin3_tukey_ancova_age, Fractalkine_tukey_ancova_age,I309_tukey_ancova_age,\n",
    "                            IFNg_tukey_ancova_age, IL10_tukey_ancova_age, IL12p70_tukey_ancova_age, IL13_tukey_ancova_age, \n",
    "                            IL17B_tukey_ancova_age, IL17D_tukey_ancova_age, IL1b_tukey_ancova_age, IL4_tukey_ancova_age, IL6_tukey_ancova_age,\n",
    "                            IL8_tukey_ancova_age, IP10_tukey_ancova_age, ITAC_tukey_ancova_age, MCP1_tukey_ancova_age, MIG_tukey_ancova_age,\n",
    "                            MIP1a_tukey_ancova_age, MIP1b_tukey_ancova_age, TARC_tukey_ancova_age, TNFa_tukey_ancova_age)"
   ]
  },
  {
   "cell_type": "code",
   "execution_count": null,
   "metadata": {},
   "outputs": [],
   "source": [
    "tukey_table_pvalue = function(Eotaxin, Eotaxin3, Fractalkine, I309,\n",
    "                                           IFNg, IL10, IL12p70, IL13,\n",
    "                                           IL17B, IL17D, IL1b, IL4, IL6,\n",
    "                                           IL8, IP10, ITAC, MCP1, MIG,\n",
    "                                           MIP1a, MIP1b, TARC, TNFa){\n",
    "    #comment\n",
    "    table_initial = rbind(t(Eotaxin[[1]])[4,],t(Eotaxin3[[1]])[4,],t(Fractalkine[[1]])[4,],t(I309[[1]])[4,],\n",
    "                                           t(IFNg[[1]])[4,],t(IL10[[1]])[4,],t(IL12p70[[1]])[4,],t(IL13[[1]])[4,],\n",
    "                                           t(IL17B[[1]])[4,],t(IL17D[[1]])[4,],t(IL1b[[1]])[4,],t(IL4[[1]])[4,],\n",
    "                                           t(IL6[[1]])[4,], t(IL8[[1]])[4,],t(IP10[[1]])[4,],t(ITAC[[1]])[4,],\n",
    "                                           t(MCP1[[1]])[4,],t(MIG[[1]])[4,],t(MIP1a[[1]])[4,],t(MIP1b[[1]])[4,],\n",
    "                                           t(TARC[[1]])[4,],t(TNFa[[1]])[4,]) #get p value\n",
    "    return(table_initial)   \n",
    "}\n",
    "\n",
    "#calling function\n",
    "tukey_anova_pvalue = tukey_table_pvalue(Eotaxin_tukey_anova, Eotaxin3_tukey_anova, Fractalkine_tukey_anova,I309_tukey_anova,\n",
    "                            IFNg_tukey_anova, IL10_tukey_anova, IL12p70_tukey_anova, IL13_tukey_anova, \n",
    "                            IL17B_tukey_anova, IL17D_tukey_anova, IL1b_tukey_anova, IL4_tukey_anova, IL6_tukey_anova,\n",
    "                            IL8_tukey_anova, IP10_tukey_anova, ITAC_tukey_anova, MCP1_tukey_anova, MIG_tukey_anova,\n",
    "                            MIP1a_tukey_anova, MIP1b_tukey_anova, TARC_tukey_anova, TNFa_tukey_anova)\n",
    "tukey_ancova_race_pvalue = tukey_table_pvalue(Eotaxin_tukey_ancova_race, Eotaxin3_tukey_ancova_race, Fractalkine_tukey_ancova_race,I309_tukey_ancova_race,\n",
    "                            IFNg_tukey_ancova_race, IL10_tukey_ancova_race, IL12p70_tukey_ancova_race, IL13_tukey_ancova_race, \n",
    "                            IL17B_tukey_ancova_race, IL17D_tukey_ancova_race, IL1b_tukey_ancova_race, IL4_tukey_ancova_race, IL6_tukey_ancova_race,\n",
    "                            IL8_tukey_ancova_race, IP10_tukey_ancova_race, ITAC_tukey_ancova_race, MCP1_tukey_ancova_race, MIG_tukey_ancova_race,\n",
    "                            MIP1a_tukey_ancova_race, MIP1b_tukey_ancova_race, TARC_tukey_ancova_race, TNFa_tukey_ancova_race)\n",
    "tukey_ancova_sex_pvalue = tukey_table_pvalue(Eotaxin_tukey_ancova_sex, Eotaxin3_tukey_ancova_sex, Fractalkine_tukey_ancova_sex,I309_tukey_ancova_sex,\n",
    "                            IFNg_tukey_ancova_sex, IL10_tukey_ancova_sex, IL12p70_tukey_ancova_sex, IL13_tukey_ancova_sex, \n",
    "                            IL17B_tukey_ancova_sex, IL17D_tukey_ancova_sex, IL1b_tukey_ancova_sex, IL4_tukey_ancova_sex, IL6_tukey_ancova_sex,\n",
    "                            IL8_tukey_ancova_sex, IP10_tukey_ancova_sex, ITAC_tukey_ancova_sex, MCP1_tukey_ancova_sex, MIG_tukey_ancova_sex,\n",
    "                            MIP1a_tukey_ancova_sex, MIP1b_tukey_ancova_sex, TARC_tukey_ancova_sex, TNFa_tukey_ancova_sex)\n",
    "tukey_ancova_age_pvalue = tukey_table_pvalue(Eotaxin_tukey_ancova_age, Eotaxin3_tukey_ancova_age, Fractalkine_tukey_ancova_age,I309_tukey_ancova_age,\n",
    "                            IFNg_tukey_ancova_age, IL10_tukey_ancova_age, IL12p70_tukey_ancova_age, IL13_tukey_ancova_age, \n",
    "                            IL17B_tukey_ancova_age, IL17D_tukey_ancova_age, IL1b_tukey_ancova_age, IL4_tukey_ancova_age, IL6_tukey_ancova_age,\n",
    "                            IL8_tukey_ancova_age, IP10_tukey_ancova_age, ITAC_tukey_ancova_age, MCP1_tukey_ancova_age, MIG_tukey_ancova_age,\n",
    "                            MIP1a_tukey_ancova_age, MIP1b_tukey_ancova_age, TARC_tukey_ancova_age, TNFa_tukey_ancova_age)"
   ]
  },
  {
   "cell_type": "code",
   "execution_count": 31,
   "metadata": {
    "collapsed": true
   },
   "outputs": [
    {
     "data": {
      "text/html": [
       "<table>\n",
       "<caption>A matrix: 22 × 12 of type dbl</caption>\n",
       "<thead>\n",
       "\t<tr><th scope=col>NLF-ELF</th><th scope=col>Serum-ELF</th><th scope=col>Sputum-ELF</th><th scope=col>Serum-NLF</th><th scope=col>Sputum-NLF</th><th scope=col>Sputum-Serum</th><th scope=col>NLF-ELF</th><th scope=col>Serum-ELF</th><th scope=col>Sputum-ELF</th><th scope=col>Serum-NLF</th><th scope=col>Sputum-NLF</th><th scope=col>Sputum-Serum</th></tr>\n",
       "</thead>\n",
       "<tbody>\n",
       "\t<tr><td>1.968700e-03</td><td>4.410214e-03</td><td>3.555364e-10</td><td>7.453552e-09</td><td>0.0003218101</td><td>0.000000e+00</td><td>2.098042e-03</td><td>4.659700e-03</td><td>4.617176e-10</td><td>9.268331e-09</td><td>0.000349861</td><td>0.000000e+00</td></tr>\n",
       "\t<tr><td>9.480993e-01</td><td>9.879747e-01</td><td>7.857588e-03</td><td>8.212921e-01</td><td>0.0338555690</td><td>3.017452e-03</td><td>9.492805e-01</td><td>9.882616e-01</td><td>8.589426e-03</td><td>8.249121e-01</td><td>0.036077866</td><td>3.353562e-03</td></tr>\n",
       "\t<tr><td>3.777430e-03</td><td>1.356487e-02</td><td>1.579747e-03</td><td>6.925949e-08</td><td>0.9918058905</td><td>2.432585e-08</td><td>3.458062e-03</td><td>1.260444e-02</td><td>1.433329e-03</td><td>5.997426e-08</td><td>0.991576007</td><td>2.106524e-08</td></tr>\n",
       "\t<tr><td>9.771524e-01</td><td>1.977133e-02</td><td>9.771524e-01</td><td>6.399627e-03</td><td>1.0000000000</td><td>6.399627e-03</td><td>9.762282e-01</td><td>1.780940e-02</td><td>9.762282e-01</td><td>5.637432e-03</td><td>1.000000000</td><td>5.637432e-03</td></tr>\n",
       "\t<tr><td>3.822300e-03</td><td>2.548735e-07</td><td>6.255020e-06</td><td>0.000000e+00</td><td>0.2306329869</td><td>0.000000e+00</td><td>4.252818e-03</td><td>3.371047e-07</td><td>7.809258e-06</td><td>0.000000e+00</td><td>0.237843858</td><td>0.000000e+00</td></tr>\n",
       "\t<tr><td>3.978321e-08</td><td>6.756396e-01</td><td>3.056280e-09</td><td>6.456220e-10</td><td>0.8965536184</td><td>4.822509e-11</td><td>2.919422e-08</td><td>6.646662e-01</td><td>2.211747e-09</td><td>4.634179e-10</td><td>0.892151527</td><td>3.279332e-11</td></tr>\n",
       "\t<tr><td>1.225607e-03</td><td>8.868867e-01</td><td>1.020296e-04</td><td>1.065148e-02</td><td>0.8738527734</td><td>1.110663e-03</td><td>8.338336e-04</td><td>8.772345e-01</td><td>6.281411e-05</td><td>8.016573e-03</td><td>0.863235159</td><td>7.524157e-04</td></tr>\n",
       "\t<tr><td>6.536579e-03</td><td>6.564993e-02</td><td>7.161551e-04</td><td>8.145458e-01</td><td>0.8881693330</td><td>3.861679e-01</td><td>7.253637e-03</td><td>6.963207e-02</td><td>8.290610e-04</td><td>8.188205e-01</td><td>0.890922498</td><td>3.948425e-01</td></tr>\n",
       "\t<tr><td>2.034311e-01</td><td>1.668659e-04</td><td>4.233658e-04</td><td>5.838755e-02</td><td>0.1091857621</td><td>9.922387e-01</td><td>2.019506e-01</td><td>1.655652e-04</td><td>4.191954e-04</td><td>5.777779e-02</td><td>0.108196013</td><td>9.921833e-01</td></tr>\n",
       "\t<tr><td>4.520887e-01</td><td>9.654404e-01</td><td>2.939834e-02</td><td>7.394849e-01</td><td>0.5168548996</td><td>8.981051e-02</td><td>4.022683e-01</td><td>9.594794e-01</td><td>1.917819e-02</td><td>7.047220e-01</td><td>0.468226760</td><td>6.587664e-02</td></tr>\n",
       "\t<tr><td>4.794386e-08</td><td>0.000000e+00</td><td>1.052080e-09</td><td>5.819845e-08</td><td>0.7253046766</td><td>2.597441e-06</td><td>6.232511e-08</td><td>0.000000e+00</td><td>1.456742e-09</td><td>7.541822e-08</td><td>0.729541252</td><td>3.167640e-06</td></tr>\n",
       "\t<tr><td>4.373998e-01</td><td>0.000000e+00</td><td>3.670260e-01</td><td>0.000000e+00</td><td>0.9992961389</td><td>0.000000e+00</td><td>4.395181e-01</td><td>0.000000e+00</td><td>3.691811e-01</td><td>0.000000e+00</td><td>0.999300624</td><td>0.000000e+00</td></tr>\n",
       "\t<tr><td>1.281226e-03</td><td>1.937582e-02</td><td>8.413023e-03</td><td>7.890930e-01</td><td>0.9230335057</td><td>9.902230e-01</td><td>1.292471e-03</td><td>1.939781e-02</td><td>8.438026e-03</td><td>7.887458e-01</td><td>0.922878079</td><td>9.902006e-01</td></tr>\n",
       "\t<tr><td>1.389183e-09</td><td>0.000000e+00</td><td>0.000000e+00</td><td>7.468428e-09</td><td>0.1271620142</td><td>2.468080e-05</td><td>1.656085e-09</td><td>0.000000e+00</td><td>0.000000e+00</td><td>8.727795e-09</td><td>0.128467686</td><td>2.652090e-05</td></tr>\n",
       "\t<tr><td>9.614494e-01</td><td>7.353306e-01</td><td>4.787428e-01</td><td>4.369561e-01</td><td>0.7751339670</td><td>7.693863e-02</td><td>9.608001e-01</td><td>7.318320e-01</td><td>4.737434e-01</td><td>4.319028e-01</td><td>0.772033591</td><td>7.468826e-02</td></tr>\n",
       "\t<tr><td>1.878302e-01</td><td>7.197192e-01</td><td>1.928372e-03</td><td>1.646841e-02</td><td>0.2896081262</td><td>6.071827e-05</td><td>1.566909e-01</td><td>6.902739e-01</td><td>1.120551e-03</td><td>1.117095e-02</td><td>0.251947621</td><td>2.856656e-05</td></tr>\n",
       "\t<tr><td>2.282788e-07</td><td>4.457953e-07</td><td>2.283854e-10</td><td>0.000000e+00</td><td>0.2464146184</td><td>0.000000e+00</td><td>2.261292e-07</td><td>4.402337e-07</td><td>2.360123e-10</td><td>0.000000e+00</td><td>0.243722120</td><td>0.000000e+00</td></tr>\n",
       "\t<tr><td>2.448686e-01</td><td>3.064732e-01</td><td>4.078150e-05</td><td>9.991118e-01</td><td>0.0158040967</td><td>1.090702e-02</td><td>2.257455e-01</td><td>2.858179e-01</td><td>2.752186e-05</td><td>9.990440e-01</td><td>0.012904725</td><td>8.779018e-03</td></tr>\n",
       "\t<tr><td>5.700178e-02</td><td>8.408306e-02</td><td>1.080785e-02</td><td>3.629056e-05</td><td>0.9172611439</td><td>3.717440e-06</td><td>6.024503e-02</td><td>8.824436e-02</td><td>1.176592e-02</td><td>4.364905e-05</td><td>0.919123002</td><td>4.653653e-06</td></tr>\n",
       "\t<tr><td>1.668506e-04</td><td>8.901579e-06</td><td>1.129722e-02</td><td>0.000000e+00</td><td>0.5322194660</td><td>6.781409e-11</td><td>1.588717e-04</td><td>8.474441e-06</td><td>1.089281e-02</td><td>0.000000e+00</td><td>0.528100139</td><td>6.730994e-11</td></tr>\n",
       "\t<tr><td>6.403489e-04</td><td>0.000000e+00</td><td>3.202972e-05</td><td>0.000000e+00</td><td>0.8109259471</td><td>0.000000e+00</td><td>7.438216e-04</td><td>0.000000e+00</td><td>3.939088e-05</td><td>0.000000e+00</td><td>0.815312902</td><td>0.000000e+00</td></tr>\n",
       "\t<tr><td>1.034162e-04</td><td>2.664483e-04</td><td>1.133749e-06</td><td>7.826517e-12</td><td>0.5815984975</td><td>0.000000e+00</td><td>1.229209e-04</td><td>3.113423e-04</td><td>1.462041e-06</td><td>1.383205e-11</td><td>0.588768437</td><td>0.000000e+00</td></tr>\n",
       "</tbody>\n",
       "</table>\n"
      ],
      "text/latex": [
       "A matrix: 22 × 12 of type dbl\n",
       "\\begin{tabular}{llllllllllll}\n",
       " NLF-ELF & Serum-ELF & Sputum-ELF & Serum-NLF & Sputum-NLF & Sputum-Serum & NLF-ELF & Serum-ELF & Sputum-ELF & Serum-NLF & Sputum-NLF & Sputum-Serum\\\\\n",
       "\\hline\n",
       "\t 1.968700e-03 & 4.410214e-03 & 3.555364e-10 & 7.453552e-09 & 0.0003218101 & 0.000000e+00 & 2.098042e-03 & 4.659700e-03 & 4.617176e-10 & 9.268331e-09 & 0.000349861 & 0.000000e+00\\\\\n",
       "\t 9.480993e-01 & 9.879747e-01 & 7.857588e-03 & 8.212921e-01 & 0.0338555690 & 3.017452e-03 & 9.492805e-01 & 9.882616e-01 & 8.589426e-03 & 8.249121e-01 & 0.036077866 & 3.353562e-03\\\\\n",
       "\t 3.777430e-03 & 1.356487e-02 & 1.579747e-03 & 6.925949e-08 & 0.9918058905 & 2.432585e-08 & 3.458062e-03 & 1.260444e-02 & 1.433329e-03 & 5.997426e-08 & 0.991576007 & 2.106524e-08\\\\\n",
       "\t 9.771524e-01 & 1.977133e-02 & 9.771524e-01 & 6.399627e-03 & 1.0000000000 & 6.399627e-03 & 9.762282e-01 & 1.780940e-02 & 9.762282e-01 & 5.637432e-03 & 1.000000000 & 5.637432e-03\\\\\n",
       "\t 3.822300e-03 & 2.548735e-07 & 6.255020e-06 & 0.000000e+00 & 0.2306329869 & 0.000000e+00 & 4.252818e-03 & 3.371047e-07 & 7.809258e-06 & 0.000000e+00 & 0.237843858 & 0.000000e+00\\\\\n",
       "\t 3.978321e-08 & 6.756396e-01 & 3.056280e-09 & 6.456220e-10 & 0.8965536184 & 4.822509e-11 & 2.919422e-08 & 6.646662e-01 & 2.211747e-09 & 4.634179e-10 & 0.892151527 & 3.279332e-11\\\\\n",
       "\t 1.225607e-03 & 8.868867e-01 & 1.020296e-04 & 1.065148e-02 & 0.8738527734 & 1.110663e-03 & 8.338336e-04 & 8.772345e-01 & 6.281411e-05 & 8.016573e-03 & 0.863235159 & 7.524157e-04\\\\\n",
       "\t 6.536579e-03 & 6.564993e-02 & 7.161551e-04 & 8.145458e-01 & 0.8881693330 & 3.861679e-01 & 7.253637e-03 & 6.963207e-02 & 8.290610e-04 & 8.188205e-01 & 0.890922498 & 3.948425e-01\\\\\n",
       "\t 2.034311e-01 & 1.668659e-04 & 4.233658e-04 & 5.838755e-02 & 0.1091857621 & 9.922387e-01 & 2.019506e-01 & 1.655652e-04 & 4.191954e-04 & 5.777779e-02 & 0.108196013 & 9.921833e-01\\\\\n",
       "\t 4.520887e-01 & 9.654404e-01 & 2.939834e-02 & 7.394849e-01 & 0.5168548996 & 8.981051e-02 & 4.022683e-01 & 9.594794e-01 & 1.917819e-02 & 7.047220e-01 & 0.468226760 & 6.587664e-02\\\\\n",
       "\t 4.794386e-08 & 0.000000e+00 & 1.052080e-09 & 5.819845e-08 & 0.7253046766 & 2.597441e-06 & 6.232511e-08 & 0.000000e+00 & 1.456742e-09 & 7.541822e-08 & 0.729541252 & 3.167640e-06\\\\\n",
       "\t 4.373998e-01 & 0.000000e+00 & 3.670260e-01 & 0.000000e+00 & 0.9992961389 & 0.000000e+00 & 4.395181e-01 & 0.000000e+00 & 3.691811e-01 & 0.000000e+00 & 0.999300624 & 0.000000e+00\\\\\n",
       "\t 1.281226e-03 & 1.937582e-02 & 8.413023e-03 & 7.890930e-01 & 0.9230335057 & 9.902230e-01 & 1.292471e-03 & 1.939781e-02 & 8.438026e-03 & 7.887458e-01 & 0.922878079 & 9.902006e-01\\\\\n",
       "\t 1.389183e-09 & 0.000000e+00 & 0.000000e+00 & 7.468428e-09 & 0.1271620142 & 2.468080e-05 & 1.656085e-09 & 0.000000e+00 & 0.000000e+00 & 8.727795e-09 & 0.128467686 & 2.652090e-05\\\\\n",
       "\t 9.614494e-01 & 7.353306e-01 & 4.787428e-01 & 4.369561e-01 & 0.7751339670 & 7.693863e-02 & 9.608001e-01 & 7.318320e-01 & 4.737434e-01 & 4.319028e-01 & 0.772033591 & 7.468826e-02\\\\\n",
       "\t 1.878302e-01 & 7.197192e-01 & 1.928372e-03 & 1.646841e-02 & 0.2896081262 & 6.071827e-05 & 1.566909e-01 & 6.902739e-01 & 1.120551e-03 & 1.117095e-02 & 0.251947621 & 2.856656e-05\\\\\n",
       "\t 2.282788e-07 & 4.457953e-07 & 2.283854e-10 & 0.000000e+00 & 0.2464146184 & 0.000000e+00 & 2.261292e-07 & 4.402337e-07 & 2.360123e-10 & 0.000000e+00 & 0.243722120 & 0.000000e+00\\\\\n",
       "\t 2.448686e-01 & 3.064732e-01 & 4.078150e-05 & 9.991118e-01 & 0.0158040967 & 1.090702e-02 & 2.257455e-01 & 2.858179e-01 & 2.752186e-05 & 9.990440e-01 & 0.012904725 & 8.779018e-03\\\\\n",
       "\t 5.700178e-02 & 8.408306e-02 & 1.080785e-02 & 3.629056e-05 & 0.9172611439 & 3.717440e-06 & 6.024503e-02 & 8.824436e-02 & 1.176592e-02 & 4.364905e-05 & 0.919123002 & 4.653653e-06\\\\\n",
       "\t 1.668506e-04 & 8.901579e-06 & 1.129722e-02 & 0.000000e+00 & 0.5322194660 & 6.781409e-11 & 1.588717e-04 & 8.474441e-06 & 1.089281e-02 & 0.000000e+00 & 0.528100139 & 6.730994e-11\\\\\n",
       "\t 6.403489e-04 & 0.000000e+00 & 3.202972e-05 & 0.000000e+00 & 0.8109259471 & 0.000000e+00 & 7.438216e-04 & 0.000000e+00 & 3.939088e-05 & 0.000000e+00 & 0.815312902 & 0.000000e+00\\\\\n",
       "\t 1.034162e-04 & 2.664483e-04 & 1.133749e-06 & 7.826517e-12 & 0.5815984975 & 0.000000e+00 & 1.229209e-04 & 3.113423e-04 & 1.462041e-06 & 1.383205e-11 & 0.588768437 & 0.000000e+00\\\\\n",
       "\\end{tabular}\n"
      ],
      "text/markdown": [
       "\n",
       "A matrix: 22 × 12 of type dbl\n",
       "\n",
       "| NLF-ELF | Serum-ELF | Sputum-ELF | Serum-NLF | Sputum-NLF | Sputum-Serum | NLF-ELF | Serum-ELF | Sputum-ELF | Serum-NLF | Sputum-NLF | Sputum-Serum |\n",
       "|---|---|---|---|---|---|---|---|---|---|---|---|\n",
       "| 1.968700e-03 | 4.410214e-03 | 3.555364e-10 | 7.453552e-09 | 0.0003218101 | 0.000000e+00 | 2.098042e-03 | 4.659700e-03 | 4.617176e-10 | 9.268331e-09 | 0.000349861 | 0.000000e+00 |\n",
       "| 9.480993e-01 | 9.879747e-01 | 7.857588e-03 | 8.212921e-01 | 0.0338555690 | 3.017452e-03 | 9.492805e-01 | 9.882616e-01 | 8.589426e-03 | 8.249121e-01 | 0.036077866 | 3.353562e-03 |\n",
       "| 3.777430e-03 | 1.356487e-02 | 1.579747e-03 | 6.925949e-08 | 0.9918058905 | 2.432585e-08 | 3.458062e-03 | 1.260444e-02 | 1.433329e-03 | 5.997426e-08 | 0.991576007 | 2.106524e-08 |\n",
       "| 9.771524e-01 | 1.977133e-02 | 9.771524e-01 | 6.399627e-03 | 1.0000000000 | 6.399627e-03 | 9.762282e-01 | 1.780940e-02 | 9.762282e-01 | 5.637432e-03 | 1.000000000 | 5.637432e-03 |\n",
       "| 3.822300e-03 | 2.548735e-07 | 6.255020e-06 | 0.000000e+00 | 0.2306329869 | 0.000000e+00 | 4.252818e-03 | 3.371047e-07 | 7.809258e-06 | 0.000000e+00 | 0.237843858 | 0.000000e+00 |\n",
       "| 3.978321e-08 | 6.756396e-01 | 3.056280e-09 | 6.456220e-10 | 0.8965536184 | 4.822509e-11 | 2.919422e-08 | 6.646662e-01 | 2.211747e-09 | 4.634179e-10 | 0.892151527 | 3.279332e-11 |\n",
       "| 1.225607e-03 | 8.868867e-01 | 1.020296e-04 | 1.065148e-02 | 0.8738527734 | 1.110663e-03 | 8.338336e-04 | 8.772345e-01 | 6.281411e-05 | 8.016573e-03 | 0.863235159 | 7.524157e-04 |\n",
       "| 6.536579e-03 | 6.564993e-02 | 7.161551e-04 | 8.145458e-01 | 0.8881693330 | 3.861679e-01 | 7.253637e-03 | 6.963207e-02 | 8.290610e-04 | 8.188205e-01 | 0.890922498 | 3.948425e-01 |\n",
       "| 2.034311e-01 | 1.668659e-04 | 4.233658e-04 | 5.838755e-02 | 0.1091857621 | 9.922387e-01 | 2.019506e-01 | 1.655652e-04 | 4.191954e-04 | 5.777779e-02 | 0.108196013 | 9.921833e-01 |\n",
       "| 4.520887e-01 | 9.654404e-01 | 2.939834e-02 | 7.394849e-01 | 0.5168548996 | 8.981051e-02 | 4.022683e-01 | 9.594794e-01 | 1.917819e-02 | 7.047220e-01 | 0.468226760 | 6.587664e-02 |\n",
       "| 4.794386e-08 | 0.000000e+00 | 1.052080e-09 | 5.819845e-08 | 0.7253046766 | 2.597441e-06 | 6.232511e-08 | 0.000000e+00 | 1.456742e-09 | 7.541822e-08 | 0.729541252 | 3.167640e-06 |\n",
       "| 4.373998e-01 | 0.000000e+00 | 3.670260e-01 | 0.000000e+00 | 0.9992961389 | 0.000000e+00 | 4.395181e-01 | 0.000000e+00 | 3.691811e-01 | 0.000000e+00 | 0.999300624 | 0.000000e+00 |\n",
       "| 1.281226e-03 | 1.937582e-02 | 8.413023e-03 | 7.890930e-01 | 0.9230335057 | 9.902230e-01 | 1.292471e-03 | 1.939781e-02 | 8.438026e-03 | 7.887458e-01 | 0.922878079 | 9.902006e-01 |\n",
       "| 1.389183e-09 | 0.000000e+00 | 0.000000e+00 | 7.468428e-09 | 0.1271620142 | 2.468080e-05 | 1.656085e-09 | 0.000000e+00 | 0.000000e+00 | 8.727795e-09 | 0.128467686 | 2.652090e-05 |\n",
       "| 9.614494e-01 | 7.353306e-01 | 4.787428e-01 | 4.369561e-01 | 0.7751339670 | 7.693863e-02 | 9.608001e-01 | 7.318320e-01 | 4.737434e-01 | 4.319028e-01 | 0.772033591 | 7.468826e-02 |\n",
       "| 1.878302e-01 | 7.197192e-01 | 1.928372e-03 | 1.646841e-02 | 0.2896081262 | 6.071827e-05 | 1.566909e-01 | 6.902739e-01 | 1.120551e-03 | 1.117095e-02 | 0.251947621 | 2.856656e-05 |\n",
       "| 2.282788e-07 | 4.457953e-07 | 2.283854e-10 | 0.000000e+00 | 0.2464146184 | 0.000000e+00 | 2.261292e-07 | 4.402337e-07 | 2.360123e-10 | 0.000000e+00 | 0.243722120 | 0.000000e+00 |\n",
       "| 2.448686e-01 | 3.064732e-01 | 4.078150e-05 | 9.991118e-01 | 0.0158040967 | 1.090702e-02 | 2.257455e-01 | 2.858179e-01 | 2.752186e-05 | 9.990440e-01 | 0.012904725 | 8.779018e-03 |\n",
       "| 5.700178e-02 | 8.408306e-02 | 1.080785e-02 | 3.629056e-05 | 0.9172611439 | 3.717440e-06 | 6.024503e-02 | 8.824436e-02 | 1.176592e-02 | 4.364905e-05 | 0.919123002 | 4.653653e-06 |\n",
       "| 1.668506e-04 | 8.901579e-06 | 1.129722e-02 | 0.000000e+00 | 0.5322194660 | 6.781409e-11 | 1.588717e-04 | 8.474441e-06 | 1.089281e-02 | 0.000000e+00 | 0.528100139 | 6.730994e-11 |\n",
       "| 6.403489e-04 | 0.000000e+00 | 3.202972e-05 | 0.000000e+00 | 0.8109259471 | 0.000000e+00 | 7.438216e-04 | 0.000000e+00 | 3.939088e-05 | 0.000000e+00 | 0.815312902 | 0.000000e+00 |\n",
       "| 1.034162e-04 | 2.664483e-04 | 1.133749e-06 | 7.826517e-12 | 0.5815984975 | 0.000000e+00 | 1.229209e-04 | 3.113423e-04 | 1.462041e-06 | 1.383205e-11 | 0.588768437 | 0.000000e+00 |\n",
       "\n"
      ],
      "text/plain": [
       "      NLF-ELF      Serum-ELF    Sputum-ELF   Serum-NLF    Sputum-NLF  \n",
       " [1,] 1.968700e-03 4.410214e-03 3.555364e-10 7.453552e-09 0.0003218101\n",
       " [2,] 9.480993e-01 9.879747e-01 7.857588e-03 8.212921e-01 0.0338555690\n",
       " [3,] 3.777430e-03 1.356487e-02 1.579747e-03 6.925949e-08 0.9918058905\n",
       " [4,] 9.771524e-01 1.977133e-02 9.771524e-01 6.399627e-03 1.0000000000\n",
       " [5,] 3.822300e-03 2.548735e-07 6.255020e-06 0.000000e+00 0.2306329869\n",
       " [6,] 3.978321e-08 6.756396e-01 3.056280e-09 6.456220e-10 0.8965536184\n",
       " [7,] 1.225607e-03 8.868867e-01 1.020296e-04 1.065148e-02 0.8738527734\n",
       " [8,] 6.536579e-03 6.564993e-02 7.161551e-04 8.145458e-01 0.8881693330\n",
       " [9,] 2.034311e-01 1.668659e-04 4.233658e-04 5.838755e-02 0.1091857621\n",
       "[10,] 4.520887e-01 9.654404e-01 2.939834e-02 7.394849e-01 0.5168548996\n",
       "[11,] 4.794386e-08 0.000000e+00 1.052080e-09 5.819845e-08 0.7253046766\n",
       "[12,] 4.373998e-01 0.000000e+00 3.670260e-01 0.000000e+00 0.9992961389\n",
       "[13,] 1.281226e-03 1.937582e-02 8.413023e-03 7.890930e-01 0.9230335057\n",
       "[14,] 1.389183e-09 0.000000e+00 0.000000e+00 7.468428e-09 0.1271620142\n",
       "[15,] 9.614494e-01 7.353306e-01 4.787428e-01 4.369561e-01 0.7751339670\n",
       "[16,] 1.878302e-01 7.197192e-01 1.928372e-03 1.646841e-02 0.2896081262\n",
       "[17,] 2.282788e-07 4.457953e-07 2.283854e-10 0.000000e+00 0.2464146184\n",
       "[18,] 2.448686e-01 3.064732e-01 4.078150e-05 9.991118e-01 0.0158040967\n",
       "[19,] 5.700178e-02 8.408306e-02 1.080785e-02 3.629056e-05 0.9172611439\n",
       "[20,] 1.668506e-04 8.901579e-06 1.129722e-02 0.000000e+00 0.5322194660\n",
       "[21,] 6.403489e-04 0.000000e+00 3.202972e-05 0.000000e+00 0.8109259471\n",
       "[22,] 1.034162e-04 2.664483e-04 1.133749e-06 7.826517e-12 0.5815984975\n",
       "      Sputum-Serum NLF-ELF      Serum-ELF    Sputum-ELF   Serum-NLF   \n",
       " [1,] 0.000000e+00 2.098042e-03 4.659700e-03 4.617176e-10 9.268331e-09\n",
       " [2,] 3.017452e-03 9.492805e-01 9.882616e-01 8.589426e-03 8.249121e-01\n",
       " [3,] 2.432585e-08 3.458062e-03 1.260444e-02 1.433329e-03 5.997426e-08\n",
       " [4,] 6.399627e-03 9.762282e-01 1.780940e-02 9.762282e-01 5.637432e-03\n",
       " [5,] 0.000000e+00 4.252818e-03 3.371047e-07 7.809258e-06 0.000000e+00\n",
       " [6,] 4.822509e-11 2.919422e-08 6.646662e-01 2.211747e-09 4.634179e-10\n",
       " [7,] 1.110663e-03 8.338336e-04 8.772345e-01 6.281411e-05 8.016573e-03\n",
       " [8,] 3.861679e-01 7.253637e-03 6.963207e-02 8.290610e-04 8.188205e-01\n",
       " [9,] 9.922387e-01 2.019506e-01 1.655652e-04 4.191954e-04 5.777779e-02\n",
       "[10,] 8.981051e-02 4.022683e-01 9.594794e-01 1.917819e-02 7.047220e-01\n",
       "[11,] 2.597441e-06 6.232511e-08 0.000000e+00 1.456742e-09 7.541822e-08\n",
       "[12,] 0.000000e+00 4.395181e-01 0.000000e+00 3.691811e-01 0.000000e+00\n",
       "[13,] 9.902230e-01 1.292471e-03 1.939781e-02 8.438026e-03 7.887458e-01\n",
       "[14,] 2.468080e-05 1.656085e-09 0.000000e+00 0.000000e+00 8.727795e-09\n",
       "[15,] 7.693863e-02 9.608001e-01 7.318320e-01 4.737434e-01 4.319028e-01\n",
       "[16,] 6.071827e-05 1.566909e-01 6.902739e-01 1.120551e-03 1.117095e-02\n",
       "[17,] 0.000000e+00 2.261292e-07 4.402337e-07 2.360123e-10 0.000000e+00\n",
       "[18,] 1.090702e-02 2.257455e-01 2.858179e-01 2.752186e-05 9.990440e-01\n",
       "[19,] 3.717440e-06 6.024503e-02 8.824436e-02 1.176592e-02 4.364905e-05\n",
       "[20,] 6.781409e-11 1.588717e-04 8.474441e-06 1.089281e-02 0.000000e+00\n",
       "[21,] 0.000000e+00 7.438216e-04 0.000000e+00 3.939088e-05 0.000000e+00\n",
       "[22,] 0.000000e+00 1.229209e-04 3.113423e-04 1.462041e-06 1.383205e-11\n",
       "      Sputum-NLF  Sputum-Serum\n",
       " [1,] 0.000349861 0.000000e+00\n",
       " [2,] 0.036077866 3.353562e-03\n",
       " [3,] 0.991576007 2.106524e-08\n",
       " [4,] 1.000000000 5.637432e-03\n",
       " [5,] 0.237843858 0.000000e+00\n",
       " [6,] 0.892151527 3.279332e-11\n",
       " [7,] 0.863235159 7.524157e-04\n",
       " [8,] 0.890922498 3.948425e-01\n",
       " [9,] 0.108196013 9.921833e-01\n",
       "[10,] 0.468226760 6.587664e-02\n",
       "[11,] 0.729541252 3.167640e-06\n",
       "[12,] 0.999300624 0.000000e+00\n",
       "[13,] 0.922878079 9.902006e-01\n",
       "[14,] 0.128467686 2.652090e-05\n",
       "[15,] 0.772033591 7.468826e-02\n",
       "[16,] 0.251947621 2.856656e-05\n",
       "[17,] 0.243722120 0.000000e+00\n",
       "[18,] 0.012904725 8.779018e-03\n",
       "[19,] 0.919123002 4.653653e-06\n",
       "[20,] 0.528100139 6.730994e-11\n",
       "[21,] 0.815312902 0.000000e+00\n",
       "[22,] 0.588768437 0.000000e+00"
      ]
     },
     "metadata": {},
     "output_type": "display_data"
    }
   ],
   "source": [
    "allresults2 = cbind(tukey_anova_pvalue, tukey_ancova_age_pvalue)\n",
    "#going back to calculate padj values\n",
    "padj_tukey = apply(allresults2, 2, p.adjust, method = \"fdr\")"
   ]
  },
  {
   "cell_type": "code",
   "execution_count": 33,
   "metadata": {},
   "outputs": [],
   "source": [
    "write.csv(padj_tukey,'/Users/alexis/IEHS Dropbox/Rager Lab/Alexis_Payton/1_Compartment_Analysis/Expt1.1_DescriptiveStats/Output/tukey_padj.csv')"
   ]
  },
  {
   "cell_type": "markdown",
   "metadata": {},
   "source": [
    "# ANCOVA Plots"
   ]
  },
  {
   "cell_type": "code",
   "execution_count": 27,
   "metadata": {},
   "outputs": [
    {
     "name": "stderr",
     "output_type": "stream",
     "text": [
      "`summarise()` ungrouping output (override with `.groups` argument)\n",
      "\n"
     ]
    },
    {
     "data": {
      "image/png": "[encoded data removed]",
      "text/plain": [
       "plot without title"
      ]
     },
     "metadata": {
      "image/png": {
       "height": 420,
       "width": 900
      }
     },
     "output_type": "display_data"
    }
   ],
   "source": [
    "options(repr.plot.width=15, repr.plot.height=7)\n",
    "#ordering Compartments based on median value\n",
    "arranged_compartments_df = MIG_scaled_factored %>%\n",
    "    group_by(Compartment) %>%\n",
    "    summarize(median_concentration = median(Conc_pslog2)) %>%\n",
    "    arrange(-median_concentration) %>%\n",
    "    select(Compartment)\n",
    "\n",
    "arranged_compartments = arranged_compartments_df$Compartment\n",
    "compartments = factor(MIG_scaled_factored$Compartment, levels = arranged_compartments) #need to put descending_cytokines into a factor for plotting \n",
    "ggplot(MIG_scaled_factored, aes(x = compartments, y = Conc_pslog2)) +\n",
    "  geom_boxplot() +\n",
    "  geom_point(cex = 1.5, pch = 1.0,position = position_jitter(w = 0.1, h = 0)) "
   ]
  },
  {
   "cell_type": "code",
   "execution_count": null,
   "metadata": {},
   "outputs": [],
   "source": []
  }
 ],
 "metadata": {
  "kernelspec": {
   "display_name": "R",
   "language": "R",
   "name": "ir"
  },
  "language_info": {
   "codemirror_mode": "r",
   "file_extension": ".r",
   "mimetype": "text/x-r-source",
   "name": "R",
   "pygments_lexer": "r",
   "version": "4.0.2"
  }
 },
 "nbformat": 4,
 "nbformat_minor": 4
}
