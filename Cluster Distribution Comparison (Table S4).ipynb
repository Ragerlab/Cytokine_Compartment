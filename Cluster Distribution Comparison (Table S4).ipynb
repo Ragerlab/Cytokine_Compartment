{
 "cells": [
  {
   "cell_type": "code",
   "execution_count": 1,
   "metadata": {},
   "outputs": [
    {
     "name": "stderr",
     "output_type": "stream",
     "text": [
      "Loading required package: ggplot2\n",
      "\n",
      "Welcome! Want to learn more? See two factoextra-related books at https://goo.gl/ve3WBa\n",
      "\n",
      "Loading required package: randomForest\n",
      "\n",
      "randomForest 4.6-14\n",
      "\n",
      "Type rfNews() to see new features/changes/bug fixes.\n",
      "\n",
      "\n",
      "Attaching package: ‘randomForest’\n",
      "\n",
      "\n",
      "The following object is masked from ‘package:ggplot2’:\n",
      "\n",
      "    margin\n",
      "\n",
      "\n",
      "Loading required package: foreach\n",
      "\n",
      "Loading required package: itertools\n",
      "\n",
      "Loading required package: iterators\n",
      "\n",
      "── \u001b[1mAttaching packages\u001b[22m ─────────────────────────────────────── tidyverse 1.3.0 ──\n",
      "\n",
      "\u001b[32m✔\u001b[39m \u001b[34mtibble \u001b[39m 3.0.3     \u001b[32m✔\u001b[39m \u001b[34mdplyr  \u001b[39m 1.0.2\n",
      "\u001b[32m✔\u001b[39m \u001b[34mtidyr  \u001b[39m 1.1.2     \u001b[32m✔\u001b[39m \u001b[34mstringr\u001b[39m 1.4.0\n",
      "\u001b[32m✔\u001b[39m \u001b[34mreadr  \u001b[39m 1.3.1     \u001b[32m✔\u001b[39m \u001b[34mforcats\u001b[39m 0.5.0\n",
      "\u001b[32m✔\u001b[39m \u001b[34mpurrr  \u001b[39m 0.3.4     \n",
      "\n",
      "── \u001b[1mConflicts\u001b[22m ────────────────────────────────────────── tidyverse_conflicts() ──\n",
      "\u001b[31m✖\u001b[39m \u001b[34mpurrr\u001b[39m::\u001b[32maccumulate()\u001b[39m    masks \u001b[34mforeach\u001b[39m::accumulate()\n",
      "\u001b[31m✖\u001b[39m \u001b[34mdplyr\u001b[39m::\u001b[32mcombine()\u001b[39m       masks \u001b[34mrandomForest\u001b[39m::combine()\n",
      "\u001b[31m✖\u001b[39m \u001b[34mdplyr\u001b[39m::\u001b[32mfilter()\u001b[39m        masks \u001b[34mstats\u001b[39m::filter()\n",
      "\u001b[31m✖\u001b[39m \u001b[34mdplyr\u001b[39m::\u001b[32mlag()\u001b[39m           masks \u001b[34mstats\u001b[39m::lag()\n",
      "\u001b[31m✖\u001b[39m \u001b[34mrandomForest\u001b[39m::\u001b[32mmargin()\u001b[39m masks \u001b[34mggplot2\u001b[39m::margin()\n",
      "\u001b[31m✖\u001b[39m \u001b[34mpurrr\u001b[39m::\u001b[32mwhen()\u001b[39m          masks \u001b[34mforeach\u001b[39m::when()\n",
      "\n",
      "\n",
      "Attaching package: ‘janitor’\n",
      "\n",
      "\n",
      "The following objects are masked from ‘package:stats’:\n",
      "\n",
      "    chisq.test, fisher.test\n",
      "\n",
      "\n",
      "\n",
      "Attaching package: ‘reshape2’\n",
      "\n",
      "\n",
      "The following object is masked from ‘package:tidyr’:\n",
      "\n",
      "    smiths\n",
      "\n",
      "\n",
      "Loading required package: carData\n",
      "\n",
      "\n",
      "Attaching package: ‘car’\n",
      "\n",
      "\n",
      "The following object is masked from ‘package:dplyr’:\n",
      "\n",
      "    recode\n",
      "\n",
      "\n",
      "The following object is masked from ‘package:purrr’:\n",
      "\n",
      "    some\n",
      "\n",
      "\n"
     ]
    }
   ],
   "source": [
    "setwd(\"/Users/alexis/IEHS Dropbox/Rager Lab/Alexis_Payton/1_Compartment_Analysis/Expt1.3_Cluster Distribution Analyses/Input\")\n",
    "Output = ('/Users/alexis/IEHS Dropbox/Rager Lab/Alexis_Payton/1_Compartment_Analysis/Expt1.3_Cluster Distribution Analyses/Output')\n",
    "curdate = \"112520\"\n",
    "\n",
    "library(\"readxl\")\n",
    "library(factoextra)\n",
    "library(missForest)\n",
    "#library(plyr) #this must be loaded before tidyverse\n",
    "library(tidyverse)\n",
    "library(janitor)\n",
    "library(reshape2)\n",
    "library(car) #package necessary to run anova and specify type III errors\n",
    "\n",
    "#subject characteristics\n",
    "subjectinfo <-  read.csv(\"SubjectInfo_102920.csv\")"
   ]
  },
  {
   "cell_type": "markdown",
   "metadata": {},
   "source": [
    "First obtaining the eigencytokines."
   ]
  },
  {
   "cell_type": "code",
   "execution_count": 2,
   "metadata": {},
   "outputs": [],
   "source": [
    "#### Recoding subject characteristic values  \n",
    "subjectinfo$Sex <- ifelse(subjectinfo$Sex==\"M\", 1, 0) #coding Males as 1, Females as 0\n",
    "subjectinfo$Ethnicity <- ifelse(subjectinfo$Ethnicity==\"NH\", 0, 1) #coding NH as 0, H as 1\n",
    "\n",
    "#make categorical variables factors \n",
    "subjectinfo$Race <- factor(subjectinfo$Race, levels=c(\"W\", \"AA\", \"As\", \"O\"))\n",
    "subjectinfo$Group <- factor(subjectinfo$Group, levels=c(\"NS\", \"CS\", \"Ecig\"))"
   ]
  },
  {
   "cell_type": "code",
   "execution_count": 3,
   "metadata": {},
   "outputs": [
    {
     "name": "stderr",
     "output_type": "stream",
     "text": [
      "Warning message in row_to_names(., row_number = 1):\n",
      "“Row 1 does not provide unique names. Consider running clean_names() after row_to_names().”\n",
      "Warning message:\n",
      "“The `.data` argument of `add_column()` must have unique names as of tibble 3.0.0.\n",
      "Use `.name_repair = \"minimal\"`.\n",
      "\u001b[90mThis warning is displayed once every 8 hours.\u001b[39m\n",
      "\u001b[90mCall `lifecycle::last_warnings()` to see where this warning was generated.\u001b[39m”\n"
     ]
    }
   ],
   "source": [
    "#upload cytokine data for each compartment \n",
    "ELF_cyto <- read.csv(\"ELF_NonNorm_110220.csv\")\n",
    "NLF_cyto <- read.csv(\"NLF_NonNorm_110220.csv\")\n",
    "Serum_cyto <- read.csv(\"Serum_NonNorm_110220.csv\")\n",
    "Sputum_cyto <- read.csv(\"Sputum_NonNorm_110220.csv\")\n",
    "\n",
    "#transpose cytokine data for each compartment\n",
    "ELF_cyto <- as.data.frame(t(ELF_cyto)) %>% \n",
    "  row_to_names(row_number = 1)\n",
    "NLF_cyto <- as.data.frame(t(NLF_cyto)) %>% \n",
    "  row_to_names(row_number = 1)\n",
    "Serum_cyto <- as.data.frame(t(Serum_cyto)) %>% \n",
    "  row_to_names(row_number = 1)\n",
    "Sputum_cyto <- as.data.frame(t(Sputum_cyto)) %>% \n",
    "  row_to_names(row_number = 1)\n",
    "\n",
    "#cluster assignments for each compartment \n",
    "ELF_clus <- read.csv(\"ELF_cluster_assignments.csv\")\n",
    "NLF_clus <- read.csv(\"NLF_cluster_assignments.csv\")\n",
    "Serum_clus <- read.csv(\"Serum_cluster_assignments.csv\")\n",
    "Sputum_clus <- read.csv(\"Sputum_cluster_assignments.csv\")\n",
    "\n",
    "#renaming first column, grouping and splitting by \"Cluster\" column\n",
    "ELF_clus <- ELF_clus %>% \n",
    "  dplyr::rename(Cytokine = X) %>% \n",
    "  group_by(Cluster) %>% \n",
    "  group_split\n",
    "NLF_clus <- NLF_clus %>% \n",
    "  dplyr::rename(Cytokine = X) %>% \n",
    "  group_by(Cluster) %>% \n",
    "  group_split\n",
    "Serum_clus <- Serum_clus %>% \n",
    "  dplyr::rename(Cytokine = X) %>% \n",
    "  group_by(Cluster) %>% \n",
    "  group_split\n",
    "Sputum_clus <- Sputum_clus %>% \n",
    "  dplyr::rename(Cytokine = X) %>% \n",
    "  group_by(Cluster) %>% \n",
    "  group_split\n",
    "\n",
    "#making dfs for each cluster for PCA analysis \n",
    "ELF_1 <- ELF_clus[[1]]\n",
    "ELF_2 <- ELF_clus[[2]]\n",
    "ELF_3 <- ELF_clus[[3]]\n",
    "\n",
    "NLF_1 <- NLF_clus[[1]]\n",
    "NLF_2 <- NLF_clus[[2]]\n",
    "NLF_3 <- NLF_clus[[3]]\n",
    "\n",
    "Serum_1 <- Serum_clus[[1]]\n",
    "Serum_2 <- Serum_clus[[2]]\n",
    "Serum_3 <- Serum_clus[[3]]\n",
    "\n",
    "Sputum_1 <- Sputum_clus[[1]]\n",
    "Sputum_2 <- Sputum_clus[[2]]\n",
    "Sputum_3 <- Sputum_clus[[3]]\n",
    "\n",
    "#making df with subjects' cytokine concentration data for each cluster \n",
    "ELF_1 <- ELF_cyto %>% \n",
    "  rownames_to_column(\"Cytokine\") %>% \n",
    "  filter(Cytokine %in% ELF_1$Cytokine) %>% \n",
    "  column_to_rownames(var=\"Cytokine\")\n",
    "ELF_2 <- ELF_cyto %>% \n",
    "  rownames_to_column(\"Cytokine\") %>% \n",
    "  filter(Cytokine %in% ELF_2$Cytokine) %>% \n",
    "  column_to_rownames(var=\"Cytokine\")\n",
    "ELF_3 <- ELF_cyto %>% \n",
    "  rownames_to_column(\"Cytokine\") %>% \n",
    "  filter(Cytokine %in% ELF_3$Cytokine) %>% \n",
    "  column_to_rownames(var=\"Cytokine\")\n",
    "\n",
    "NLF_1 <- NLF_cyto %>% \n",
    "  rownames_to_column(\"Cytokine\") %>% \n",
    "  filter(Cytokine %in% NLF_1$Cytokine) %>% \n",
    "  column_to_rownames(var=\"Cytokine\")\n",
    "NLF_2 <- NLF_cyto %>% \n",
    "  rownames_to_column(\"Cytokine\") %>% \n",
    "  filter(Cytokine %in% NLF_2$Cytokine) %>% \n",
    "  column_to_rownames(var=\"Cytokine\")\n",
    "NLF_3 <- NLF_cyto %>% \n",
    "  rownames_to_column(\"Cytokine\") %>% \n",
    "  filter(Cytokine %in% NLF_3$Cytokine) %>% \n",
    "  column_to_rownames(var=\"Cytokine\")\n",
    "\n",
    "Serum_1 <- Serum_cyto %>% \n",
    "  rownames_to_column(\"Cytokine\") %>% \n",
    "  filter(Cytokine %in% Serum_1$Cytokine) %>% \n",
    "  column_to_rownames(var=\"Cytokine\")\n",
    "Serum_2 <- Serum_cyto %>% \n",
    "  rownames_to_column(\"Cytokine\") %>% \n",
    "  filter(Cytokine %in% Serum_2$Cytokine) %>% \n",
    "  column_to_rownames(var=\"Cytokine\")\n",
    "Serum_3 <- Serum_cyto %>% \n",
    "  rownames_to_column(\"Cytokine\") %>% \n",
    "  filter(Cytokine %in% Serum_3$Cytokine) %>% \n",
    "  column_to_rownames(var=\"Cytokine\")\n",
    "\n",
    "Sputum_1 <- Sputum_cyto %>% \n",
    "  rownames_to_column(\"Cytokine\") %>% \n",
    "  filter(Cytokine %in% Sputum_1$Cytokine) %>% \n",
    "  column_to_rownames(var=\"Cytokine\")\n",
    "Sputum_2 <- Sputum_cyto %>% \n",
    "  rownames_to_column(\"Cytokine\") %>% \n",
    "  filter(Cytokine %in% Sputum_2$Cytokine) %>% \n",
    "  column_to_rownames(var=\"Cytokine\")\n",
    "Sputum_3 <- Sputum_cyto %>% \n",
    "  rownames_to_column(\"Cytokine\") %>% \n",
    "  filter(Cytokine %in% Sputum_3$Cytokine) %>% \n",
    "  column_to_rownames(var=\"Cytokine\")\n",
    "\n",
    "#PCA on each cluster, eigenvectors are in rotation -- PROBLEM - for some reason had to convert everything to numeric  \n",
    "pca_ELF_1 <- ELF_1 %>% \n",
    "  lapply(as.numeric) %>% \n",
    "  as.data.frame() %>% \n",
    "  prcomp()\n",
    "pca_ELF_2 <- ELF_2 %>% \n",
    "  lapply(as.numeric) %>% \n",
    "  as.data.frame() %>% \n",
    "  prcomp()\n",
    "pca_ELF_3 <- ELF_3 %>% \n",
    "  lapply(as.numeric) %>% \n",
    "  as.data.frame() %>%   \n",
    "  prcomp()\n",
    "\n",
    "pca_NLF_1 <- NLF_1 %>% \n",
    "  lapply(as.numeric) %>% \n",
    "  as.data.frame() %>% \n",
    "  prcomp()\n",
    "pca_NLF_2 <- NLF_2 %>% \n",
    "  lapply(as.numeric) %>% \n",
    "  as.data.frame() %>% \n",
    "  prcomp()\n",
    "pca_NLF_3 <- NLF_3 %>% \n",
    "  lapply(as.numeric) %>% \n",
    "  as.data.frame() %>% \n",
    "  prcomp()\n",
    "\n",
    "pca_Serum_1 <- Serum_1 %>% \n",
    "  lapply(as.numeric) %>% \n",
    "  as.data.frame() %>% \n",
    "  prcomp()\n",
    "pca_Serum_2 <- Serum_2 %>% \n",
    "  lapply(as.numeric) %>% \n",
    "  as.data.frame() %>% \n",
    "  prcomp()\n",
    "pca_Serum_3 <- Serum_3 %>% \n",
    "  lapply(as.numeric) %>% \n",
    "  as.data.frame() %>% \n",
    "  prcomp()\n",
    "\n",
    "pca_Sputum_1 <- Sputum_1 %>% \n",
    "  lapply(as.numeric) %>% \n",
    "  as.data.frame() %>% \n",
    "  prcomp()\n",
    "pca_Sputum_2 <- Sputum_2 %>% \n",
    "  lapply(as.numeric) %>% \n",
    "  as.data.frame() %>% \n",
    "  prcomp()\n",
    "pca_Sputum_3 <- Sputum_3 %>% \n",
    "  lapply(as.numeric) %>% \n",
    "  as.data.frame() %>% \n",
    "  prcomp()\n",
    "\n",
    "#eigenvector dfs of first principal component \n",
    "eigencytokines_ELF_1 <- data.frame(pca_ELF_1$rotation[,\"PC1\"])\n",
    "  colnames(eigencytokines_ELF_1)[1] <- \"Cluster1\"\n",
    "eigencytokines_ELF_2 <- data.frame(pca_ELF_2$rotation[,\"PC1\"])\n",
    "  colnames(eigencytokines_ELF_2)[1] <- \"Cluster2\"\n",
    "eigencytokines_ELF_3 <- data.frame(pca_ELF_3$rotation[,\"PC1\"])\n",
    "  colnames(eigencytokines_ELF_3)[1] <- \"Cluster3\"\n",
    "\n",
    "eigencytokines_NLF_1 <- data.frame(pca_NLF_1$rotation[,\"PC1\"])\n",
    "  colnames(eigencytokines_NLF_1)[1] <- \"Cluster1\"\n",
    "eigencytokines_NLF_2 <- data.frame(pca_NLF_2$rotation[,\"PC1\"])\n",
    "  colnames(eigencytokines_NLF_2)[1] <- \"Cluster2\"\n",
    "eigencytokines_NLF_3 <- data.frame(pca_NLF_3$rotation[,\"PC1\"])\n",
    "  colnames(eigencytokines_NLF_3)[1] <- \"Cluster3\"\n",
    "  \n",
    "eigencytokines_Serum_1 <- data.frame(pca_Serum_1$rotation[,\"PC1\"])\n",
    "  colnames(eigencytokines_Serum_1)[1] <- \"Cluster1\"\n",
    "eigencytokines_Serum_2 <- data.frame(pca_Serum_2$rotation[,\"PC1\"])\n",
    "  colnames(eigencytokines_Serum_2)[1] <- \"Cluster2\"\n",
    "eigencytokines_Serum_3 <- data.frame(pca_Serum_3$rotation[,\"PC1\"])\n",
    "  colnames(eigencytokines_Serum_3)[1] <- \"Cluster3\"\n",
    "\n",
    "eigencytokines_Sputum_1 <- data.frame(pca_Sputum_1$rotation[,\"PC1\"])\n",
    "  colnames(eigencytokines_Sputum_1)[1] <- \"Cluster1\"\n",
    "eigencytokines_Sputum_2 <- data.frame(pca_Sputum_2$rotation[,\"PC1\"])\n",
    "  colnames(eigencytokines_Sputum_2)[1] <- \"Cluster2\"\n",
    "eigencytokines_Sputum_3 <- data.frame(pca_Sputum_3$rotation[,\"PC1\"])\n",
    "  colnames(eigencytokines_Sputum_3)[1] <- \"Cluster3\"\n",
    "  \n",
    "\n",
    "#collapse all eigencytokine dfs\n",
    "eigencytokines_ELF <- cbind(eigencytokines_ELF_1, eigencytokines_ELF_2, eigencytokines_ELF_3)\n",
    "eigencytokines_NLF <- cbind(eigencytokines_NLF_1, eigencytokines_NLF_2, eigencytokines_NLF_3)\n",
    "eigencytokines_Serum <- cbind(eigencytokines_Serum_1, eigencytokines_Serum_2, eigencytokines_Serum_3)\n",
    "eigencytokines_Sputum <- cbind(eigencytokines_Sputum_1, eigencytokines_Sputum_2, eigencytokines_Sputum_3)\n",
    "\n",
    "#scale all eigencytokine dfs\n",
    "eigencytokines_ELF_scaled <- as.data.frame(scale(eigencytokines_ELF))\n",
    "eigencytokines_NLF_scaled <- as.data.frame(scale(eigencytokines_NLF))\n",
    "eigencytokines_Serum_scaled <- as.data.frame(scale(eigencytokines_Serum))\n",
    "eigencytokines_Sputum_scaled <- as.data.frame(scale(eigencytokines_Sputum))"
   ]
  },
  {
   "cell_type": "code",
   "execution_count": 4,
   "metadata": {},
   "outputs": [
    {
     "data": {
      "text/html": [
       "<table>\n",
       "<caption>A data.frame: 6 × 3</caption>\n",
       "<thead>\n",
       "\t<tr><th></th><th scope=col>Cluster1</th><th scope=col>Cluster2</th><th scope=col>Cluster3</th></tr>\n",
       "\t<tr><th></th><th scope=col>&lt;dbl&gt;</th><th scope=col>&lt;dbl&gt;</th><th scope=col>&lt;dbl&gt;</th></tr>\n",
       "</thead>\n",
       "<tbody>\n",
       "\t<tr><th scope=row>CS_15</th><td> 0.59627288</td><td> 0.9146567</td><td>-0.4217487</td></tr>\n",
       "\t<tr><th scope=row>CS_16</th><td> 0.53333725</td><td>-1.3452712</td><td> 0.1464940</td></tr>\n",
       "\t<tr><th scope=row>CS_17</th><td>-0.33340986</td><td>-1.2136276</td><td> 0.3649891</td></tr>\n",
       "\t<tr><th scope=row>CS_18</th><td>-0.03844361</td><td> 0.6639576</td><td> 1.0542413</td></tr>\n",
       "\t<tr><th scope=row>CS_19</th><td> 1.24339651</td><td>-3.1775608</td><td> 0.1557776</td></tr>\n",
       "\t<tr><th scope=row>CS_20</th><td>-1.26478002</td><td>-0.1840008</td><td> 0.3135186</td></tr>\n",
       "</tbody>\n",
       "</table>\n"
      ],
      "text/latex": [
       "A data.frame: 6 × 3\n",
       "\\begin{tabular}{r|lll}\n",
       "  & Cluster1 & Cluster2 & Cluster3\\\\\n",
       "  & <dbl> & <dbl> & <dbl>\\\\\n",
       "\\hline\n",
       "\tCS\\_15 &  0.59627288 &  0.9146567 & -0.4217487\\\\\n",
       "\tCS\\_16 &  0.53333725 & -1.3452712 &  0.1464940\\\\\n",
       "\tCS\\_17 & -0.33340986 & -1.2136276 &  0.3649891\\\\\n",
       "\tCS\\_18 & -0.03844361 &  0.6639576 &  1.0542413\\\\\n",
       "\tCS\\_19 &  1.24339651 & -3.1775608 &  0.1557776\\\\\n",
       "\tCS\\_20 & -1.26478002 & -0.1840008 &  0.3135186\\\\\n",
       "\\end{tabular}\n"
      ],
      "text/markdown": [
       "\n",
       "A data.frame: 6 × 3\n",
       "\n",
       "| <!--/--> | Cluster1 &lt;dbl&gt; | Cluster2 &lt;dbl&gt; | Cluster3 &lt;dbl&gt; |\n",
       "|---|---|---|---|\n",
       "| CS_15 |  0.59627288 |  0.9146567 | -0.4217487 |\n",
       "| CS_16 |  0.53333725 | -1.3452712 |  0.1464940 |\n",
       "| CS_17 | -0.33340986 | -1.2136276 |  0.3649891 |\n",
       "| CS_18 | -0.03844361 |  0.6639576 |  1.0542413 |\n",
       "| CS_19 |  1.24339651 | -3.1775608 |  0.1557776 |\n",
       "| CS_20 | -1.26478002 | -0.1840008 |  0.3135186 |\n",
       "\n"
      ],
      "text/plain": [
       "      Cluster1    Cluster2   Cluster3  \n",
       "CS_15  0.59627288  0.9146567 -0.4217487\n",
       "CS_16  0.53333725 -1.3452712  0.1464940\n",
       "CS_17 -0.33340986 -1.2136276  0.3649891\n",
       "CS_18 -0.03844361  0.6639576  1.0542413\n",
       "CS_19  1.24339651 -3.1775608  0.1557776\n",
       "CS_20 -1.26478002 -0.1840008  0.3135186"
      ]
     },
     "metadata": {},
     "output_type": "display_data"
    }
   ],
   "source": [
    "head(eigencytokines_NLF_scaled)"
   ]
  },
  {
   "cell_type": "markdown",
   "metadata": {},
   "source": [
    "# One-way ANOVA"
   ]
  },
  {
   "cell_type": "code",
   "execution_count": 5,
   "metadata": {},
   "outputs": [
    {
     "data": {
      "image/png": "[encoded data removed]",
      "text/plain": [
       "Plot with title “Histogram of eigencytokines_NLF_scaled$Cluster1”"
      ]
     },
     "metadata": {
      "image/png": {
       "height": 420,
       "width": 420
      }
     },
     "output_type": "display_data"
    }
   ],
   "source": [
    "#testing for normality\n",
    "hist(eigencytokines_NLF_scaled$Cluster1)"
   ]
  },
  {
   "cell_type": "code",
   "execution_count": 6,
   "metadata": {},
   "outputs": [
    {
     "name": "stderr",
     "output_type": "stream",
     "text": [
      "Joining, by = \"SubjectID\"\n",
      "\n",
      "Joining, by = \"SubjectID\"\n",
      "\n",
      "Joining, by = \"SubjectID\"\n",
      "\n",
      "Joining, by = \"SubjectID\"\n",
      "\n"
     ]
    }
   ],
   "source": [
    "#adding a col to designate smoking status \n",
    "eigen_NLF_scaled = eigencytokines_NLF_scaled %>%\n",
    "    rownames_to_column(\"SubjectID\") %>%\n",
    "    inner_join(subjectinfo) %>%\n",
    "    select(SubjectID, Cluster1, Cluster2, Cluster3, Group, Age)\n",
    "eigen_ELF_scaled = eigencytokines_ELF_scaled %>%\n",
    "    rownames_to_column(\"SubjectID\") %>%\n",
    "    inner_join(subjectinfo) %>%\n",
    "    select(SubjectID, Cluster1, Cluster2, Cluster3, Group, Age)\n",
    "eigen_Sputum_scaled = eigencytokines_Sputum_scaled %>%\n",
    "    rownames_to_column(\"SubjectID\") %>%\n",
    "    inner_join(subjectinfo) %>%\n",
    "    select(SubjectID, Cluster1, Cluster2, Cluster3, Group, Age)\n",
    "eigen_Serum_scaled = eigencytokines_Serum_scaled %>%\n",
    "    rownames_to_column(\"SubjectID\") %>%\n",
    "    inner_join(subjectinfo) %>%\n",
    "    select(SubjectID, Cluster1, Cluster2, Cluster3, Group, Age)"
   ]
  },
  {
   "cell_type": "code",
   "execution_count": 7,
   "metadata": {},
   "outputs": [
    {
     "data": {
      "text/html": [
       "<table>\n",
       "<caption>A data.frame: 6 × 6</caption>\n",
       "<thead>\n",
       "\t<tr><th></th><th scope=col>SubjectID</th><th scope=col>Cluster1</th><th scope=col>Cluster2</th><th scope=col>Cluster3</th><th scope=col>Group</th><th scope=col>Age</th></tr>\n",
       "\t<tr><th></th><th scope=col>&lt;chr&gt;</th><th scope=col>&lt;dbl&gt;</th><th scope=col>&lt;dbl&gt;</th><th scope=col>&lt;dbl&gt;</th><th scope=col>&lt;fct&gt;</th><th scope=col>&lt;int&gt;</th></tr>\n",
       "</thead>\n",
       "<tbody>\n",
       "\t<tr><th scope=row>1</th><td>CS_15</td><td> 0.59627288</td><td> 0.9146567</td><td>-0.4217487</td><td>CS</td><td>34</td></tr>\n",
       "\t<tr><th scope=row>2</th><td>CS_16</td><td> 0.53333725</td><td>-1.3452712</td><td> 0.1464940</td><td>CS</td><td>33</td></tr>\n",
       "\t<tr><th scope=row>3</th><td>CS_17</td><td>-0.33340986</td><td>-1.2136276</td><td> 0.3649891</td><td>CS</td><td>24</td></tr>\n",
       "\t<tr><th scope=row>4</th><td>CS_18</td><td>-0.03844361</td><td> 0.6639576</td><td> 1.0542413</td><td>CS</td><td>33</td></tr>\n",
       "\t<tr><th scope=row>5</th><td>CS_19</td><td> 1.24339651</td><td>-3.1775608</td><td> 0.1557776</td><td>CS</td><td>29</td></tr>\n",
       "\t<tr><th scope=row>6</th><td>CS_20</td><td>-1.26478002</td><td>-0.1840008</td><td> 0.3135186</td><td>CS</td><td>25</td></tr>\n",
       "</tbody>\n",
       "</table>\n"
      ],
      "text/latex": [
       "A data.frame: 6 × 6\n",
       "\\begin{tabular}{r|llllll}\n",
       "  & SubjectID & Cluster1 & Cluster2 & Cluster3 & Group & Age\\\\\n",
       "  & <chr> & <dbl> & <dbl> & <dbl> & <fct> & <int>\\\\\n",
       "\\hline\n",
       "\t1 & CS\\_15 &  0.59627288 &  0.9146567 & -0.4217487 & CS & 34\\\\\n",
       "\t2 & CS\\_16 &  0.53333725 & -1.3452712 &  0.1464940 & CS & 33\\\\\n",
       "\t3 & CS\\_17 & -0.33340986 & -1.2136276 &  0.3649891 & CS & 24\\\\\n",
       "\t4 & CS\\_18 & -0.03844361 &  0.6639576 &  1.0542413 & CS & 33\\\\\n",
       "\t5 & CS\\_19 &  1.24339651 & -3.1775608 &  0.1557776 & CS & 29\\\\\n",
       "\t6 & CS\\_20 & -1.26478002 & -0.1840008 &  0.3135186 & CS & 25\\\\\n",
       "\\end{tabular}\n"
      ],
      "text/markdown": [
       "\n",
       "A data.frame: 6 × 6\n",
       "\n",
       "| <!--/--> | SubjectID &lt;chr&gt; | Cluster1 &lt;dbl&gt; | Cluster2 &lt;dbl&gt; | Cluster3 &lt;dbl&gt; | Group &lt;fct&gt; | Age &lt;int&gt; |\n",
       "|---|---|---|---|---|---|---|\n",
       "| 1 | CS_15 |  0.59627288 |  0.9146567 | -0.4217487 | CS | 34 |\n",
       "| 2 | CS_16 |  0.53333725 | -1.3452712 |  0.1464940 | CS | 33 |\n",
       "| 3 | CS_17 | -0.33340986 | -1.2136276 |  0.3649891 | CS | 24 |\n",
       "| 4 | CS_18 | -0.03844361 |  0.6639576 |  1.0542413 | CS | 33 |\n",
       "| 5 | CS_19 |  1.24339651 | -3.1775608 |  0.1557776 | CS | 29 |\n",
       "| 6 | CS_20 | -1.26478002 | -0.1840008 |  0.3135186 | CS | 25 |\n",
       "\n"
      ],
      "text/plain": [
       "  SubjectID Cluster1    Cluster2   Cluster3   Group Age\n",
       "1 CS_15      0.59627288  0.9146567 -0.4217487 CS    34 \n",
       "2 CS_16      0.53333725 -1.3452712  0.1464940 CS    33 \n",
       "3 CS_17     -0.33340986 -1.2136276  0.3649891 CS    24 \n",
       "4 CS_18     -0.03844361  0.6639576  1.0542413 CS    33 \n",
       "5 CS_19      1.24339651 -3.1775608  0.1557776 CS    29 \n",
       "6 CS_20     -1.26478002 -0.1840008  0.3135186 CS    25 "
      ]
     },
     "metadata": {},
     "output_type": "display_data"
    }
   ],
   "source": [
    "head(eigen_NLF_scaled)"
   ]
  },
  {
   "cell_type": "code",
   "execution_count": 8,
   "metadata": {},
   "outputs": [
    {
     "data": {
      "text/html": [
       "<table>\n",
       "<caption>A matrix: 3 × 2 of type dbl</caption>\n",
       "<thead>\n",
       "\t<tr><th></th><th scope=col>CS</th><th scope=col>Ecig</th></tr>\n",
       "</thead>\n",
       "<tbody>\n",
       "\t<tr><th scope=row>NS</th><td>0</td><td>0</td></tr>\n",
       "\t<tr><th scope=row>CS</th><td>1</td><td>0</td></tr>\n",
       "\t<tr><th scope=row>Ecig</th><td>0</td><td>1</td></tr>\n",
       "</tbody>\n",
       "</table>\n"
      ],
      "text/latex": [
       "A matrix: 3 × 2 of type dbl\n",
       "\\begin{tabular}{r|ll}\n",
       "  & CS & Ecig\\\\\n",
       "\\hline\n",
       "\tNS & 0 & 0\\\\\n",
       "\tCS & 1 & 0\\\\\n",
       "\tEcig & 0 & 1\\\\\n",
       "\\end{tabular}\n"
      ],
      "text/markdown": [
       "\n",
       "A matrix: 3 × 2 of type dbl\n",
       "\n",
       "| <!--/--> | CS | Ecig |\n",
       "|---|---|---|\n",
       "| NS | 0 | 0 |\n",
       "| CS | 1 | 0 |\n",
       "| Ecig | 0 | 1 |\n",
       "\n"
      ],
      "text/plain": [
       "     CS Ecig\n",
       "NS   0  0   \n",
       "CS   1  0   \n",
       "Ecig 0  1   "
      ]
     },
     "metadata": {},
     "output_type": "display_data"
    }
   ],
   "source": [
    "#now I can run the anova comparing each group to one another within each cluster\n",
    "#contrasts show what compartments are being compared in anova\n",
    "#these comparisons aren't what we want so I changed them in the function below\n",
    "contrasts(eigen_NLF_scaled$Group)"
   ]
  },
  {
   "cell_type": "markdown",
   "metadata": {},
   "source": [
    "                 Table of Contrasts\n",
    ">                   NS    | CS  |  Ecig  |  Sum\n",
    ">     Contrast 1 |  -1    |  1  |   0    |   0\n",
    ">     Contrast 2 |  -1    |  0  |   1    |   0\n",
    "\n",
    "> - Contrast 1: compares NS to CS\n",
    "> - Contrast 2: compares NS to Ecig"
   ]
  },
  {
   "cell_type": "code",
   "execution_count": 9,
   "metadata": {},
   "outputs": [],
   "source": [
    "get_anova1 = function(scaled_df){\n",
    "    contrasts(scaled_df$Group) = cbind(c(-1,1,0),c(-1,0,1)) #meaning is specified above\n",
    "    anova = aov(Cluster1~Group, data = scaled_df)\n",
    "    return(anova)\n",
    "}\n",
    "get_anova2 = function(scaled_df){\n",
    "    contrasts(scaled_df$Group) = cbind(c(-1,1,0),c(-1,0,1)) #meaning is specified above\n",
    "    anova = aov(Cluster2~Group, data = scaled_df)\n",
    "    return(anova)\n",
    "}\n",
    "\n",
    "get_anova3 = function(scaled_df){\n",
    "    contrasts(scaled_df$Group) = cbind(c(-1,1,0),c(-1,0,1)) #meaning is specified above\n",
    "    anova = aov(Cluster3~Group, data = scaled_df)\n",
    "    return(anova)\n",
    "}\n",
    "\n",
    "\n",
    "#calling fn\n",
    "NLF_Cluster1_anova = get_anova1(eigen_NLF_scaled)\n",
    "NLF_Cluster2_anova = get_anova2(eigen_NLF_scaled)\n",
    "NLF_Cluster3_anova = get_anova3(eigen_NLF_scaled)\n",
    "ELF_Cluster1_anova = get_anova1(eigen_ELF_scaled)\n",
    "ELF_Cluster2_anova = get_anova2(eigen_ELF_scaled)\n",
    "ELF_Cluster3_anova = get_anova3(eigen_ELF_scaled)\n",
    "Sputum_Cluster1_anova = get_anova1(eigen_Sputum_scaled)\n",
    "Sputum_Cluster2_anova = get_anova2(eigen_Sputum_scaled)\n",
    "Sputum_Cluster3_anova = get_anova3(eigen_Sputum_scaled)\n",
    "Serum_Cluster1_anova = get_anova1(eigen_Serum_scaled)\n",
    "Serum_Cluster2_anova = get_anova2(eigen_Serum_scaled)\n",
    "Serum_Cluster3_anova = get_anova3(eigen_Serum_scaled)"
   ]
  },
  {
   "cell_type": "code",
   "execution_count": 10,
   "metadata": {},
   "outputs": [
    {
     "data": {
      "text/plain": [
       "            Df Sum Sq Mean Sq F value Pr(>F)\n",
       "Group        2   1.47  0.7345   0.725   0.49\n",
       "Residuals   41  41.53  1.0129               "
      ]
     },
     "metadata": {},
     "output_type": "display_data"
    },
    {
     "data": {
      "text/plain": [
       "            Df Sum Sq Mean Sq F value Pr(>F)\n",
       "Group        2   1.35  0.6754   0.665   0.52\n",
       "Residuals   41  41.65  1.0158               "
      ]
     },
     "metadata": {},
     "output_type": "display_data"
    },
    {
     "data": {
      "text/plain": [
       "            Df Sum Sq Mean Sq F value Pr(>F)\n",
       "Group        2   0.65  0.3264   0.316  0.731\n",
       "Residuals   41  42.35  1.0329               "
      ]
     },
     "metadata": {},
     "output_type": "display_data"
    },
    {
     "data": {
      "text/plain": [
       "            Df Sum Sq Mean Sq F value Pr(>F)\n",
       "Group        2   1.34  0.6724   0.662  0.521\n",
       "Residuals   41  41.66  1.0160               "
      ]
     },
     "metadata": {},
     "output_type": "display_data"
    },
    {
     "data": {
      "text/plain": [
       "            Df Sum Sq Mean Sq F value Pr(>F)\n",
       "Group        2   0.49  0.2438   0.235  0.792\n",
       "Residuals   41  42.51  1.0369               "
      ]
     },
     "metadata": {},
     "output_type": "display_data"
    },
    {
     "data": {
      "text/plain": [
       "            Df Sum Sq Mean Sq F value Pr(>F)  \n",
       "Group        2   5.79  2.8972   3.193 0.0514 .\n",
       "Residuals   41  37.21  0.9075                 \n",
       "---\n",
       "Signif. codes:  0 ‘***’ 0.001 ‘**’ 0.01 ‘*’ 0.05 ‘.’ 0.1 ‘ ’ 1"
      ]
     },
     "metadata": {},
     "output_type": "display_data"
    },
    {
     "data": {
      "text/plain": [
       "            Df Sum Sq Mean Sq F value Pr(>F)\n",
       "Group        2   0.75  0.3768   0.366  0.696\n",
       "Residuals   41  42.25  1.0304               "
      ]
     },
     "metadata": {},
     "output_type": "display_data"
    },
    {
     "data": {
      "text/plain": [
       "            Df Sum Sq Mean Sq F value Pr(>F)\n",
       "Group        2   1.69  0.8455   0.839  0.439\n",
       "Residuals   41  41.31  1.0075               "
      ]
     },
     "metadata": {},
     "output_type": "display_data"
    },
    {
     "data": {
      "text/plain": [
       "            Df Sum Sq Mean Sq F value Pr(>F)\n",
       "Group        2   0.06  0.0289   0.028  0.973\n",
       "Residuals   41  42.94  1.0474               "
      ]
     },
     "metadata": {},
     "output_type": "display_data"
    },
    {
     "data": {
      "text/plain": [
       "            Df Sum Sq Mean Sq F value Pr(>F)\n",
       "Group        2    0.9  0.4478   0.429  0.654\n",
       "Residuals   40   41.8  1.0451               "
      ]
     },
     "metadata": {},
     "output_type": "display_data"
    },
    {
     "data": {
      "text/plain": [
       "            Df Sum Sq Mean Sq F value Pr(>F)\n",
       "Group        2   0.66  0.3315   0.331   0.72\n",
       "Residuals   40  40.04  1.0011               "
      ]
     },
     "metadata": {},
     "output_type": "display_data"
    },
    {
     "data": {
      "text/plain": [
       "            Df Sum Sq Mean Sq F value Pr(>F)\n",
       "Group        2   0.52   0.262   0.247  0.782\n",
       "Residuals   40  42.39   1.060               "
      ]
     },
     "metadata": {},
     "output_type": "display_data"
    }
   ],
   "source": [
    "#viewing results\n",
    "summary(NLF_Cluster1_anova)\n",
    "summary(NLF_Cluster2_anova)\n",
    "summary(NLF_Cluster3_anova)\n",
    "summary(ELF_Cluster1_anova)\n",
    "summary(ELF_Cluster2_anova)\n",
    "summary(ELF_Cluster3_anova) #this was the only that was even close to being significant\n",
    "summary(Sputum_Cluster1_anova)\n",
    "summary(Sputum_Cluster2_anova)\n",
    "summary(Sputum_Cluster3_anova)\n",
    "summary(Serum_Cluster1_anova)\n",
    "summary(Serum_Cluster2_anova)\n",
    "summary(Serum_Cluster3_anova)"
   ]
  },
  {
   "cell_type": "code",
   "execution_count": 11,
   "metadata": {},
   "outputs": [],
   "source": [
    "# Tukey's post hoc\n",
    "NLF_Cluster1_tukey_anova = TukeyHSD(NLF_Cluster1_anova, type = 'III')\n",
    "NLF_Cluster2_tukey_anova = TukeyHSD(NLF_Cluster2_anova, type = 'III')\n",
    "NLF_Cluster3_tukey_anova = TukeyHSD(NLF_Cluster3_anova, type = 'III')\n",
    "ELF_Cluster1_tukey_anova = TukeyHSD(ELF_Cluster1_anova, type = 'III')\n",
    "ELF_Cluster2_tukey_anova = TukeyHSD(ELF_Cluster2_anova, type = 'III')\n",
    "ELF_Cluster3_tukey_anova = TukeyHSD(ELF_Cluster3_anova, type = 'III')\n",
    "Sputum_Cluster1_tukey_anova = TukeyHSD(Sputum_Cluster1_anova, type = 'III')\n",
    "Sputum_Cluster2_tukey_anova = TukeyHSD(Sputum_Cluster2_anova, type = 'III')\n",
    "Sputum_Cluster3_tukey_anova = TukeyHSD(Sputum_Cluster3_anova, type = 'III')\n",
    "Serum_Cluster1_tukey_anova = TukeyHSD(Serum_Cluster1_anova, type = 'III')\n",
    "Serum_Cluster2_tukey_anova = TukeyHSD(Serum_Cluster2_anova, type = 'III')\n",
    "Serum_Cluster3_tukey_anova = TukeyHSD(Serum_Cluster3_anova, type = 'III')"
   ]
  },
  {
   "cell_type": "markdown",
   "metadata": {},
   "source": [
    "# ANCOVA"
   ]
  },
  {
   "cell_type": "code",
   "execution_count": 12,
   "metadata": {},
   "outputs": [],
   "source": [
    "#controlling for age\n",
    "get_ancova_age1 = function(scaled_df){\n",
    "    #don't need anymore\n",
    "    contrasts(scaled_df$Group) = cbind(c(-1,1,0),c(-1,0,1))#meaning is explained above\n",
    "    ancova = aov(Cluster1~Age+Group, data = scaled_df)\n",
    "    return(ancova)\n",
    "}\n",
    "get_ancova_age2 = function(scaled_df){\n",
    "    #don't need anymore\n",
    "    contrasts(scaled_df$Group) = cbind(c(-1,1,0),c(-1,0,1)) #meaning is explained above\n",
    "    ancova = aov(Cluster2~Age+Group, data = scaled_df)\n",
    "    return(ancova)\n",
    "}\n",
    "get_ancova_age3 = function(scaled_df){\n",
    "    #don't need anymore\n",
    "    contrasts(scaled_df$Group) = cbind(c(-1,1,0),c(-1,0,1)) #meaning is explained above\n",
    "    ancova = aov(Cluster3~Age+Group, data = scaled_df)\n",
    "    return(ancova)\n",
    "}\n",
    "\n",
    "#calling fn\n",
    "NLF_Cluster1_ancova_age = get_ancova_age1(eigen_NLF_scaled)\n",
    "NLF_Cluster2_ancova_age = get_ancova_age2(eigen_NLF_scaled)\n",
    "NLF_Cluster3_ancova_age = get_ancova_age3(eigen_NLF_scaled)\n",
    "ELF_Cluster1_ancova_age = get_ancova_age1(eigen_ELF_scaled)\n",
    "ELF_Cluster2_ancova_age = get_ancova_age2(eigen_ELF_scaled)\n",
    "ELF_Cluster3_ancova_age = get_ancova_age3(eigen_ELF_scaled)\n",
    "Sputum_Cluster1_ancova_age = get_ancova_age1(eigen_Sputum_scaled)\n",
    "Sputum_Cluster2_ancova_age = get_ancova_age2(eigen_Sputum_scaled)\n",
    "Sputum_Cluster3_ancova_age = get_ancova_age3(eigen_Sputum_scaled)\n",
    "Serum_Cluster1_ancova_age = get_ancova_age1(eigen_Serum_scaled)\n",
    "Serum_Cluster2_ancova_age = get_ancova_age2(eigen_Serum_scaled)\n",
    "Serum_Cluster3_ancova_age = get_ancova_age3(eigen_Serum_scaled)"
   ]
  },
  {
   "cell_type": "code",
   "execution_count": 13,
   "metadata": {
    "collapsed": true
   },
   "outputs": [
    {
     "data": {
      "text/plain": [
       "            Df Sum Sq Mean Sq F value Pr(>F)\n",
       "Age          1   0.47  0.4658   0.456  0.503\n",
       "Group        2   1.72  0.8592   0.842  0.438\n",
       "Residuals   40  40.82  1.0204               "
      ]
     },
     "metadata": {},
     "output_type": "display_data"
    },
    {
     "data": {
      "text/plain": [
       "            Df Sum Sq Mean Sq F value Pr(>F)\n",
       "Age          1   0.51  0.5109   0.493  0.487\n",
       "Group        2   1.02  0.5094   0.491  0.615\n",
       "Residuals   40  41.47  1.0368               "
      ]
     },
     "metadata": {},
     "output_type": "display_data"
    },
    {
     "data": {
      "text/plain": [
       "            Df Sum Sq Mean Sq F value Pr(>F)\n",
       "Age          1   0.00  0.0029   0.003  0.959\n",
       "Group        2   0.66  0.3305   0.312  0.734\n",
       "Residuals   40  42.34  1.0584               "
      ]
     },
     "metadata": {},
     "output_type": "display_data"
    },
    {
     "data": {
      "text/plain": [
       "            Df Sum Sq Mean Sq F value Pr(>F)\n",
       "Age          1   0.07  0.0675   0.065  0.800\n",
       "Group        2   1.39  0.6961   0.670  0.517\n",
       "Residuals   40  41.54  1.0385               "
      ]
     },
     "metadata": {},
     "output_type": "display_data"
    },
    {
     "data": {
      "text/plain": [
       "            Df Sum Sq Mean Sq F value Pr(>F)\n",
       "Age          1   0.71  0.7087   0.682  0.414\n",
       "Group        2   0.74  0.3685   0.355  0.704\n",
       "Residuals   40  41.55  1.0389               "
      ]
     },
     "metadata": {},
     "output_type": "display_data"
    },
    {
     "data": {
      "text/plain": [
       "            Df Sum Sq Mean Sq F value Pr(>F)  \n",
       "Age          1   0.58  0.5789   0.623  0.435  \n",
       "Group        2   5.23  2.6149   2.812  0.072 .\n",
       "Residuals   40  37.19  0.9298                 \n",
       "---\n",
       "Signif. codes:  0 ‘***’ 0.001 ‘**’ 0.01 ‘*’ 0.05 ‘.’ 0.1 ‘ ’ 1"
      ]
     },
     "metadata": {},
     "output_type": "display_data"
    },
    {
     "data": {
      "text/plain": [
       "            Df Sum Sq Mean Sq F value Pr(>F)\n",
       "Age          1   0.48  0.4791   0.457  0.503\n",
       "Group        2   0.57  0.2845   0.271  0.764\n",
       "Residuals   40  41.95  1.0488               "
      ]
     },
     "metadata": {},
     "output_type": "display_data"
    },
    {
     "data": {
      "text/plain": [
       "            Df Sum Sq Mean Sq F value Pr(>F)\n",
       "Age          1   0.67  0.6659    0.66  0.421\n",
       "Group        2   2.00  0.9985    0.99  0.380\n",
       "Residuals   40  40.34  1.0084               "
      ]
     },
     "metadata": {},
     "output_type": "display_data"
    },
    {
     "data": {
      "text/plain": [
       "            Df Sum Sq Mean Sq F value Pr(>F)\n",
       "Age          1   1.57  1.5705   1.533  0.223\n",
       "Group        2   0.45  0.2248   0.219  0.804\n",
       "Residuals   40  40.98  1.0245               "
      ]
     },
     "metadata": {},
     "output_type": "display_data"
    },
    {
     "data": {
      "text/plain": [
       "            Df Sum Sq Mean Sq F value Pr(>F)\n",
       "Age          1   0.82  0.8237   0.783  0.382\n",
       "Group        2   0.87  0.4365   0.415  0.663\n",
       "Residuals   39  41.00  1.0514               "
      ]
     },
     "metadata": {},
     "output_type": "display_data"
    },
    {
     "data": {
      "text/plain": [
       "            Df Sum Sq Mean Sq F value Pr(>F)  \n",
       "Age          1   3.27   3.272   3.571 0.0662 .\n",
       "Group        2   1.70   0.848   0.926 0.4047  \n",
       "Residuals   39  35.74   0.916                 \n",
       "---\n",
       "Signif. codes:  0 ‘***’ 0.001 ‘**’ 0.01 ‘*’ 0.05 ‘.’ 0.1 ‘ ’ 1"
      ]
     },
     "metadata": {},
     "output_type": "display_data"
    },
    {
     "data": {
      "text/plain": [
       "            Df Sum Sq Mean Sq F value Pr(>F)  \n",
       "Age          1   3.57   3.571   3.705 0.0616 .\n",
       "Group        2   1.76   0.878   0.911 0.4105  \n",
       "Residuals   39  37.59   0.964                 \n",
       "---\n",
       "Signif. codes:  0 ‘***’ 0.001 ‘**’ 0.01 ‘*’ 0.05 ‘.’ 0.1 ‘ ’ 1"
      ]
     },
     "metadata": {},
     "output_type": "display_data"
    }
   ],
   "source": [
    "#viewing results\n",
    "summary(NLF_Cluster1_ancova_age)\n",
    "summary(NLF_Cluster2_ancova_age)\n",
    "summary(NLF_Cluster3_ancova_age)\n",
    "summary(ELF_Cluster1_ancova_age)\n",
    "summary(ELF_Cluster2_ancova_age)\n",
    "summary(ELF_Cluster3_ancova_age)\n",
    "summary(Sputum_Cluster1_ancova_age)\n",
    "summary(Sputum_Cluster2_ancova_age)\n",
    "summary(Sputum_Cluster3_ancova_age)\n",
    "summary(Serum_Cluster1_ancova_age)\n",
    "summary(Serum_Cluster2_ancova_age)\n",
    "summary(Serum_Cluster3_ancova_age)"
   ]
  },
  {
   "cell_type": "code",
   "execution_count": 14,
   "metadata": {},
   "outputs": [
    {
     "name": "stderr",
     "output_type": "stream",
     "text": [
      "Loading required package: mvtnorm\n",
      "\n",
      "Warning message:\n",
      "“package ‘mvtnorm’ was built under R version 4.0.3”\n",
      "Loading required package: survival\n",
      "\n",
      "Loading required package: TH.data\n",
      "\n",
      "Loading required package: MASS\n",
      "\n",
      "\n",
      "Attaching package: ‘MASS’\n",
      "\n",
      "\n",
      "The following object is masked from ‘package:dplyr’:\n",
      "\n",
      "    select\n",
      "\n",
      "\n",
      "\n",
      "Attaching package: ‘TH.data’\n",
      "\n",
      "\n",
      "The following object is masked from ‘package:MASS’:\n",
      "\n",
      "    geyser\n",
      "\n",
      "\n"
     ]
    }
   ],
   "source": [
    "library(multcomp)"
   ]
  },
  {
   "cell_type": "code",
   "execution_count": 16,
   "metadata": {},
   "outputs": [
    {
     "data": {
      "text/plain": [
       "\n",
       "\t Simultaneous Tests for General Linear Hypotheses\n",
       "\n",
       "Multiple Comparisons of Means: Tukey Contrasts\n",
       "\n",
       "\n",
       "Fit: aov(formula = Cluster1 ~ Age + Group, data = scaled_df)\n",
       "\n",
       "Linear Hypotheses:\n",
       "                Estimate Std. Error t value Pr(>|t|)\n",
       "CS - NS == 0   -0.425026   0.389173  -1.092    0.524\n",
       "Ecig - NS == 0 -0.433080   0.377954  -1.146    0.492\n",
       "Ecig - CS == 0 -0.008054   0.387683  -0.021    1.000\n",
       "(Adjusted p values reported -- single-step method)\n"
      ]
     },
     "metadata": {},
     "output_type": "display_data"
    }
   ],
   "source": [
    "# Tukey's post hoc\n",
    "NLF_Cluster1_tukey_ancova = glht(NLF_Cluster1_ancova_age, linfct=mcp(Group = \"Tukey\")) \n",
    "summary(NLF_Cluster1_tukey_ancova)"
   ]
  },
  {
   "cell_type": "code",
   "execution_count": null,
   "metadata": {},
   "outputs": [],
   "source": []
  }
 ],
 "metadata": {
  "kernelspec": {
   "display_name": "R",
   "language": "R",
   "name": "ir"
  },
  "language_info": {
   "codemirror_mode": "r",
   "file_extension": ".r",
   "mimetype": "text/x-r-source",
   "name": "R",
   "pygments_lexer": "r",
   "version": "4.0.2"
  }
 },
 "nbformat": 4,
 "nbformat_minor": 4
}
